{
 "cells": [
  {
   "cell_type": "code",
   "execution_count": 54,
   "id": "a227299d",
   "metadata": {
    "ExecuteTime": {
     "end_time": "2022-05-24T00:31:13.954865Z",
     "start_time": "2022-05-24T00:31:13.730433Z"
    }
   },
   "outputs": [],
   "source": [
    "import numpy as np\n",
    "import pandas as pd\n",
    "import random\n",
    "import os\n",
    "import warnings\n",
    "warnings.filterwarnings('ignore')\n",
    "\n",
    "train_df = pd.read_csv('input/train.csv')\n",
    "test_df = pd.read_csv('input/test.csv')"
   ]
  },
  {
   "cell_type": "code",
   "execution_count": 55,
   "id": "0d7f7c7d",
   "metadata": {
    "ExecuteTime": {
     "end_time": "2022-05-24T00:31:14.476683Z",
     "start_time": "2022-05-24T00:31:14.463268Z"
    }
   },
   "outputs": [],
   "source": [
    "def fix_seed(seed):\n",
    "    random.seed(seed)\n",
    "    np.random.seed(seed)\n",
    "    os.environ[\"PYTHONHASHSEED\"] = str(seed)\n",
    "\n",
    "SEED = 42\n",
    "fix_seed(SEED)"
   ]
  },
  {
   "cell_type": "code",
   "execution_count": 59,
   "id": "225a0ab4",
   "metadata": {
    "ExecuteTime": {
     "end_time": "2022-05-24T00:31:17.125031Z",
     "start_time": "2022-05-24T00:31:17.109181Z"
    }
   },
   "outputs": [
    {
     "data": {
      "text/plain": [
       "0.5036236051995858"
      ]
     },
     "execution_count": 59,
     "metadata": {},
     "output_type": "execute_result"
    }
   ],
   "source": [
    "train_df.loc[train_df.Transported==True].shape[0]/train_df.shape[0] #没有样本不均衡的问题"
   ]
  },
  {
   "cell_type": "code",
   "execution_count": 60,
   "id": "1eb95428",
   "metadata": {
    "ExecuteTime": {
     "end_time": "2022-05-24T00:31:17.885952Z",
     "start_time": "2022-05-24T00:31:17.706901Z"
    }
   },
   "outputs": [],
   "source": [
    "full_df = train_df.append(test_df, ignore_index=True)"
   ]
  },
  {
   "cell_type": "code",
   "execution_count": 61,
   "id": "fd8ef06f",
   "metadata": {
    "ExecuteTime": {
     "end_time": "2022-05-24T00:31:18.289524Z",
     "start_time": "2022-05-24T00:31:18.273021Z"
    }
   },
   "outputs": [],
   "source": [
    "full_df['HomePlanet'] = full_df['HomePlanet'].fillna('Earth')\n",
    "full_df['CryoSleep'] = full_df['CryoSleep'].fillna(True)"
   ]
  },
  {
   "cell_type": "code",
   "execution_count": 62,
   "id": "13995a99",
   "metadata": {
    "ExecuteTime": {
     "end_time": "2022-05-24T00:31:18.875057Z",
     "start_time": "2022-05-24T00:31:18.836988Z"
    }
   },
   "outputs": [],
   "source": [
    "full_df.loc[full_df.Cabin.notna(), 'Cabin_beck'] = \\\n",
    "         full_df.loc[full_df.Cabin.notna(), 'Cabin'].astype(str).map(lambda x: x.split('/')[0])\n",
    "full_df.loc[full_df.Cabin.notna(), 'Cabin_side'] = \\\n",
    "         full_df.loc[full_df.Cabin.notna(), 'Cabin'].astype(str).map(lambda x: x.split('/')[2])                                                                                                                                                   "
   ]
  },
  {
   "cell_type": "code",
   "execution_count": 63,
   "id": "89e3d430",
   "metadata": {
    "ExecuteTime": {
     "end_time": "2022-05-24T00:31:19.452545Z",
     "start_time": "2022-05-24T00:31:19.440073Z"
    }
   },
   "outputs": [],
   "source": [
    "full_df['Cabin_beck'] = full_df['Cabin_beck'].fillna('F')\n",
    "full_df['Cabin_side'] = full_df['Cabin_side'].fillna('P')"
   ]
  },
  {
   "cell_type": "code",
   "execution_count": 64,
   "id": "611e9905",
   "metadata": {
    "ExecuteTime": {
     "end_time": "2022-05-24T00:31:20.026593Z",
     "start_time": "2022-05-24T00:31:20.017234Z"
    }
   },
   "outputs": [],
   "source": [
    "full_df['Destination'] = full_df['Destination'].fillna('TRAPPIST-1e')"
   ]
  },
  {
   "cell_type": "code",
   "execution_count": 65,
   "id": "24a1c337",
   "metadata": {
    "ExecuteTime": {
     "end_time": "2022-05-24T00:31:20.599473Z",
     "start_time": "2022-05-24T00:31:20.586556Z"
    }
   },
   "outputs": [],
   "source": [
    "full_df['Age'].fillna(full_df.Age.mean(), inplace=True)"
   ]
  },
  {
   "cell_type": "code",
   "execution_count": 66,
   "id": "65d67795",
   "metadata": {
    "ExecuteTime": {
     "end_time": "2022-05-24T00:31:21.155521Z",
     "start_time": "2022-05-24T00:31:21.145608Z"
    }
   },
   "outputs": [],
   "source": [
    "full_df['VIP'].fillna(False, inplace=True)"
   ]
  },
  {
   "cell_type": "code",
   "execution_count": 67,
   "id": "bae99837",
   "metadata": {
    "ExecuteTime": {
     "end_time": "2022-05-24T00:31:21.706472Z",
     "start_time": "2022-05-24T00:31:21.685414Z"
    }
   },
   "outputs": [],
   "source": [
    "full_df['RoomService'].fillna(full_df.RoomService.mode()[0], inplace=True)\n",
    "full_df['FoodCourt'].fillna(full_df.FoodCourt.mode()[0], inplace=True)\n",
    "full_df['ShoppingMall'].fillna(full_df.ShoppingMall.mode()[0], inplace=True)\n",
    "full_df['Spa'].fillna(full_df.Spa.mode()[0], inplace=True)\n",
    "full_df['VRDeck'].fillna(full_df.VRDeck.mode()[0], inplace=True)"
   ]
  },
  {
   "cell_type": "code",
   "execution_count": 70,
   "id": "db32a020",
   "metadata": {
    "ExecuteTime": {
     "end_time": "2022-05-24T00:31:23.588550Z",
     "start_time": "2022-05-24T00:31:23.578720Z"
    }
   },
   "outputs": [],
   "source": [
    "from sklearn.preprocessing import LabelEncoder"
   ]
  },
  {
   "cell_type": "code",
   "execution_count": 71,
   "id": "f12e7812",
   "metadata": {
    "ExecuteTime": {
     "end_time": "2022-05-24T00:31:24.239411Z",
     "start_time": "2022-05-24T00:31:24.228900Z"
    }
   },
   "outputs": [],
   "source": [
    "full_data = full_df.copy()"
   ]
  },
  {
   "cell_type": "code",
   "execution_count": 72,
   "id": "35e56819",
   "metadata": {
    "ExecuteTime": {
     "end_time": "2022-05-24T00:31:24.880735Z",
     "start_time": "2022-05-24T00:31:24.848329Z"
    }
   },
   "outputs": [],
   "source": [
    "columns = [\"HomePlanet\", \"CryoSleep\", \"Destination\", \"VIP\", \"Cabin_beck\", \"Cabin_side\"]\n",
    "for column in columns:\n",
    "    labelencoder = LabelEncoder()\n",
    "    full_data[column] = labelencoder.fit_transform(full_data[column])"
   ]
  },
  {
   "cell_type": "code",
   "execution_count": 74,
   "id": "dbd70a80",
   "metadata": {
    "ExecuteTime": {
     "end_time": "2022-05-24T00:31:26.525375Z",
     "start_time": "2022-05-24T00:31:26.497483Z"
    }
   },
   "outputs": [],
   "source": [
    "FEATURES = [\"HomePlanet\", \"CryoSleep\", \"Destination\", \"Age\", \"VIP\", \"RoomService\", \\\n",
    "            \"FoodCourt\", \"ShoppingMall\", \"Spa\", \"VRDeck\", \"Cabin_beck\", \"Cabin_side\"]\n",
    "TARGET = [\"Transported\"]\n",
    "FEATURES_TARGET = FEATURES + TARGET\n",
    "\n",
    "train = full_data[full_data.Transported.notna()][FEATURES_TARGET]\n",
    "train[\"Transported\"] = train.Transported.astype(int)\n",
    "\n",
    "X_test = full_data[full_data.Transported.isna()][FEATURES]"
   ]
  },
  {
   "cell_type": "code",
   "execution_count": 78,
   "id": "69336395",
   "metadata": {
    "ExecuteTime": {
     "end_time": "2022-05-24T00:31:40.009028Z",
     "start_time": "2022-05-24T00:31:40.001786Z"
    }
   },
   "outputs": [],
   "source": [
    "from sklearn.model_selection import StratifiedKFold\n",
    "from sklearn.metrics import accuracy_score"
   ]
  },
  {
   "cell_type": "code",
   "execution_count": null,
   "id": "a6775353",
   "metadata": {
    "ExecuteTime": {
     "end_time": "2022-05-24T00:42:18.258492Z",
     "start_time": "2022-05-24T00:42:18.229826Z"
    }
   },
   "outputs": [],
   "source": [
    "folds = train.copy()\n",
    "fold = StratifiedKFold(n_splits=5, shuffle=True, random_state=42) #shuffle就是打乱了数据集，然后分成五份\n",
    "for n, (train_index, val_index) in enumerate(fold.split(folds, folds[\"Transported\"])):\n",
    "    folds.loc[val_index, \"fold\"] = int(n)\n",
    "folds[\"fold\"] = folds.fold.astype(int)\n",
    "folds.groupby(['fold', 'Transported']).size()"
   ]
  },
  {
   "cell_type": "markdown",
   "id": "0bf6953f",
   "metadata": {},
   "source": [
    "1. Kfold with LightGBM "
   ]
  },
  {
   "cell_type": "code",
   "execution_count": null,
   "id": "1a0c3a49",
   "metadata": {},
   "outputs": [],
   "source": [
    "import lightgbm as lgb\n",
    "import os\n",
    "os.environ[\"KMP_DUPLICATE_LIB_OK\"] = \"TRUE\""
   ]
  },
  {
   "cell_type": "code",
   "execution_count": 103,
   "id": "aec29be6",
   "metadata": {
    "ExecuteTime": {
     "end_time": "2022-05-24T01:23:13.097425Z",
     "start_time": "2022-05-24T01:23:05.842588Z"
    }
   },
   "outputs": [
    {
     "name": "stdout",
     "output_type": "stream",
     "text": [
      "Training until validation scores don't improve for 100 rounds\n",
      "[50]\tvalid_0's auc: 0.891947\n",
      "[100]\tvalid_0's auc: 0.894789\n",
      "[150]\tvalid_0's auc: 0.893187\n",
      "[200]\tvalid_0's auc: 0.892006\n",
      "Early stopping, best iteration is:\n",
      "[104]\tvalid_0's auc: 0.894801\n",
      "Training until validation scores don't improve for 100 rounds\n",
      "[50]\tvalid_0's auc: 0.878752\n",
      "[100]\tvalid_0's auc: 0.88506\n",
      "[150]\tvalid_0's auc: 0.884762\n",
      "[200]\tvalid_0's auc: 0.884697\n",
      "Early stopping, best iteration is:\n",
      "[138]\tvalid_0's auc: 0.885426\n",
      "Training until validation scores don't improve for 100 rounds\n",
      "[50]\tvalid_0's auc: 0.88681\n",
      "[100]\tvalid_0's auc: 0.890884\n",
      "[150]\tvalid_0's auc: 0.889636\n",
      "Early stopping, best iteration is:\n",
      "[93]\tvalid_0's auc: 0.891048\n",
      "Training until validation scores don't improve for 100 rounds\n",
      "[50]\tvalid_0's auc: 0.892081\n",
      "[100]\tvalid_0's auc: 0.896471\n",
      "[150]\tvalid_0's auc: 0.895156\n",
      "Early stopping, best iteration is:\n",
      "[90]\tvalid_0's auc: 0.896829\n",
      "Training until validation scores don't improve for 100 rounds\n",
      "[50]\tvalid_0's auc: 0.876683\n",
      "[100]\tvalid_0's auc: 0.880203\n",
      "[150]\tvalid_0's auc: 0.879284\n",
      "[200]\tvalid_0's auc: 0.877765\n",
      "Early stopping, best iteration is:\n",
      "[120]\tvalid_0's auc: 0.880828\n"
     ]
    }
   ],
   "source": [
    "scores = []\n",
    "scores_best = []\n",
    "y_pred_pro = []\n",
    "\n",
    "\n",
    "for i in range(5):\n",
    "\n",
    "    fix_seed(SEED)\n",
    "    \n",
    "    p_train = folds[folds.fold != i]\n",
    "    p_val = folds[folds.fold == i]\n",
    "\n",
    "    p_train = p_train.reset_index(drop=True)\n",
    "    p_val = p_val.reset_index(drop=True)\n",
    "\n",
    "    dtrain = lgb.Dataset(p_train[FEATURES], p_train[TARGET])\n",
    "    dvalid = lgb.Dataset(p_val[FEATURES], p_val[TARGET])\n",
    "\n",
    "    params = {'objective': 'binary',\n",
    "              'seed': 42,\n",
    "              'metric': 'auc',\n",
    "              'learning_rate': 0.05,\n",
    "              'num_leaves': 40,\n",
    "              'verbose':-1,\n",
    "              'deterministic': True\n",
    "              }\n",
    "\n",
    "    lgbm = lgb.train(params, dtrain, num_boost_round=1000, valid_sets=dvalid, \n",
    "                    early_stopping_rounds=100,  verbose_eval=50)\n",
    "    \n",
    "    oof_pred = lgbm.predict(p_val[FEATURES])\n",
    "    oof_pred = np.where(oof_pred >= 0.5, 1, 0)\n",
    "    score = accuracy_score(p_val[TARGET], oof_pred)\n",
    "    scores.append(score)\n",
    "\n",
    "# 验证了一下，num_iteration=model.best_iteration不需要加    \n",
    "#     oof_pred2 = lgbm.predict(p_val[FEATURES], num_iteration=lgbm.best_iteration)\n",
    "#     oof_pred2 = np.where(oof_pred2 >= 0.5, 1, 0)\n",
    "#     score2 = accuracy_score(p_val[TARGET], oof_pred2)\n",
    "#     scores_best.append(score2)\n",
    "\n",
    "    y_pred = lgbm.predict(X_test, num_iteration=lgbm.best_iteration)\n",
    "    y_pred_pro.append(y_pred)\n"
   ]
  },
  {
   "cell_type": "code",
   "execution_count": 120,
   "id": "4e3fe5ed",
   "metadata": {
    "ExecuteTime": {
     "end_time": "2022-05-24T01:30:15.926835Z",
     "start_time": "2022-05-24T01:30:15.909177Z"
    }
   },
   "outputs": [],
   "source": [
    "y_pred_all = np.mean(y_pred_pro, axis=0)\n",
    "y_pred_all = np.where(y_pred >= 0.5, 1, 0)\n",
    "y_pred_all = y_pred_all.astype(bool)\n",
    "output = pd.DataFrame({'PassengerId': test_df.PassengerId, 'Transported': y_pred_all})\n",
    "output.to_csv('output/lightgbm_submission_ver02.csv', index=False)"
   ]
  },
  {
   "cell_type": "markdown",
   "id": "3b0a01c2",
   "metadata": {},
   "source": [
    "2. Optuna : Optimization of hyper parameters of Light GBM"
   ]
  },
  {
   "cell_type": "code",
   "execution_count": 122,
   "id": "ee067c96",
   "metadata": {
    "ExecuteTime": {
     "end_time": "2022-05-24T02:06:15.140187Z",
     "start_time": "2022-05-24T02:06:15.124514Z"
    }
   },
   "outputs": [],
   "source": [
    "import optuna.integration.lightgbm as lgbo"
   ]
  },
  {
   "cell_type": "code",
   "execution_count": null,
   "id": "8aa405ec",
   "metadata": {},
   "outputs": [],
   "source": [
    "p_train = folds[folds.fold != 0]\n",
    "p_val = folds[folds.fold == 0]\n",
    "\n",
    "p_train = p_train.reset_index(drop=True)\n",
    "p_val = p_val.reset_index(drop=True)\n",
    "\n",
    "dtrain = lgbo.Dataset(p_train[FEATURES], p_train[TARGET])\n",
    "dvalid = lgbo.Dataset(p_val[FEATURES], p_val[TARGET])\n",
    "\n",
    "params = {\n",
    "        'objective': 'binary', \n",
    "        \"seed\":42,\n",
    "        'metric': \"auc\",\n",
    "        \"verbose\":-1,\n",
    "        \"deterministic\":True}\n",
    "\n",
    "booster = lgbo.LightGBMTuner(params, dtrain, num_boost_round=1000, valid_sets=dvalid, \n",
    "                early_stopping_rounds=100,  verbose_eval=50, optuna_seed=42)\n",
    "\n",
    "booster.run()\n",
    "\n",
    "lgbm_model = booster.get_best_booster()"
   ]
  },
  {
   "cell_type": "code",
   "execution_count": 126,
   "id": "5c827ff5",
   "metadata": {
    "ExecuteTime": {
     "end_time": "2022-05-24T02:17:55.488740Z",
     "start_time": "2022-05-24T02:17:55.480987Z"
    }
   },
   "outputs": [
    {
     "data": {
      "text/plain": [
       "{'objective': 'binary',\n",
       " 'seed': 42,\n",
       " 'metric': 'auc',\n",
       " 'verbose': -1,\n",
       " 'deterministic': True,\n",
       " 'feature_pre_filter': False,\n",
       " 'lambda_l1': 0.0,\n",
       " 'lambda_l2': 0.0,\n",
       " 'num_leaves': 31,\n",
       " 'feature_fraction': 0.7,\n",
       " 'bagging_fraction': 1.0,\n",
       " 'bagging_freq': 0,\n",
       " 'min_child_samples': 20,\n",
       " 'num_iterations': 1000,\n",
       " 'early_stopping_round': 100}"
      ]
     },
     "execution_count": 126,
     "metadata": {},
     "output_type": "execute_result"
    }
   ],
   "source": [
    "lgbm_model.params"
   ]
  },
  {
   "cell_type": "code",
   "execution_count": 128,
   "id": "8a51e612",
   "metadata": {
    "ExecuteTime": {
     "end_time": "2022-05-24T02:19:03.311860Z",
     "start_time": "2022-05-24T02:19:03.289451Z"
    }
   },
   "outputs": [
    {
     "data": {
      "text/plain": [
       "0.8142610695802185"
      ]
     },
     "execution_count": 128,
     "metadata": {},
     "output_type": "execute_result"
    }
   ],
   "source": [
    "oof_pred = lgbm_model.predict(p_val[FEATURES])\n",
    "oof_pred = np.where(oof_pred >= 0.5, 1, 0)\n",
    "score = accuracy_score(p_val[TARGET], oof_pred)\n",
    "score"
   ]
  },
  {
   "cell_type": "code",
   "execution_count": null,
   "id": "b813c3b4",
   "metadata": {},
   "outputs": [],
   "source": [
    "y_pred = lgbm_model.predict(X_test)"
   ]
  },
  {
   "cell_type": "code",
   "execution_count": 131,
   "id": "993697d1",
   "metadata": {
    "ExecuteTime": {
     "end_time": "2022-05-24T02:23:04.768295Z",
     "start_time": "2022-05-24T02:23:04.747290Z"
    }
   },
   "outputs": [],
   "source": [
    "y_pred = np.where(y_pred >= 0.5, 1, 0)\n",
    "y_pred = y_pred.astype(bool)\n",
    "output = pd.DataFrame({'PassengerId': test_df.PassengerId, 'Transported': y_pred})\n",
    "output.to_csv('output/lightgbm_submission_ver02_optuna.csv', index=False)"
   ]
  },
  {
   "cell_type": "markdown",
   "id": "d67baaf5",
   "metadata": {
    "ExecuteTime": {
     "end_time": "2022-05-24T06:08:15.921115Z",
     "start_time": "2022-05-24T06:08:15.913049Z"
    }
   },
   "source": [
    "3. Kfold with optuna"
   ]
  },
  {
   "cell_type": "code",
   "execution_count": 136,
   "id": "c02da5e9",
   "metadata": {
    "ExecuteTime": {
     "end_time": "2022-05-24T06:53:41.696555Z",
     "start_time": "2022-05-24T06:53:41.687024Z"
    }
   },
   "outputs": [],
   "source": [
    "import optuna"
   ]
  },
  {
   "cell_type": "code",
   "execution_count": 143,
   "id": "5895b330",
   "metadata": {
    "ExecuteTime": {
     "end_time": "2022-05-24T07:04:55.764133Z",
     "start_time": "2022-05-24T07:04:55.747844Z"
    }
   },
   "outputs": [],
   "source": [
    "def objective_fold(num):    \n",
    "    \n",
    "    def objective(trial):\n",
    "        \n",
    "        for fold in range(5):\n",
    "            if fold != num:\n",
    "                continue\n",
    "                \n",
    "            p_train = folds[folds.fold != fold]\n",
    "            p_val = folds[folds.fold == fold]\n",
    "\n",
    "            p_train = p_train.reset_index(drop=True)\n",
    "            p_val = p_val.reset_index(drop=True)\n",
    "\n",
    "            dtrain = lgbo.Dataset(p_train[FEATURES], p_train[TARGET])\n",
    "            dvalid = lgbo.Dataset(p_val[FEATURES], p_val[TARGET])\n",
    "\n",
    "\n",
    "            lambda_l1 = trial.suggest_loguniform('lambda_l1', 1e-8, 10.0)\n",
    "            lambda_l2 = trial.suggest_loguniform('lambda_l2', 1e-8, 10.0)\n",
    "\n",
    "            learning_rate = trial.suggest_uniform('learning_rate', 0, 0.3)\n",
    "\n",
    "            feature_fraction = trial.suggest_uniform('feature_fraction', 0, 1.0)\n",
    "\n",
    "            bagging_fraction = trial.suggest_uniform('bagging_fraction', 0, 1.0)\n",
    "            bagging_freq = trial.suggest_int('bagging_freq', 5, 500)\n",
    "\n",
    "            num_leaves = trial.suggest_int('num_leaves', 5, 1000)\n",
    "            num_iterations = trial.suggest_int('num_iterations', 5, 1000)\n",
    "\n",
    "            min_child_samples = trial.suggest_int('min_child_samples', 5, 500)\n",
    "            min_child_weight = trial.suggest_int('min_child_weight', 5, 500)\n",
    "\n",
    "            max_depth = trial.suggest_int('max_depth', 5, 100)\n",
    "\n",
    "            lgbm_params = {\n",
    "                           'objective': 'binary', \n",
    "                           'seed': 42, \n",
    "                           'metric': 'None', # Change here \n",
    "                           'lambda_l1': lambda_l1,\n",
    "                           'lambda_l2': lambda_l2,\n",
    "                           'learning_rate': learning_rate,\n",
    "                           'feature_fraction': feature_fraction,\n",
    "                           'bagging_fraction': bagging_fraction,\n",
    "                           'bagging_freq': bagging_freq,\n",
    "                           'num_leaves': num_leaves,\n",
    "                           'num_iterations': num_iterations,\n",
    "                           'min_child_samples': min_child_samples,\n",
    "                           'min_child_weight': min_child_weight,\n",
    "                           'max_depth': max_depth,\n",
    "                           'verbosity': -1,\n",
    "                           'deterministic':True\n",
    "                            }\n",
    "            model = lgb.train(params, dtrain, num_boost_round=1000, valid_sets=dvalid, \n",
    "                              early_stopping_rounds=100, verbose_eval=50)\n",
    "\n",
    "            oof_pred = model.predict(p_val[FEATURES])\n",
    "            oof_pred2 = np.where(oof_pred >= 0.5, 1, 0)\n",
    "            score = accuracy_score(p_val[TARGET], oof_pred2)\n",
    "            \n",
    "        return score\n",
    "        \n",
    "    return objective"
   ]
  },
  {
   "cell_type": "code",
   "execution_count": null,
   "id": "dbc469e2",
   "metadata": {},
   "outputs": [],
   "source": [
    "scores = []\n",
    "all_preds = []\n",
    "\n",
    "for fold in range(5):\n",
    "    study = optuna.create_study(direction=\"maximize\", sampler=optuna.samplers.TPESampler(seed=42))\n",
    "    study.optimize(objective_fold(fold), n_trials=100)\n",
    "    trial = study.best_trial\n",
    "    \n",
    "    lgbm_params = {\n",
    "                   'objective': 'binary', \n",
    "                   'seed': 42, \n",
    "                   'metric': 'None', # Change here \n",
    "                   'verbose':-1,\n",
    "                   'deterministic':True\n",
    "                  }\n",
    "    lgbm_params.update(**lgbm_params, **trial.params)\n",
    "    \n",
    "    p_train = folds[folds[\"fold\"] != fold]\n",
    "    p_val = folds[folds[\"fold\"] == fold]\n",
    "\n",
    "    p_train = p_train.reset_index(drop=True)\n",
    "    p_val = p_val.reset_index(drop=True)\n",
    "\n",
    "    dtrain = lgb.Dataset(p_train[FEATURES], p_train[TARGET])\n",
    "    dvalid = lgb.Dataset(p_val[FEATURES], p_val[TARGET])\n",
    "    \n",
    "    model = lgb.train(params, dtrain, num_boost_round=1000, valid_sets=dvalid, \n",
    "                      early_stopping_rounds=100, verbose_eval=50)\n",
    "    \n",
    "    oof_pred = model.predict(p_val[FEATURES])\n",
    "    oof_pred = np.where(oof_pred >= 0.5, 1, 0)\n",
    "    score = accuracy_score(p_val[TARGET], oof_pred)\n",
    "    scores.append(score)\n",
    "\n",
    "\n",
    "    y_pred = model.predict(X_test, num_iteration=model.best_iteration)\n",
    "    all_preds.append(y_pred)"
   ]
  },
  {
   "cell_type": "code",
   "execution_count": 156,
   "id": "5eb86183",
   "metadata": {
    "ExecuteTime": {
     "end_time": "2022-05-24T07:34:00.802993Z",
     "start_time": "2022-05-24T07:34:00.778897Z"
    }
   },
   "outputs": [],
   "source": [
    "all_pred = np.mean(all_preds, axis=0)\n",
    "y_pred = np.where(all_pred >= 0.5, 1, 0)\n",
    "y_pred = y_pred.astype(bool)\n",
    "output = pd.DataFrame({'PassengerId': test_df.PassengerId, 'Transported': y_pred})\n",
    "output.to_csv('output/lightgbm_submission_ver02_optuna_kfold.csv', index=False)"
   ]
  }
 ],
 "metadata": {
  "kernelspec": {
   "display_name": "Python 3 (ipykernel)",
   "language": "python",
   "name": "python3"
  },
  "language_info": {
   "codemirror_mode": {
    "name": "ipython",
    "version": 3
   },
   "file_extension": ".py",
   "mimetype": "text/x-python",
   "name": "python",
   "nbconvert_exporter": "python",
   "pygments_lexer": "ipython3",
   "version": "3.10.4"
  },
  "toc": {
   "base_numbering": 1,
   "nav_menu": {},
   "number_sections": true,
   "sideBar": true,
   "skip_h1_title": false,
   "title_cell": "Table of Contents",
   "title_sidebar": "Contents",
   "toc_cell": false,
   "toc_position": {},
   "toc_section_display": true,
   "toc_window_display": false
  }
 },
 "nbformat": 4,
 "nbformat_minor": 5
}
