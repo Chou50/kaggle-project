{
 "cells": [
  {
   "cell_type": "code",
   "execution_count": 122,
   "id": "52d30df1",
   "metadata": {
    "ExecuteTime": {
     "end_time": "2022-08-08T07:08:24.998541Z",
     "start_time": "2022-08-08T07:08:24.991610Z"
    }
   },
   "outputs": [],
   "source": [
    "import numpy as np\n",
    "import pandas as pd\n",
    "import os\n",
    "import warnings\n",
    "warnings.filterwarnings('ignore')"
   ]
  },
  {
   "cell_type": "code",
   "execution_count": 2,
   "id": "ce311607",
   "metadata": {
    "ExecuteTime": {
     "end_time": "2022-08-06T00:22:56.049342Z",
     "start_time": "2022-08-06T00:22:55.523513Z"
    }
   },
   "outputs": [],
   "source": [
    "train_data = pd.read_csv('input/train.csv')\n",
    "test_data = pd.read_csv('input/test.csv')"
   ]
  },
  {
   "cell_type": "code",
   "execution_count": 3,
   "id": "55d7a052",
   "metadata": {
    "ExecuteTime": {
     "end_time": "2022-08-06T00:23:02.266213Z",
     "start_time": "2022-08-06T00:23:02.173530Z"
    }
   },
   "outputs": [],
   "source": [
    "train_data = train_data.fillna(0)\n",
    "test_data = test_data.fillna(0)"
   ]
  },
  {
   "cell_type": "code",
   "execution_count": 4,
   "id": "405c6e96",
   "metadata": {
    "ExecuteTime": {
     "end_time": "2022-08-06T00:23:13.048652Z",
     "start_time": "2022-08-06T00:23:11.751574Z"
    }
   },
   "outputs": [],
   "source": [
    "from sklearn.preprocessing import LabelEncoder\n",
    "\n",
    "le = LabelEncoder()\n",
    "le.fit(train_data['Location'])\n",
    "train_data['Location'] = le.transform(train_data['Location'])\n",
    "test_data['Location'] = le.transform(test_data['Location'])"
   ]
  },
  {
   "cell_type": "code",
   "execution_count": 5,
   "id": "86a066fa",
   "metadata": {
    "ExecuteTime": {
     "end_time": "2022-08-06T00:23:29.315899Z",
     "start_time": "2022-08-06T00:23:29.281280Z"
    }
   },
   "outputs": [],
   "source": [
    "X_train = train_data.drop([\"Id\", \"Next Week's Deaths\"], axis=1)\n",
    "y_train = train_data[\"Next Week's Deaths\"]\n",
    "X_test = test_data.drop([\"Id\"], axis=1)"
   ]
  },
  {
   "cell_type": "code",
   "execution_count": 96,
   "id": "027e6dac",
   "metadata": {
    "ExecuteTime": {
     "end_time": "2022-08-08T04:42:31.851016Z",
     "start_time": "2022-08-08T04:41:38.267714Z"
    }
   },
   "outputs": [
    {
     "name": "stdout",
     "output_type": "stream",
     "text": [
      "[50]\tcv_agg's rmse: 408.445 + 29.1948\n",
      "[100]\tcv_agg's rmse: 358.882 + 29.2779\n",
      "[150]\tcv_agg's rmse: 338.135 + 30.0248\n",
      "[200]\tcv_agg's rmse: 325.559 + 29.6262\n",
      "[250]\tcv_agg's rmse: 315.605 + 30.152\n",
      "[300]\tcv_agg's rmse: 307.451 + 30.3748\n",
      "[350]\tcv_agg's rmse: 300.934 + 30.0661\n",
      "[400]\tcv_agg's rmse: 296.179 + 30.0125\n",
      "[450]\tcv_agg's rmse: 292.438 + 30.1155\n",
      "[500]\tcv_agg's rmse: 289.258 + 30.1833\n",
      "[550]\tcv_agg's rmse: 286.045 + 30.0518\n",
      "[600]\tcv_agg's rmse: 283.401 + 30.1052\n",
      "[650]\tcv_agg's rmse: 281.281 + 30.2811\n",
      "[700]\tcv_agg's rmse: 279.744 + 30.0997\n",
      "[750]\tcv_agg's rmse: 278.178 + 30.0129\n",
      "[800]\tcv_agg's rmse: 277.095 + 29.9002\n",
      "[850]\tcv_agg's rmse: 276.233 + 29.8006\n",
      "[900]\tcv_agg's rmse: 275.108 + 29.7837\n",
      "[950]\tcv_agg's rmse: 274.41 + 29.8175\n",
      "[1000]\tcv_agg's rmse: 273.563 + 29.7334\n"
     ]
    }
   ],
   "source": [
    "import lightgbm as lgb\n",
    "\n",
    "data_train = lgb.Dataset(X_train, y_train)\n",
    "\n",
    "# max_depth is not used\n",
    "params = {\n",
    "    'objective': 'regression',\n",
    "    'learning_rate': 0.1,\n",
    "    'num_leaves': 50,   # lightGBM is leave_wise tree model，so number of leaves should be small than 2^max_depth\n",
    "    'subsample': 1,   # sample of data\n",
    "    'feature_fraction': 1,   # sample of feature\n",
    "    'seed': 42,\n",
    "    'verbosity': -1,\n",
    "}\n",
    "\n",
    "cv_result = lgb.cv(params, data_train, num_boost_round=1000, nfold=5, stratified=False, shuffle=True,\n",
    "                   metrics='rmse', early_stopping_rounds=50, verbose_eval=50, show_stdv=True, seed=0)\n",
    "\n",
    "# The result shows that it does not converge with 1000 boosting iteration. \n",
    "# But considering about time and memory, choose 1000 here."
   ]
  },
  {
   "cell_type": "code",
   "execution_count": 136,
   "id": "08863104",
   "metadata": {
    "ExecuteTime": {
     "end_time": "2022-08-08T07:56:41.632320Z",
     "start_time": "2022-08-08T07:56:30.082672Z"
    }
   },
   "outputs": [
    {
     "name": "stdout",
     "output_type": "stream",
     "text": [
      "Training until validation scores don't improve for 50 rounds\n",
      "[50]\tvalid_0's rmse: 449.539\n",
      "[100]\tvalid_0's rmse: 397.33\n",
      "[150]\tvalid_0's rmse: 377.473\n",
      "[200]\tvalid_0's rmse: 364.181\n",
      "[250]\tvalid_0's rmse: 353.053\n",
      "[300]\tvalid_0's rmse: 344.941\n",
      "[350]\tvalid_0's rmse: 339.115\n",
      "[400]\tvalid_0's rmse: 333.615\n",
      "[450]\tvalid_0's rmse: 329.809\n",
      "[500]\tvalid_0's rmse: 326.332\n",
      "[550]\tvalid_0's rmse: 324.152\n",
      "[600]\tvalid_0's rmse: 321.45\n",
      "[650]\tvalid_0's rmse: 319.938\n",
      "[700]\tvalid_0's rmse: 318.579\n",
      "[750]\tvalid_0's rmse: 316.858\n",
      "[800]\tvalid_0's rmse: 315.4\n",
      "[850]\tvalid_0's rmse: 314.164\n",
      "[900]\tvalid_0's rmse: 313.042\n",
      "[950]\tvalid_0's rmse: 312.207\n",
      "[1000]\tvalid_0's rmse: 311.746\n",
      "Did not meet early stopping. Best iteration is:\n",
      "[1000]\tvalid_0's rmse: 311.746\n"
     ]
    }
   ],
   "source": [
    "X_train_lgb, X_valid_lgb, y_train_lgb, y_valid_lgb = \\\n",
    "                    train_test_split(X_train, y_train, test_size=0.3)\n",
    "\n",
    "dtrain = lgb.Dataset(X_train_lgb, y_train_lgb)\n",
    "dvalid = lgb.Dataset(X_valid_lgb, y_valid_lgb)\n",
    "\n",
    "params = {\n",
    "    'objective': 'regression',\n",
    "    'learning_rate': 0.1,\n",
    "    'num_leaves': 50,  \n",
    "    'subsample': 1,   \n",
    "    'feature_fraction': 1,   \n",
    "    'seed': 42,\n",
    "    'verbosity': -1,\n",
    "    'metric': 'rmse',\n",
    "}\n",
    "\n",
    "\n",
    "model1 = lgb.train(params, train_set=dtrain, valid_sets=dvalid, num_boost_round=1000,\n",
    "                   early_stopping_rounds=50, verbose_eval=50)"
   ]
  },
  {
   "cell_type": "code",
   "execution_count": 138,
   "id": "2d19bd4b",
   "metadata": {
    "ExecuteTime": {
     "end_time": "2022-08-08T07:59:25.901442Z",
     "start_time": "2022-08-08T07:59:24.372348Z"
    }
   },
   "outputs": [],
   "source": [
    "y_pred = model1.predict(X_test)\n",
    "y_pred = y_pred.astype(int)\n",
    "y_pred = np.where(y_pred < 0, 0, y_pred) \n",
    "output = pd.DataFrame({\"Id\": test_data.Id, \"Next Week's Deaths\": y_pred})\n",
    "output.to_csv('output/lightgbm_05.csv', index=False)   # RMSE score: 324.7"
   ]
  },
  {
   "cell_type": "code",
   "execution_count": 75,
   "id": "d94d15fa",
   "metadata": {
    "ExecuteTime": {
     "end_time": "2022-08-08T02:41:21.219981Z",
     "start_time": "2022-08-08T02:41:21.209128Z"
    }
   },
   "outputs": [],
   "source": [
    "import matplotlib.pyplot as plt\n",
    "\n",
    "# test the best learning rate when num_boost_round = 1000\n",
    "  \n",
    "axisx = np.arange(0.1, 0.25, 0.02)\n",
    "rmse_mean = []\n",
    "rmse_std = []\n",
    "for i in axisx:\n",
    "\n",
    "    data_train = lgb.Dataset(X_train, y_train)\n",
    "\n",
    "    params = {\n",
    "        'objective': 'regression',\n",
    "        'learning_rate': i,\n",
    "        'num_leaves': 50,   \n",
    "        'subsample': 1,   \n",
    "        'feature_fraction': 1,  \n",
    "        'seed': 42,\n",
    "        'verbosity': -1,\n",
    "    }\n",
    "\n",
    "    cv_result = lgb.cv(params, data_train, num_boost_round=1000, nfold=5, stratified=False, shuffle=True,\n",
    "                   metrics='rmse', early_stopping_rounds=50, verbose_eval=False, show_stdv=True, seed=0)\n",
    "    rmse_mean.append(cv_result['rmse-mean'][-1])\n",
    "    rmse_std.append(cv_result['rmse-stdv'][-1])"
   ]
  },
  {
   "cell_type": "code",
   "execution_count": 80,
   "id": "ab4d72ec",
   "metadata": {
    "ExecuteTime": {
     "end_time": "2022-08-08T03:15:24.257222Z",
     "start_time": "2022-08-08T03:15:24.249619Z"
    }
   },
   "outputs": [],
   "source": [
    "# plot the learning curve \n",
    "def plot_figure(axisx, rmse_mean, rmse_std, feature):\n",
    "    rmse_mean = np.array(rmse_mean)\n",
    "    rmse_std = np.array(rmse_std)\n",
    "    plt.figure(figsize=(20, 5))\n",
    "    plt.plot(axisx, rmse_mean, c='black', marker='o',label=feature)\n",
    "    plt.plot(axisx, rmse_mean+rmse_std, c='red', marker='o', linestyle='-.')\n",
    "    plt.plot(axisx, rmse_mean-rmse_std, c='red', marker='o', linestyle='-.')\n",
    "    plt.legend()\n",
    "    plt.show()"
   ]
  },
  {
   "cell_type": "code",
   "execution_count": 94,
   "id": "f47e78bc",
   "metadata": {
    "ExecuteTime": {
     "end_time": "2022-08-08T04:38:06.931659Z",
     "start_time": "2022-08-08T04:38:06.687600Z"
    }
   },
   "outputs": [
    {
     "name": "stdout",
     "output_type": "stream",
     "text": [
      "The best param of learning rate 0.16000000000000003\n"
     ]
    },
    {
     "data": {
      "image/png": "[encoded data removed]",
      "text/plain": [
       "<Figure size 1440x360 with 1 Axes>"
      ]
     },
     "metadata": {
      "needs_background": "light"
     },
     "output_type": "display_data"
    }
   ],
   "source": [
    "print('The best param of learning rate', axisx[np.argmin(rmse_mean)])\n",
    "plot_figure(axisx, rmse_mean, rmse_std, 'learning_rate')\n",
    "\n",
    "# Result shows the best learning rate is 0.16"
   ]
  },
  {
   "cell_type": "code",
   "execution_count": 120,
   "id": "adef3e0c",
   "metadata": {
    "ExecuteTime": {
     "end_time": "2022-08-08T07:06:27.501042Z",
     "start_time": "2022-08-08T07:06:27.490157Z"
    }
   },
   "outputs": [],
   "source": [
    "from sklearn.model_selection import learning_curve\n",
    "from sklearn.model_selection import KFold\n",
    "\n",
    "def plot_learning_curve(estimator, title, X, y, cv=None, n_jobs=None):\n",
    "    train_size, train_scores, test_scores = learning_curve(estimator, X, y, shuffle=True, cv=cv, n_jobs=n_jobs)\n",
    "   \n",
    "    # plot the learning curve\n",
    "    #ax = plt.figure()\n",
    "    fig, ax = plt.subplots(nrows=1, ncols=1)\n",
    "    \n",
    "    ax.set_title(title)\n",
    "    ax.set_xlabel(\"Training examples\")\n",
    "    ax.set_ylabel(\"Score\")\n",
    "    ax.plot(train_size, np.mean(train_scores, axis=1), 'o-', color='r', label='Training score')\n",
    "    ax.plot(train_size, np.mean(test_scores, axis=1), 'o-', color='g', label='Test score')\n",
    "    ax.legend(loc='best')\n",
    "    return ax      "
   ]
  },
  {
   "cell_type": "code",
   "execution_count": null,
   "id": "7e759918",
   "metadata": {},
   "outputs": [],
   "source": [
    "# cv = KFold(n_splits=5, shuffle=True, random_state=42)\n",
    "# estimator = lgb.LGBMRegressor(n_estimators=100, num_leaves=50, learning_rate=0.16, metrics='rmse',\n",
    "#                              subsample=1, feature_fraction=1, seed=42, verbose=-1, silent=True)\n",
    "# plot_learning_curve(estimator, \"LGBM\", X_train, y_train, cv=cv)\n",
    "# plt.show()"
   ]
  },
  {
   "cell_type": "code",
   "execution_count": 114,
   "id": "c312310e",
   "metadata": {
    "ExecuteTime": {
     "end_time": "2022-08-08T07:02:48.542421Z",
     "start_time": "2022-08-08T06:58:12.737330Z"
    }
   },
   "outputs": [],
   "source": [
    "cv = KFold(n_splits=5, shuffle=True, random_state=42)\n",
    "estimator = lgb.LGBMRegressor(n_estimators=1000, num_leaves=50, learning_rate=0.16, metrics='rmse',\n",
    "                             subsample=1, feature_fraction=1, seed=42, verbose=-1)\n",
    "train_size, train_scores, test_scores = learning_curve(estimator, X_train, y_train, \n",
    "                                                       shuffle=True, cv=cv, n_jobs=-1)"
   ]
  },
  {
   "cell_type": "code",
   "execution_count": 124,
   "id": "31c65728",
   "metadata": {
    "ExecuteTime": {
     "end_time": "2022-08-08T07:11:41.147289Z",
     "start_time": "2022-08-08T07:11:40.925191Z"
    }
   },
   "outputs": [
    {
     "data": {
      "image/png": "[encoded data removed]",
      "text/plain": [
       "<Figure size 432x288 with 1 Axes>"
      ]
     },
     "metadata": {
      "needs_background": "light"
     },
     "output_type": "display_data"
    }
   ],
   "source": [
    "plt.figure()\n",
    "plt.title(\"LGBM\")\n",
    "plt.xlabel(\"Training samples\")\n",
    "plt.ylabel(\"Score\")\n",
    "plt.plot(train_size, np.mean(train_scores, axis=1), 'o-', color='r', label='Training score')\n",
    "plt.plot(train_size, np.mean(test_scores, axis=1), 'o-', color='g', label='Test score')\n",
    "plt.legend(loc='best')\n",
    "plt.show()\n",
    "\n",
    "# model is not overfitted"
   ]
  },
  {
   "cell_type": "code",
   "execution_count": 148,
   "id": "bb2d5ba1",
   "metadata": {
    "ExecuteTime": {
     "end_time": "2022-08-08T08:46:33.184286Z",
     "start_time": "2022-08-08T08:36:11.865337Z"
    }
   },
   "outputs": [],
   "source": [
    "# test for feature fraction\n",
    "    \n",
    "axisx = np.arange(0.1, 1.1, 0.1)\n",
    "rmse_mean = []\n",
    "rmse_std = []\n",
    "for i in axisx:\n",
    "\n",
    "    data_train = lgb.Dataset(X_train, y_train)\n",
    "\n",
    "    params = {\n",
    "        'objective': 'regression',\n",
    "        'learning_rate': 0.16,\n",
    "        'num_leaves': 50,   \n",
    "        'subsample': 1,   \n",
    "        'feature_fraction': i,  \n",
    "        'seed': 42,\n",
    "        'verbosity': -1,\n",
    "    }\n",
    "\n",
    "    cv_result = lgb.cv(params, data_train, num_boost_round=1000, nfold=5, stratified=False, shuffle=True,\n",
    "                   metrics='rmse', early_stopping_rounds=50, verbose_eval=False, show_stdv=True, seed=0)\n",
    "    rmse_mean.append(cv_result['rmse-mean'][-1])\n",
    "    rmse_std.append(cv_result['rmse-stdv'][-1])"
   ]
  },
  {
   "cell_type": "code",
   "execution_count": 150,
   "id": "e9d2d4ae",
   "metadata": {
    "ExecuteTime": {
     "end_time": "2022-08-08T08:46:55.021190Z",
     "start_time": "2022-08-08T08:46:54.760550Z"
    }
   },
   "outputs": [
    {
     "name": "stdout",
     "output_type": "stream",
     "text": [
      "The best param of feature fraction 0.8\n"
     ]
    },
    {
     "data": {
      "image/png": "[encoded data removed]",
      "text/plain": [
       "<Figure size 1440x360 with 1 Axes>"
      ]
     },
     "metadata": {
      "needs_background": "light"
     },
     "output_type": "display_data"
    }
   ],
   "source": [
    "print('The best param of feature fraction', axisx[np.argmin(rmse_mean)])\n",
    "plot_figure(axisx, rmse_mean, rmse_std, 'feature fraction')\n",
    "\n",
    "# Result shows the best feature fraction is 0.8"
   ]
  },
  {
   "cell_type": "code",
   "execution_count": 151,
   "id": "42fae4e9",
   "metadata": {
    "ExecuteTime": {
     "end_time": "2022-08-08T09:16:13.591139Z",
     "start_time": "2022-08-08T08:50:02.220319Z"
    }
   },
   "outputs": [],
   "source": [
    "# test for num leaves\n",
    "# It took about 26 mins, I won't do it anymore. Too long.....\n",
    "    \n",
    "axisx = np.arange(20, 256, 20)\n",
    "rmse_mean = []\n",
    "rmse_std = []\n",
    "for i in axisx:\n",
    "\n",
    "    data_train = lgb.Dataset(X_train, y_train)\n",
    "\n",
    "    params = {\n",
    "        'objective': 'regression',\n",
    "        'learning_rate': 0.16,\n",
    "        'num_leaves': i,   \n",
    "        'subsample': 1,   \n",
    "        'feature_fraction': 0.8,  \n",
    "        'seed': 42,\n",
    "        'verbosity': -1,\n",
    "    }\n",
    "\n",
    "    cv_result = lgb.cv(params, data_train, num_boost_round=1000, nfold=5, stratified=False, shuffle=True,\n",
    "                   metrics='rmse', early_stopping_rounds=50, verbose_eval=False, show_stdv=True, seed=0)\n",
    "    rmse_mean.append(cv_result['rmse-mean'][-1])\n",
    "    rmse_std.append(cv_result['rmse-stdv'][-1])"
   ]
  },
  {
   "cell_type": "code",
   "execution_count": 152,
   "id": "594b444a",
   "metadata": {
    "ExecuteTime": {
     "end_time": "2022-08-08T09:17:30.001442Z",
     "start_time": "2022-08-08T09:17:29.697672Z"
    }
   },
   "outputs": [
    {
     "name": "stdout",
     "output_type": "stream",
     "text": [
      "The best param of num leaves 60\n"
     ]
    },
    {
     "data": {
      "image/png": "[encoded data removed]",
      "text/plain": [
       "<Figure size 1440x360 with 1 Axes>"
      ]
     },
     "metadata": {
      "needs_background": "light"
     },
     "output_type": "display_data"
    }
   ],
   "source": [
    "print('The best param of num leaves', axisx[np.argmin(rmse_mean)])\n",
    "plot_figure(axisx, rmse_mean, rmse_std, 'num leaves')\n",
    "\n",
    "# Result shows the best num leaves is 60"
   ]
  },
  {
   "cell_type": "code",
   "execution_count": 158,
   "id": "a4b23e2e",
   "metadata": {
    "ExecuteTime": {
     "end_time": "2022-08-08T09:48:48.683883Z",
     "start_time": "2022-08-08T09:48:48.670094Z"
    }
   },
   "outputs": [],
   "source": [
    "import optuna\n",
    "from optuna.integration import LightGBMPruningCallback\n",
    "from sklearn.metrics import mean_squared_error\n",
    "from sklearn.model_selection import train_test_split\n",
    "\n",
    "# hyperparamter tuning with optuna\n",
    "# tune num_leaves and max_depth first\n",
    "def objective(trial):\n",
    "    \n",
    "    X_train_lgb, X_valid_lgb, y_train_lgb, y_valid_lgb = \\\n",
    "                    train_test_split(X_train, y_train, test_size=0.3)\n",
    "\n",
    "    dtrain = lgb.Dataset(X_train_lgb, y_train_lgb)\n",
    "    dvalid = lgb.Dataset(X_valid_lgb, y_valid_lgb)\n",
    "\n",
    "    param_grid ={\n",
    "        \"learning_rate\": trial.suggest_float(\"learning_rate\", 0.14, 0.18, step=0.05),\n",
    "        \"num_leaves\": trial.suggest_int(\"num_leaves\", 40, 80, step=10),\n",
    "        \"min_data_in_leaf\": trial.suggest_int(\"min_data_in_leaf\", 20, 200, step=10),\n",
    "        \"lambda_l1\": trial.suggest_int(\"lambda_l1\", 0, 100, step=5),\n",
    "        \"lambda_l2\": trial.suggest_int(\"lambda_l2\", 0, 100, step=5),\n",
    "        \"subsample\": trial.suggest_float(\"subsample\", 0.7, 0.9, step=0.05),\n",
    "        \"feature_fraction\": trial.suggest_float(\"feature_fraction\", 0.7, 0.9, step=0.05),\n",
    "    }\n",
    "    \n",
    "    params = {\n",
    "    'objective': 'regression',\n",
    "    'seed': 42,\n",
    "    'metric': 'rmse',\n",
    "    'verbose': -1\n",
    "    }\n",
    "    \n",
    "    \n",
    "    params.update(**params, **param_grid)\n",
    "    \n",
    "    pruning_callback = LightGBMPruningCallback(trial, 'rmse')\n",
    "    model = lgb.train(params, num_boost_round=1000, train_set=dtrain, valid_sets=dvalid, verbose_eval=False, \n",
    "                      callbacks=[pruning_callback],\n",
    "                     )\n",
    "    y_pred = model.predict(X_valid_lgb)\n",
    "    error = mean_squared_error(y_pred, y_valid_lgb)\n",
    "    \n",
    "    return error "
   ]
  },
  {
   "cell_type": "code",
   "execution_count": null,
   "id": "e7073e38",
   "metadata": {},
   "outputs": [],
   "source": [
    "study = optuna.create_study(direction='minimize', study_name='LBGM Regressor')\n",
    "study.optimize(objective, n_trials=50)"
   ]
  },
  {
   "cell_type": "code",
   "execution_count": 160,
   "id": "a754ffff",
   "metadata": {
    "ExecuteTime": {
     "end_time": "2022-08-08T09:54:58.815814Z",
     "start_time": "2022-08-08T09:54:58.804080Z"
    }
   },
   "outputs": [
    {
     "data": {
      "text/plain": [
       "{'learning_rate': 0.14,\n",
       " 'num_leaves': 60,\n",
       " 'min_data_in_leaf': 20,\n",
       " 'lambda_l1': 0,\n",
       " 'lambda_l2': 0,\n",
       " 'subsample': 0.7,\n",
       " 'feature_fraction': 0.7}"
      ]
     },
     "execution_count": 160,
     "metadata": {},
     "output_type": "execute_result"
    }
   ],
   "source": [
    "trial = study.best_trial\n",
    "trial.params"
   ]
  },
  {
   "cell_type": "code",
   "execution_count": 161,
   "id": "c5892968",
   "metadata": {
    "ExecuteTime": {
     "end_time": "2022-08-08T09:56:17.750657Z",
     "start_time": "2022-08-08T09:56:04.459983Z"
    }
   },
   "outputs": [
    {
     "name": "stdout",
     "output_type": "stream",
     "text": [
      "Training until validation scores don't improve for 50 rounds\n",
      "[50]\tvalid_0's rmse: 394.979\n",
      "[100]\tvalid_0's rmse: 361.147\n",
      "[150]\tvalid_0's rmse: 343.016\n",
      "[200]\tvalid_0's rmse: 332.827\n",
      "[250]\tvalid_0's rmse: 325.193\n",
      "[300]\tvalid_0's rmse: 319.463\n",
      "[350]\tvalid_0's rmse: 315.78\n",
      "[400]\tvalid_0's rmse: 311.738\n",
      "[450]\tvalid_0's rmse: 308.676\n",
      "[500]\tvalid_0's rmse: 307.178\n",
      "[550]\tvalid_0's rmse: 305.652\n",
      "[600]\tvalid_0's rmse: 304.383\n",
      "[650]\tvalid_0's rmse: 302.658\n",
      "[700]\tvalid_0's rmse: 301.706\n",
      "[750]\tvalid_0's rmse: 301.066\n",
      "[800]\tvalid_0's rmse: 300.173\n",
      "[850]\tvalid_0's rmse: 299.604\n",
      "[900]\tvalid_0's rmse: 299.092\n",
      "[950]\tvalid_0's rmse: 298.555\n",
      "[1000]\tvalid_0's rmse: 297.898\n",
      "Did not meet early stopping. Best iteration is:\n",
      "[1000]\tvalid_0's rmse: 297.898\n"
     ]
    }
   ],
   "source": [
    "params = {\n",
    "    'objective': 'regression',\n",
    "    'seed': 42,\n",
    "    'metric': 'rmse',\n",
    "    'verbose': -1\n",
    "    }\n",
    "    \n",
    "\n",
    "params.update(**params, **trial.params)\n",
    "\n",
    "model2 = lgb.train(params, train_set=dtrain, valid_sets=dvalid, num_boost_round=1000,\n",
    "                   early_stopping_rounds=50, verbose_eval=50)"
   ]
  },
  {
   "cell_type": "code",
   "execution_count": 162,
   "id": "c3e56c77",
   "metadata": {
    "ExecuteTime": {
     "end_time": "2022-08-08T09:56:28.582048Z",
     "start_time": "2022-08-08T09:56:26.568483Z"
    }
   },
   "outputs": [],
   "source": [
    "y_pred = model2.predict(X_test)\n",
    "y_pred = y_pred.astype(int)\n",
    "y_pred = np.where(y_pred < 0, 0, y_pred) \n",
    "output = pd.DataFrame({\"Id\": test_data.Id, \"Next Week's Deaths\": y_pred})\n",
    "output.to_csv('output/lightgbm_07.csv', index=False)   # RMSE score: 315.5"
   ]
  },
  {
   "cell_type": "code",
   "execution_count": null,
   "id": "d1b5225d",
   "metadata": {},
   "outputs": [],
   "source": [
    "# use LightBGM Tunner\n",
    "\n",
    "import optuna.integration.lightgbm as lgbo\n",
    "\n",
    "X_train_lgb, X_valid_lgb, y_train_lgb, y_valid_lgb = \\\n",
    "                train_test_split(X_train, y_train, test_size=0.3)\n",
    "\n",
    "dtrain = lgbo.Dataset(X_train_lgb, y_train_lgb)\n",
    "dvalid = lgbo.Dataset(X_valid_lgb, y_valid_lgb)\n",
    "\n",
    "\n",
    "\n",
    "params = {\n",
    "    'objective': 'regression',\n",
    "    'seed': 42,\n",
    "    'metric': 'rmse',\n",
    "    'verbose': -1\n",
    "    }\n",
    "    \n",
    "\n",
    "\n",
    "booster = lgbo.LightGBMTuner(params, train_set=dtrain, valid_sets=dvalid, num_boost_round=1000,\n",
    "                   early_stopping_rounds=50, verbose_eval=50)\n",
    "booster.run()\n",
    "model3 = booster.get_best_booster()"
   ]
  },
  {
   "cell_type": "code",
   "execution_count": 165,
   "id": "8e349646",
   "metadata": {
    "ExecuteTime": {
     "end_time": "2022-08-08T11:51:11.280203Z",
     "start_time": "2022-08-08T11:51:11.255716Z"
    }
   },
   "outputs": [
    {
     "data": {
      "text/plain": [
       "{'objective': 'regression',\n",
       " 'seed': 42,\n",
       " 'metric': 'rmse',\n",
       " 'verbose': -1,\n",
       " 'feature_pre_filter': False,\n",
       " 'lambda_l1': 3.672160238001776e-06,\n",
       " 'lambda_l2': 7.862517798716215e-05,\n",
       " 'num_leaves': 31,\n",
       " 'feature_fraction': 0.8999999999999999,\n",
       " 'bagging_fraction': 0.833688950169478,\n",
       " 'bagging_freq': 4,\n",
       " 'min_child_samples': 20,\n",
       " 'num_iterations': 1000,\n",
       " 'early_stopping_round': 50}"
      ]
     },
     "execution_count": 165,
     "metadata": {},
     "output_type": "execute_result"
    }
   ],
   "source": [
    "model3.params"
   ]
  },
  {
   "cell_type": "code",
   "execution_count": 166,
   "id": "a9937f6e",
   "metadata": {
    "ExecuteTime": {
     "end_time": "2022-08-08T11:52:03.643148Z",
     "start_time": "2022-08-08T11:52:02.756785Z"
    }
   },
   "outputs": [],
   "source": [
    "y_pred = model3.predict(X_test)\n",
    "y_pred = y_pred.astype(int)\n",
    "y_pred = np.where(y_pred < 0, 0, y_pred) \n",
    "output = pd.DataFrame({\"Id\": test_data.Id, \"Next Week's Deaths\": y_pred})\n",
    "output.to_csv('output/lightgbm_08.csv', index=False)   # RMSE score: 323.2"
   ]
  }
 ],
 "metadata": {
  "kernelspec": {
   "display_name": "Python 3 (ipykernel)",
   "language": "python",
   "name": "python3"
  },
  "language_info": {
   "codemirror_mode": {
    "name": "ipython",
    "version": 3
   },
   "file_extension": ".py",
   "mimetype": "text/x-python",
   "name": "python",
   "nbconvert_exporter": "python",
   "pygments_lexer": "ipython3",
   "version": "3.9.7"
  },
  "toc": {
   "base_numbering": 1,
   "nav_menu": {},
   "number_sections": true,
   "sideBar": true,
   "skip_h1_title": false,
   "title_cell": "Table of Contents",
   "title_sidebar": "Contents",
   "toc_cell": false,
   "toc_position": {},
   "toc_section_display": true,
   "toc_window_display": false
  }
 },
 "nbformat": 4,
 "nbformat_minor": 5
}
