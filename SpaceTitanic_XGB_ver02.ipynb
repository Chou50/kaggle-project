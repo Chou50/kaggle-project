{
 "cells": [
  {
   "cell_type": "code",
   "execution_count": 2,
   "id": "a227299d",
   "metadata": {
    "ExecuteTime": {
     "end_time": "2022-05-23T01:22:25.377938Z",
     "start_time": "2022-05-23T01:22:24.070982Z"
    }
   },
   "outputs": [],
   "source": [
    "import numpy as np\n",
    "import pandas as pd\n",
    "import warnings\n",
    "warnings.filterwarnings('ignore')\n",
    "\n",
    "train_df = pd.read_csv('input/train.csv')\n",
    "test_df = pd.read_csv('input/test.csv')"
   ]
  },
  {
   "cell_type": "code",
   "execution_count": 6,
   "id": "225a0ab4",
   "metadata": {
    "ExecuteTime": {
     "end_time": "2022-05-23T01:22:31.792181Z",
     "start_time": "2022-05-23T01:22:31.780570Z"
    }
   },
   "outputs": [
    {
     "data": {
      "text/plain": [
       "0.5036236051995858"
      ]
     },
     "execution_count": 6,
     "metadata": {},
     "output_type": "execute_result"
    }
   ],
   "source": [
    "train_df.loc[train_df.Transported==True].shape[0]/train_df.shape[0] #没有样本不均衡的问题"
   ]
  },
  {
   "cell_type": "code",
   "execution_count": 7,
   "id": "1eb95428",
   "metadata": {
    "ExecuteTime": {
     "end_time": "2022-05-23T01:22:33.796421Z",
     "start_time": "2022-05-23T01:22:33.637930Z"
    }
   },
   "outputs": [],
   "source": [
    "full_df = train_df.append(test_df, ignore_index=True)"
   ]
  },
  {
   "cell_type": "code",
   "execution_count": 8,
   "id": "fd8ef06f",
   "metadata": {
    "ExecuteTime": {
     "end_time": "2022-05-23T01:22:35.211001Z",
     "start_time": "2022-05-23T01:22:35.192320Z"
    }
   },
   "outputs": [],
   "source": [
    "full_df['HomePlanet'] = full_df['HomePlanet'].fillna('Earth')\n",
    "full_df['CryoSleep'] = full_df['CryoSleep'].fillna(True)"
   ]
  },
  {
   "cell_type": "code",
   "execution_count": 9,
   "id": "13995a99",
   "metadata": {
    "ExecuteTime": {
     "end_time": "2022-05-23T01:22:37.610578Z",
     "start_time": "2022-05-23T01:22:37.578547Z"
    }
   },
   "outputs": [],
   "source": [
    "full_df.loc[full_df.Cabin.notna(), 'Cabin_beck'] = \\\n",
    "         full_df.loc[full_df.Cabin.notna(), 'Cabin'].astype(str).map(lambda x: x.split('/')[0])\n",
    "full_df.loc[full_df.Cabin.notna(), 'Cabin_side'] = \\\n",
    "         full_df.loc[full_df.Cabin.notna(), 'Cabin'].astype(str).map(lambda x: x.split('/')[2])                                                                                                                                                   "
   ]
  },
  {
   "cell_type": "code",
   "execution_count": 10,
   "id": "89e3d430",
   "metadata": {
    "ExecuteTime": {
     "end_time": "2022-05-23T01:22:39.083287Z",
     "start_time": "2022-05-23T01:22:39.074069Z"
    }
   },
   "outputs": [],
   "source": [
    "full_df['Cabin_beck'] = full_df['Cabin_beck'].fillna('F')\n",
    "full_df['Cabin_side'] = full_df['Cabin_side'].fillna('P')"
   ]
  },
  {
   "cell_type": "code",
   "execution_count": 11,
   "id": "611e9905",
   "metadata": {
    "ExecuteTime": {
     "end_time": "2022-05-23T01:22:40.872579Z",
     "start_time": "2022-05-23T01:22:40.821687Z"
    }
   },
   "outputs": [],
   "source": [
    "full_df['Destination'] = full_df['Destination'].fillna('TRAPPIST-1e')"
   ]
  },
  {
   "cell_type": "code",
   "execution_count": 12,
   "id": "24a1c337",
   "metadata": {
    "ExecuteTime": {
     "end_time": "2022-05-23T01:22:42.295328Z",
     "start_time": "2022-05-23T01:22:42.288971Z"
    }
   },
   "outputs": [],
   "source": [
    "full_df['Age'].fillna(full_df.Age.mean(), inplace=True)"
   ]
  },
  {
   "cell_type": "code",
   "execution_count": 13,
   "id": "65d67795",
   "metadata": {
    "ExecuteTime": {
     "end_time": "2022-05-23T01:22:43.924757Z",
     "start_time": "2022-05-23T01:22:43.918702Z"
    }
   },
   "outputs": [],
   "source": [
    "full_df['VIP'].fillna(False, inplace=True)"
   ]
  },
  {
   "cell_type": "code",
   "execution_count": 14,
   "id": "bae99837",
   "metadata": {
    "ExecuteTime": {
     "end_time": "2022-05-23T01:22:45.696879Z",
     "start_time": "2022-05-23T01:22:45.680298Z"
    }
   },
   "outputs": [],
   "source": [
    "full_df['RoomService'].fillna(full_df.RoomService.mode()[0], inplace=True)\n",
    "full_df['FoodCourt'].fillna(full_df.FoodCourt.mode()[0], inplace=True)\n",
    "full_df['ShoppingMall'].fillna(full_df.ShoppingMall.mode()[0], inplace=True)\n",
    "full_df['Spa'].fillna(full_df.Spa.mode()[0], inplace=True)\n",
    "full_df['VRDeck'].fillna(full_df.VRDeck.mode()[0], inplace=True)"
   ]
  },
  {
   "cell_type": "code",
   "execution_count": 17,
   "id": "db32a020",
   "metadata": {
    "ExecuteTime": {
     "end_time": "2022-05-23T01:22:56.400937Z",
     "start_time": "2022-05-23T01:22:55.505039Z"
    }
   },
   "outputs": [],
   "source": [
    "from sklearn.preprocessing import LabelEncoder"
   ]
  },
  {
   "cell_type": "code",
   "execution_count": 18,
   "id": "f12e7812",
   "metadata": {
    "ExecuteTime": {
     "end_time": "2022-05-23T01:22:57.097733Z",
     "start_time": "2022-05-23T01:22:57.085589Z"
    }
   },
   "outputs": [],
   "source": [
    "full_data = full_df.copy()"
   ]
  },
  {
   "cell_type": "code",
   "execution_count": 19,
   "id": "35e56819",
   "metadata": {
    "ExecuteTime": {
     "end_time": "2022-05-23T01:22:58.710273Z",
     "start_time": "2022-05-23T01:22:58.679246Z"
    }
   },
   "outputs": [],
   "source": [
    "columns = [\"HomePlanet\", \"CryoSleep\", \"Destination\", \"VIP\", \"Cabin_beck\", \"Cabin_side\"]\n",
    "for column in columns:\n",
    "    labelencoder = LabelEncoder()\n",
    "    full_data[column] = labelencoder.fit_transform(full_data[column])"
   ]
  },
  {
   "cell_type": "code",
   "execution_count": 21,
   "id": "dbd70a80",
   "metadata": {
    "ExecuteTime": {
     "end_time": "2022-05-23T01:23:03.598723Z",
     "start_time": "2022-05-23T01:23:03.579660Z"
    }
   },
   "outputs": [],
   "source": [
    "FEATURES = [\"HomePlanet\", \"CryoSleep\", \"Destination\", \"Age\", \"VIP\", \"RoomService\", \\\n",
    "            \"FoodCourt\", \"ShoppingMall\", \"Spa\", \"VRDeck\", \"Cabin_beck\", \"Cabin_side\"]\n",
    "TARGET = [\"Transported\"]\n",
    "\n",
    "X_train = full_data[full_data.Transported.notna()][FEATURES]\n",
    "y_train = full_data[full_data.Transported.notna()][TARGET].astype(int)\n",
    "\n",
    "X_test = full_data[full_data.Transported.isna()][FEATURES]"
   ]
  },
  {
   "cell_type": "code",
   "execution_count": 23,
   "id": "3e5793de",
   "metadata": {
    "ExecuteTime": {
     "end_time": "2022-05-23T01:23:09.588724Z",
     "start_time": "2022-05-23T01:23:09.535684Z"
    }
   },
   "outputs": [],
   "source": [
    "y_train = y_train.values.ravel()"
   ]
  },
  {
   "cell_type": "code",
   "execution_count": 24,
   "id": "06a8c15c",
   "metadata": {
    "ExecuteTime": {
     "end_time": "2022-05-23T01:23:11.614184Z",
     "start_time": "2022-05-23T01:23:11.401315Z"
    }
   },
   "outputs": [],
   "source": [
    "import xgboost as xgb"
   ]
  },
  {
   "cell_type": "code",
   "execution_count": 25,
   "id": "ae8ddb1d",
   "metadata": {
    "ExecuteTime": {
     "end_time": "2022-05-23T01:26:42.489695Z",
     "start_time": "2022-05-23T01:26:42.434075Z"
    }
   },
   "outputs": [],
   "source": [
    "from sklearn.model_selection import train_test_split\n",
    "X_train_xgb, X_vaild_xgb, y_train_xgb, y_valid_xgb = \\\n",
    "                train_test_split(X_train, y_train, test_size=0.2)"
   ]
  },
  {
   "cell_type": "code",
   "execution_count": 29,
   "id": "c0ae6834",
   "metadata": {
    "ExecuteTime": {
     "end_time": "2022-05-23T01:28:10.010449Z",
     "start_time": "2022-05-23T01:28:09.996107Z"
    }
   },
   "outputs": [
    {
     "data": {
      "text/plain": [
       "(0.5063272936439459, 0.4928119608970673)"
      ]
     },
     "execution_count": 29,
     "metadata": {},
     "output_type": "execute_result"
    }
   ],
   "source": [
    "y_train_xgb.sum()/y_train_xgb.shape[0], y_valid_xgb.sum()/y_valid_xgb.shape[0]"
   ]
  },
  {
   "cell_type": "code",
   "execution_count": null,
   "id": "18cb5cb0",
   "metadata": {},
   "outputs": [],
   "source": [
    "dtrain = xgb.DMatrix(X_train_xgb, y_train_xgb)\n",
    "dvalid = xgb.DMatrix(X_vaild_xgb, y_valid_xgb)\n",
    "\n",
    "params = {'objective':'binary:logistic'\n",
    "          ,\"subsample\":1\n",
    "          ,\"max_depth\":3\n",
    "          ,\"eta\":0.2\n",
    "          ,\"gamma\":2\n",
    "          ,\"lambda\":1\n",
    "          ,\"alpha\":0\n",
    "          ,\"colsample_bytree\":1\n",
    "          ,\"colsample_bylevel\":1\n",
    "          ,\"colsample_bynode\":1\n",
    "          ,\"eval_metric\":'auc'\n",
    "          }\n",
    "watchlist = [(dtrain,'train'),(dvalid,'valid')]\n",
    "gbm = xgb.train(params, dtrain, num_boost_round=400, evals=watchlist, \n",
    "                early_stopping_rounds=100,  verbose_eval=True)"
   ]
  },
  {
   "cell_type": "code",
   "execution_count": 35,
   "id": "aaaa997a",
   "metadata": {
    "ExecuteTime": {
     "end_time": "2022-05-23T01:43:13.646264Z",
     "start_time": "2022-05-23T01:43:13.628480Z"
    }
   },
   "outputs": [],
   "source": [
    "dtest = xgb.DMatrix(X_test)\n",
    "y_pred = gbm.predict(dtest)"
   ]
  },
  {
   "cell_type": "code",
   "execution_count": null,
   "id": "d2b3629e",
   "metadata": {},
   "outputs": [],
   "source": [
    "y_pred1 = np.where(y_pred >= 0.5, 1, 0)\n",
    "y_pred1 = y_pred1.astype(bool)"
   ]
  },
  {
   "cell_type": "code",
   "execution_count": 38,
   "id": "4e3fe5ed",
   "metadata": {
    "ExecuteTime": {
     "end_time": "2022-05-23T01:43:48.455976Z",
     "start_time": "2022-05-23T01:43:48.438521Z"
    }
   },
   "outputs": [],
   "source": [
    "output1 = pd.DataFrame({'PassengerId': test_df.PassengerId, 'Transported': y_pred1})\n",
    "output1.to_csv('output/xgb_submission_ver02_thre0.5.csv', index=False)"
   ]
  },
  {
   "cell_type": "code",
   "execution_count": 39,
   "id": "6d0ce45b",
   "metadata": {
    "ExecuteTime": {
     "end_time": "2022-05-23T01:47:40.290165Z",
     "start_time": "2022-05-23T01:47:40.223612Z"
    }
   },
   "outputs": [],
   "source": [
    "y_vpred = gbm.predict(dvalid)"
   ]
  },
  {
   "cell_type": "code",
   "execution_count": 42,
   "id": "3b4d810d",
   "metadata": {
    "ExecuteTime": {
     "end_time": "2022-05-23T01:53:41.718342Z",
     "start_time": "2022-05-23T01:53:40.670664Z"
    }
   },
   "outputs": [
    {
     "data": {
      "image/png": "[encoded data removed]",
      "text/plain": [
       "<Figure size 432x288 with 1 Axes>"
      ]
     },
     "metadata": {
      "needs_background": "light"
     },
     "output_type": "display_data"
    }
   ],
   "source": [
    "from sklearn.metrics import auc, roc_curve\n",
    "import matplotlib.pyplot as plt\n",
    "\n",
    "fpr, tpr, thresholds = roc_curve(y_valid_xgb, y_vpred)\n",
    "auc = auc(fpr, tpr)\n",
    "plt.plot(fpr, tpr, label='ROC curve (area = %.2f)' % auc)\n",
    "plt.legend()\n",
    "plt.title('ROC curve')\n",
    "plt.xlabel('False Positive Rate')\n",
    "plt.ylabel('True Positive Rate')\n",
    "plt.grid(True)"
   ]
  },
  {
   "cell_type": "code",
   "execution_count": 53,
   "id": "cf68cf1d",
   "metadata": {
    "ExecuteTime": {
     "end_time": "2022-05-23T01:59:04.259605Z",
     "start_time": "2022-05-23T01:59:04.252511Z"
    }
   },
   "outputs": [
    {
     "data": {
      "text/plain": [
       "264"
      ]
     },
     "execution_count": 53,
     "metadata": {},
     "output_type": "execute_result"
    }
   ],
   "source": [
    "thre_index = list((tpr-fpr)).index(max(tpr-fpr))\n",
    "thre_index"
   ]
  },
  {
   "cell_type": "code",
   "execution_count": 54,
   "id": "5e99523c",
   "metadata": {
    "ExecuteTime": {
     "end_time": "2022-05-23T01:59:28.959480Z",
     "start_time": "2022-05-23T01:59:28.949940Z"
    }
   },
   "outputs": [
    {
     "data": {
      "text/plain": [
       "0.5037705"
      ]
     },
     "execution_count": 54,
     "metadata": {},
     "output_type": "execute_result"
    }
   ],
   "source": [
    "thresholds[thre_index]"
   ]
  },
  {
   "cell_type": "code",
   "execution_count": 55,
   "id": "57051a17",
   "metadata": {
    "ExecuteTime": {
     "end_time": "2022-05-23T02:01:00.678134Z",
     "start_time": "2022-05-23T02:01:00.657094Z"
    }
   },
   "outputs": [],
   "source": [
    "y_pred2 = np.where(y_pred >= 0.5037705, 1, 0)\n",
    "y_pred2 = y_pred2.astype(bool)\n",
    "output2 = pd.DataFrame({'PassengerId': test_df.PassengerId, 'Transported': y_pred2})\n",
    "output2.to_csv('output/xgb_submission_ver02_thre0.5037705.csv', index=False)"
   ]
  }
 ],
 "metadata": {
  "kernelspec": {
   "display_name": "Python 3 (ipykernel)",
   "language": "python",
   "name": "python3"
  },
  "language_info": {
   "codemirror_mode": {
    "name": "ipython",
    "version": 3
   },
   "file_extension": ".py",
   "mimetype": "text/x-python",
   "name": "python",
   "nbconvert_exporter": "python",
   "pygments_lexer": "ipython3",
   "version": "3.10.4"
  },
  "toc": {
   "base_numbering": 1,
   "nav_menu": {},
   "number_sections": true,
   "sideBar": true,
   "skip_h1_title": false,
   "title_cell": "Table of Contents",
   "title_sidebar": "Contents",
   "toc_cell": false,
   "toc_position": {},
   "toc_section_display": true,
   "toc_window_display": false
  }
 },
 "nbformat": 4,
 "nbformat_minor": 5
}
