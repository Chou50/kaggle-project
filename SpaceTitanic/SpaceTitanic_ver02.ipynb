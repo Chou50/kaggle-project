{
 "cells": [
  {
   "cell_type": "code",
   "execution_count": 2,
   "id": "c83ed141",
   "metadata": {
    "ExecuteTime": {
     "end_time": "2022-07-27T05:23:38.707784Z",
     "start_time": "2022-07-27T05:23:33.330961Z"
    }
   },
   "outputs": [],
   "source": [
    "import numpy as np\n",
    "import pandas as pd\n",
    "import random as rnd\n",
    "import re\n",
    "\n",
    "import matplotlib.pyplot as plt\n",
    "\n",
    "from sklearn.model_selection import train_test_split\n",
    "from sklearn.preprocessing import OneHotEncoder\n",
    "from sklearn.preprocessing import LabelEncoder\n",
    "from sklearn.model_selection import StratifiedKFold, GridSearchCV\n",
    "from sklearn.neighbors import KNeighborsClassifier\n",
    "from sklearn.linear_model import LogisticRegression\n",
    "from sklearn.tree import DecisionTreeClassifier\n",
    "from sklearn.ensemble import RandomForestClassifier\n",
    "from sklearn.ensemble import GradientBoostingClassifier\n",
    "from sklearn.ensemble import ExtraTreesClassifier\n",
    "from sklearn.ensemble import AdaBoostClassifier\n",
    "from sklearn.ensemble import StackingClassifier\n",
    "from xgboost import XGBClassifier\n",
    "from lightgbm import LGBMClassifier\n",
    "from catboost import CatBoostClassifier\n",
    "\n",
    "from pycaret.classification import *\n",
    "from pycaret.anomaly import *"
   ]
  },
  {
   "cell_type": "code",
   "execution_count": 56,
   "id": "8d69f688",
   "metadata": {
    "ExecuteTime": {
     "end_time": "2022-07-05T05:37:25.893120Z",
     "start_time": "2022-07-05T05:37:25.815874Z"
    }
   },
   "outputs": [],
   "source": [
    "train_df = pd.read_csv('input/train.csv')\n",
    "test_df = pd.read_csv('input/test.csv')"
   ]
  },
  {
   "cell_type": "code",
   "execution_count": null,
   "id": "8d0451fc",
   "metadata": {},
   "outputs": [],
   "source": [
    "full_df = pd.concat([train_df, test_df], ignore_index=True)\n",
    "sub_id = test_df.PassengerId"
   ]
  },
  {
   "cell_type": "code",
   "execution_count": 7,
   "id": "26664d8a",
   "metadata": {
    "ExecuteTime": {
     "end_time": "2022-07-05T00:38:11.381787Z",
     "start_time": "2022-07-05T00:38:11.332446Z"
    }
   },
   "outputs": [
    {
     "data": {
      "text/html": [
       "<div>\n",
       "<style scoped>\n",
       "    .dataframe tbody tr th:only-of-type {\n",
       "        vertical-align: middle;\n",
       "    }\n",
       "\n",
       "    .dataframe tbody tr th {\n",
       "        vertical-align: top;\n",
       "    }\n",
       "\n",
       "    .dataframe thead th {\n",
       "        text-align: right;\n",
       "    }\n",
       "</style>\n",
       "<table border=\"1\" class=\"dataframe\">\n",
       "  <thead>\n",
       "    <tr style=\"text-align: right;\">\n",
       "      <th></th>\n",
       "      <th>Age</th>\n",
       "      <th>RoomService</th>\n",
       "      <th>FoodCourt</th>\n",
       "      <th>ShoppingMall</th>\n",
       "      <th>Spa</th>\n",
       "      <th>VRDeck</th>\n",
       "    </tr>\n",
       "  </thead>\n",
       "  <tbody>\n",
       "    <tr>\n",
       "      <th>count</th>\n",
       "      <td>8514.000000</td>\n",
       "      <td>8512.000000</td>\n",
       "      <td>8510.000000</td>\n",
       "      <td>8485.000000</td>\n",
       "      <td>8510.000000</td>\n",
       "      <td>8505.000000</td>\n",
       "    </tr>\n",
       "    <tr>\n",
       "      <th>mean</th>\n",
       "      <td>28.827930</td>\n",
       "      <td>224.687617</td>\n",
       "      <td>458.077203</td>\n",
       "      <td>173.729169</td>\n",
       "      <td>311.138778</td>\n",
       "      <td>304.854791</td>\n",
       "    </tr>\n",
       "    <tr>\n",
       "      <th>std</th>\n",
       "      <td>14.489021</td>\n",
       "      <td>666.717663</td>\n",
       "      <td>1611.489240</td>\n",
       "      <td>604.696458</td>\n",
       "      <td>1136.705535</td>\n",
       "      <td>1145.717189</td>\n",
       "    </tr>\n",
       "    <tr>\n",
       "      <th>min</th>\n",
       "      <td>0.000000</td>\n",
       "      <td>0.000000</td>\n",
       "      <td>0.000000</td>\n",
       "      <td>0.000000</td>\n",
       "      <td>0.000000</td>\n",
       "      <td>0.000000</td>\n",
       "    </tr>\n",
       "    <tr>\n",
       "      <th>25%</th>\n",
       "      <td>19.000000</td>\n",
       "      <td>0.000000</td>\n",
       "      <td>0.000000</td>\n",
       "      <td>0.000000</td>\n",
       "      <td>0.000000</td>\n",
       "      <td>0.000000</td>\n",
       "    </tr>\n",
       "    <tr>\n",
       "      <th>50%</th>\n",
       "      <td>27.000000</td>\n",
       "      <td>0.000000</td>\n",
       "      <td>0.000000</td>\n",
       "      <td>0.000000</td>\n",
       "      <td>0.000000</td>\n",
       "      <td>0.000000</td>\n",
       "    </tr>\n",
       "    <tr>\n",
       "      <th>75%</th>\n",
       "      <td>38.000000</td>\n",
       "      <td>47.000000</td>\n",
       "      <td>76.000000</td>\n",
       "      <td>27.000000</td>\n",
       "      <td>59.000000</td>\n",
       "      <td>46.000000</td>\n",
       "    </tr>\n",
       "    <tr>\n",
       "      <th>max</th>\n",
       "      <td>79.000000</td>\n",
       "      <td>14327.000000</td>\n",
       "      <td>29813.000000</td>\n",
       "      <td>23492.000000</td>\n",
       "      <td>22408.000000</td>\n",
       "      <td>24133.000000</td>\n",
       "    </tr>\n",
       "  </tbody>\n",
       "</table>\n",
       "</div>"
      ],
      "text/plain": [
       "               Age   RoomService     FoodCourt  ShoppingMall           Spa  \\\n",
       "count  8514.000000   8512.000000   8510.000000   8485.000000   8510.000000   \n",
       "mean     28.827930    224.687617    458.077203    173.729169    311.138778   \n",
       "std      14.489021    666.717663   1611.489240    604.696458   1136.705535   \n",
       "min       0.000000      0.000000      0.000000      0.000000      0.000000   \n",
       "25%      19.000000      0.000000      0.000000      0.000000      0.000000   \n",
       "50%      27.000000      0.000000      0.000000      0.000000      0.000000   \n",
       "75%      38.000000     47.000000     76.000000     27.000000     59.000000   \n",
       "max      79.000000  14327.000000  29813.000000  23492.000000  22408.000000   \n",
       "\n",
       "             VRDeck  \n",
       "count   8505.000000  \n",
       "mean     304.854791  \n",
       "std     1145.717189  \n",
       "min        0.000000  \n",
       "25%        0.000000  \n",
       "50%        0.000000  \n",
       "75%       46.000000  \n",
       "max    24133.000000  "
      ]
     },
     "execution_count": 7,
     "metadata": {},
     "output_type": "execute_result"
    }
   ],
   "source": [
    "train_df.describe()"
   ]
  },
  {
   "cell_type": "code",
   "execution_count": 58,
   "id": "d3429918",
   "metadata": {
    "ExecuteTime": {
     "end_time": "2022-07-05T05:37:54.903038Z",
     "start_time": "2022-07-05T05:37:54.850869Z"
    }
   },
   "outputs": [],
   "source": [
    "missing_features_freq = ['HomePlanet', 'CryoSleep', 'Cabin', 'Destination', 'VIP', 'Name', \n",
    "                        'RoomService', 'FoodCourt', 'ShoppingMall', 'Spa', 'VRDeck']\n",
    "missing_features_mean = ['Age']\n",
    "\n",
    "def missing_fill(df):\n",
    "    for feature in missing_features_freq:\n",
    "        most_freq = df[feature].value_counts().index[0]\n",
    "        df[feature].fillna(most_freq, inplace=True)\n",
    "        \n",
    "    for feature in missing_features_mean:\n",
    "        df[feature].fillna(df[feature].mean(), inplace=True)   \n",
    "missing_fill(full_df)"
   ]
  },
  {
   "cell_type": "code",
   "execution_count": 59,
   "id": "c93bf4cd",
   "metadata": {
    "ExecuteTime": {
     "end_time": "2022-07-05T05:37:57.061145Z",
     "start_time": "2022-07-05T05:37:57.020700Z"
    }
   },
   "outputs": [],
   "source": [
    "# Pandas.Series.str.split     \n",
    "# when using expand=True, the split elements will expand out into separate columns. \n",
    "# If NaN is present, it is propagated throughout the columns during the split.\n",
    "# 然后可以同时赋值给三列。如果不使用expand的话，不能同时赋值给三列\n",
    "full_df[['Deck','Num','Side']] = full_df['Cabin'].str.split('/', expand=True)"
   ]
  },
  {
   "cell_type": "code",
   "execution_count": 60,
   "id": "fc7181b3",
   "metadata": {
    "ExecuteTime": {
     "end_time": "2022-07-05T05:37:58.220197Z",
     "start_time": "2022-07-05T05:37:58.183400Z"
    }
   },
   "outputs": [],
   "source": [
    "full_df['Surname'] = full_df['Name'].str.split(expand=True)[0]"
   ]
  },
  {
   "cell_type": "code",
   "execution_count": 61,
   "id": "b4a31910",
   "metadata": {
    "ExecuteTime": {
     "end_time": "2022-07-05T05:37:58.907151Z",
     "start_time": "2022-07-05T05:37:58.894619Z"
    }
   },
   "outputs": [],
   "source": [
    "# numpy.log1p return log(1+x)\n",
    "full_df['TotalCharge'] = np.log1p(full_df['RoomService'] + full_df['FoodCourt'] \\\n",
    "                                  + full_df['ShoppingMall'] + full_df['Spa'] + full_df['VRDeck'])"
   ]
  },
  {
   "cell_type": "code",
   "execution_count": 62,
   "id": "9f36660a",
   "metadata": {
    "ExecuteTime": {
     "end_time": "2022-07-05T05:37:59.655580Z",
     "start_time": "2022-07-05T05:37:59.630373Z"
    }
   },
   "outputs": [],
   "source": [
    "drop_features = ['PassengerId', 'Cabin', 'Name']\n",
    "for feature in drop_features:\n",
    "    full_df.drop(feature, axis=1, inplace=True)"
   ]
  },
  {
   "cell_type": "code",
   "execution_count": 63,
   "id": "dccda335",
   "metadata": {
    "ExecuteTime": {
     "end_time": "2022-07-05T05:38:00.431289Z",
     "start_time": "2022-07-05T05:38:00.406789Z"
    }
   },
   "outputs": [],
   "source": [
    "le_features = ['Deck', 'Surname']\n",
    "for feature in le_features:\n",
    "    le = LabelEncoder()\n",
    "    full_df[feature]= le.fit_transform(full_df[feature])"
   ]
  },
  {
   "cell_type": "code",
   "execution_count": 64,
   "id": "8ca8c288",
   "metadata": {
    "ExecuteTime": {
     "end_time": "2022-07-05T05:38:01.124937Z",
     "start_time": "2022-07-05T05:38:01.096159Z"
    }
   },
   "outputs": [],
   "source": [
    "full_df['Num'] = full_df['Num'].astype('int')\n",
    "full_df['CryoSleep'] = full_df['CryoSleep'].astype('str')\n",
    "full_df['VIP'] = full_df['VIP'].astype('str')"
   ]
  },
  {
   "cell_type": "code",
   "execution_count": 65,
   "id": "7d2a4557",
   "metadata": {
    "ExecuteTime": {
     "end_time": "2022-07-05T05:38:02.522610Z",
     "start_time": "2022-07-05T05:38:02.474534Z"
    }
   },
   "outputs": [],
   "source": [
    "dum_features = ['HomePlanet', 'CryoSleep', 'Destination', 'VIP', 'Side']\n",
    "full_df = full_df.join(pd.get_dummies(full_df[dum_features]))\n",
    "for feature in dum_features:\n",
    "    full_df.drop(feature, axis=1, inplace=True)"
   ]
  },
  {
   "cell_type": "code",
   "execution_count": 66,
   "id": "4ce77dd5",
   "metadata": {
    "ExecuteTime": {
     "end_time": "2022-07-05T05:38:07.409023Z",
     "start_time": "2022-07-05T05:38:07.394087Z"
    }
   },
   "outputs": [],
   "source": [
    "train_df = full_df[full_df['Transported'].notna()]\n",
    "test_df = full_df[full_df['Transported'].isna()]"
   ]
  },
  {
   "cell_type": "code",
   "execution_count": 68,
   "id": "6a0aab2f",
   "metadata": {
    "ExecuteTime": {
     "end_time": "2022-07-05T05:38:15.406747Z",
     "start_time": "2022-07-05T05:38:15.396893Z"
    }
   },
   "outputs": [],
   "source": [
    "test_df = test_df.drop('Transported', axis=1)"
   ]
  },
  {
   "cell_type": "code",
   "execution_count": 76,
   "id": "76f0d51a",
   "metadata": {
    "ExecuteTime": {
     "end_time": "2022-07-05T05:41:14.816376Z",
     "start_time": "2022-07-05T05:41:14.808399Z"
    }
   },
   "outputs": [],
   "source": [
    "test_df = test_df.reset_index(drop=True)"
   ]
  },
  {
   "cell_type": "markdown",
   "id": "144262b1",
   "metadata": {
    "ExecuteTime": {
     "end_time": "2022-07-05T05:20:45.098948Z",
     "start_time": "2022-07-05T05:20:45.087980Z"
    }
   },
   "source": [
    "<font color=black size=5 face=雅黑>**Modeling**</font>"
   ]
  },
  {
   "cell_type": "code",
   "execution_count": null,
   "id": "18180c92",
   "metadata": {},
   "outputs": [],
   "source": [
    "model = pycaret.classification.setup(data=train_df, target='Transported', session_id=100, silent=True)"
   ]
  },
  {
   "cell_type": "code",
   "execution_count": 48,
   "id": "d28a839b",
   "metadata": {
    "ExecuteTime": {
     "end_time": "2022-07-05T05:27:44.879400Z",
     "start_time": "2022-07-05T05:27:07.679251Z"
    }
   },
   "outputs": [
    {
     "data": {
      "text/html": [
       "<style type=\"text/css\">\n",
       "#T_c7b78_row10_col0, #T_c7b78_row10_col1, #T_c7b78_row10_col2, #T_c7b78_row10_col3, #T_c7b78_row10_col4, #T_c7b78_row10_col5, #T_c7b78_row10_col6 {\n",
       "  background: yellow;\n",
       "}\n",
       "</style>\n",
       "<table id=\"T_c7b78\">\n",
       "  <thead>\n",
       "    <tr>\n",
       "      <th class=\"blank level0\" >&nbsp;</th>\n",
       "      <th id=\"T_c7b78_level0_col0\" class=\"col_heading level0 col0\" >Accuracy</th>\n",
       "      <th id=\"T_c7b78_level0_col1\" class=\"col_heading level0 col1\" >AUC</th>\n",
       "      <th id=\"T_c7b78_level0_col2\" class=\"col_heading level0 col2\" >Recall</th>\n",
       "      <th id=\"T_c7b78_level0_col3\" class=\"col_heading level0 col3\" >Prec.</th>\n",
       "      <th id=\"T_c7b78_level0_col4\" class=\"col_heading level0 col4\" >F1</th>\n",
       "      <th id=\"T_c7b78_level0_col5\" class=\"col_heading level0 col5\" >Kappa</th>\n",
       "      <th id=\"T_c7b78_level0_col6\" class=\"col_heading level0 col6\" >MCC</th>\n",
       "    </tr>\n",
       "    <tr>\n",
       "      <th class=\"index_name level0\" >Fold</th>\n",
       "      <th class=\"blank col0\" >&nbsp;</th>\n",
       "      <th class=\"blank col1\" >&nbsp;</th>\n",
       "      <th class=\"blank col2\" >&nbsp;</th>\n",
       "      <th class=\"blank col3\" >&nbsp;</th>\n",
       "      <th class=\"blank col4\" >&nbsp;</th>\n",
       "      <th class=\"blank col5\" >&nbsp;</th>\n",
       "      <th class=\"blank col6\" >&nbsp;</th>\n",
       "    </tr>\n",
       "  </thead>\n",
       "  <tbody>\n",
       "    <tr>\n",
       "      <th id=\"T_c7b78_level0_row0\" class=\"row_heading level0 row0\" >0</th>\n",
       "      <td id=\"T_c7b78_row0_col0\" class=\"data row0 col0\" >0.804598</td>\n",
       "      <td id=\"T_c7b78_row0_col1\" class=\"data row0 col1\" >0.896098</td>\n",
       "      <td id=\"T_c7b78_row0_col2\" class=\"data row0 col2\" >0.791667</td>\n",
       "      <td id=\"T_c7b78_row0_col3\" class=\"data row0 col3\" >0.820598</td>\n",
       "      <td id=\"T_c7b78_row0_col4\" class=\"data row0 col4\" >0.805873</td>\n",
       "      <td id=\"T_c7b78_row0_col5\" class=\"data row0 col5\" >0.609306</td>\n",
       "      <td id=\"T_c7b78_row0_col6\" class=\"data row0 col6\" >0.609704</td>\n",
       "    </tr>\n",
       "    <tr>\n",
       "      <th id=\"T_c7b78_level0_row1\" class=\"row_heading level0 row1\" >1</th>\n",
       "      <td id=\"T_c7b78_row1_col0\" class=\"data row1 col0\" >0.783251</td>\n",
       "      <td id=\"T_c7b78_row1_col1\" class=\"data row1 col1\" >0.887583</td>\n",
       "      <td id=\"T_c7b78_row1_col2\" class=\"data row1 col2\" >0.794872</td>\n",
       "      <td id=\"T_c7b78_row1_col3\" class=\"data row1 col3\" >0.784810</td>\n",
       "      <td id=\"T_c7b78_row1_col4\" class=\"data row1 col4\" >0.789809</td>\n",
       "      <td id=\"T_c7b78_row1_col5\" class=\"data row1 col5\" >0.566099</td>\n",
       "      <td id=\"T_c7b78_row1_col6\" class=\"data row1 col6\" >0.566148</td>\n",
       "    </tr>\n",
       "    <tr>\n",
       "      <th id=\"T_c7b78_level0_row2\" class=\"row_heading level0 row2\" >2</th>\n",
       "      <td id=\"T_c7b78_row2_col0\" class=\"data row2 col0\" >0.829228</td>\n",
       "      <td id=\"T_c7b78_row2_col1\" class=\"data row2 col1\" >0.914584</td>\n",
       "      <td id=\"T_c7b78_row2_col2\" class=\"data row2 col2\" >0.836538</td>\n",
       "      <td id=\"T_c7b78_row2_col3\" class=\"data row2 col3\" >0.831210</td>\n",
       "      <td id=\"T_c7b78_row2_col4\" class=\"data row2 col4\" >0.833866</td>\n",
       "      <td id=\"T_c7b78_row2_col5\" class=\"data row2 col5\" >0.658194</td>\n",
       "      <td id=\"T_c7b78_row2_col6\" class=\"data row2 col6\" >0.658208</td>\n",
       "    </tr>\n",
       "    <tr>\n",
       "      <th id=\"T_c7b78_level0_row3\" class=\"row_heading level0 row3\" >3</th>\n",
       "      <td id=\"T_c7b78_row3_col0\" class=\"data row3 col0\" >0.807882</td>\n",
       "      <td id=\"T_c7b78_row3_col1\" class=\"data row3 col1\" >0.902325</td>\n",
       "      <td id=\"T_c7b78_row3_col2\" class=\"data row3 col2\" >0.794872</td>\n",
       "      <td id=\"T_c7b78_row3_col3\" class=\"data row3 col3\" >0.823920</td>\n",
       "      <td id=\"T_c7b78_row3_col4\" class=\"data row3 col4\" >0.809135</td>\n",
       "      <td id=\"T_c7b78_row3_col5\" class=\"data row3 col5\" >0.615872</td>\n",
       "      <td id=\"T_c7b78_row3_col6\" class=\"data row3 col6\" >0.616274</td>\n",
       "    </tr>\n",
       "    <tr>\n",
       "      <th id=\"T_c7b78_level0_row4\" class=\"row_heading level0 row4\" >4</th>\n",
       "      <td id=\"T_c7b78_row4_col0\" class=\"data row4 col0\" >0.817734</td>\n",
       "      <td id=\"T_c7b78_row4_col1\" class=\"data row4 col1\" >0.909447</td>\n",
       "      <td id=\"T_c7b78_row4_col2\" class=\"data row4 col2\" >0.833333</td>\n",
       "      <td id=\"T_c7b78_row4_col3\" class=\"data row4 col3\" >0.815047</td>\n",
       "      <td id=\"T_c7b78_row4_col4\" class=\"data row4 col4\" >0.824089</td>\n",
       "      <td id=\"T_c7b78_row4_col5\" class=\"data row4 col5\" >0.635040</td>\n",
       "      <td id=\"T_c7b78_row4_col6\" class=\"data row4 col6\" >0.635208</td>\n",
       "    </tr>\n",
       "    <tr>\n",
       "      <th id=\"T_c7b78_level0_row5\" class=\"row_heading level0 row5\" >5</th>\n",
       "      <td id=\"T_c7b78_row5_col0\" class=\"data row5 col0\" >0.848684</td>\n",
       "      <td id=\"T_c7b78_row5_col1\" class=\"data row5 col1\" >0.929379</td>\n",
       "      <td id=\"T_c7b78_row5_col2\" class=\"data row5 col2\" >0.858974</td>\n",
       "      <td id=\"T_c7b78_row5_col3\" class=\"data row5 col3\" >0.848101</td>\n",
       "      <td id=\"T_c7b78_row5_col4\" class=\"data row5 col4\" >0.853503</td>\n",
       "      <td id=\"T_c7b78_row5_col5\" class=\"data row5 col5\" >0.697054</td>\n",
       "      <td id=\"T_c7b78_row5_col6\" class=\"data row5 col6\" >0.697114</td>\n",
       "    </tr>\n",
       "    <tr>\n",
       "      <th id=\"T_c7b78_level0_row6\" class=\"row_heading level0 row6\" >6</th>\n",
       "      <td id=\"T_c7b78_row6_col0\" class=\"data row6 col0\" >0.824013</td>\n",
       "      <td id=\"T_c7b78_row6_col1\" class=\"data row6 col1\" >0.915446</td>\n",
       "      <td id=\"T_c7b78_row6_col2\" class=\"data row6 col2\" >0.868167</td>\n",
       "      <td id=\"T_c7b78_row6_col3\" class=\"data row6 col3\" >0.803571</td>\n",
       "      <td id=\"T_c7b78_row6_col4\" class=\"data row6 col4\" >0.834621</td>\n",
       "      <td id=\"T_c7b78_row6_col5\" class=\"data row6 col5\" >0.647171</td>\n",
       "      <td id=\"T_c7b78_row6_col6\" class=\"data row6 col6\" >0.649381</td>\n",
       "    </tr>\n",
       "    <tr>\n",
       "      <th id=\"T_c7b78_level0_row7\" class=\"row_heading level0 row7\" >7</th>\n",
       "      <td id=\"T_c7b78_row7_col0\" class=\"data row7 col0\" >0.824013</td>\n",
       "      <td id=\"T_c7b78_row7_col1\" class=\"data row7 col1\" >0.901155</td>\n",
       "      <td id=\"T_c7b78_row7_col2\" class=\"data row7 col2\" >0.829582</td>\n",
       "      <td id=\"T_c7b78_row7_col3\" class=\"data row7 col3\" >0.826923</td>\n",
       "      <td id=\"T_c7b78_row7_col4\" class=\"data row7 col4\" >0.828250</td>\n",
       "      <td id=\"T_c7b78_row7_col5\" class=\"data row7 col5\" >0.647813</td>\n",
       "      <td id=\"T_c7b78_row7_col6\" class=\"data row7 col6\" >0.647816</td>\n",
       "    </tr>\n",
       "    <tr>\n",
       "      <th id=\"T_c7b78_level0_row8\" class=\"row_heading level0 row8\" >8</th>\n",
       "      <td id=\"T_c7b78_row8_col0\" class=\"data row8 col0\" >0.802632</td>\n",
       "      <td id=\"T_c7b78_row8_col1\" class=\"data row8 col1\" >0.894010</td>\n",
       "      <td id=\"T_c7b78_row8_col2\" class=\"data row8 col2\" >0.826367</td>\n",
       "      <td id=\"T_c7b78_row8_col3\" class=\"data row8 col3\" >0.795666</td>\n",
       "      <td id=\"T_c7b78_row8_col4\" class=\"data row8 col4\" >0.810726</td>\n",
       "      <td id=\"T_c7b78_row8_col5\" class=\"data row8 col5\" >0.604694</td>\n",
       "      <td id=\"T_c7b78_row8_col6\" class=\"data row8 col6\" >0.605167</td>\n",
       "    </tr>\n",
       "    <tr>\n",
       "      <th id=\"T_c7b78_level0_row9\" class=\"row_heading level0 row9\" >9</th>\n",
       "      <td id=\"T_c7b78_row9_col0\" class=\"data row9 col0\" >0.809211</td>\n",
       "      <td id=\"T_c7b78_row9_col1\" class=\"data row9 col1\" >0.900679</td>\n",
       "      <td id=\"T_c7b78_row9_col2\" class=\"data row9 col2\" >0.826367</td>\n",
       "      <td id=\"T_c7b78_row9_col3\" class=\"data row9 col3\" >0.805643</td>\n",
       "      <td id=\"T_c7b78_row9_col4\" class=\"data row9 col4\" >0.815873</td>\n",
       "      <td id=\"T_c7b78_row9_col5\" class=\"data row9 col5\" >0.617987</td>\n",
       "      <td id=\"T_c7b78_row9_col6\" class=\"data row9 col6\" >0.618202</td>\n",
       "    </tr>\n",
       "    <tr>\n",
       "      <th id=\"T_c7b78_level0_row10\" class=\"row_heading level0 row10\" >Mean</th>\n",
       "      <td id=\"T_c7b78_row10_col0\" class=\"data row10 col0\" >0.815125</td>\n",
       "      <td id=\"T_c7b78_row10_col1\" class=\"data row10 col1\" >0.905070</td>\n",
       "      <td id=\"T_c7b78_row10_col2\" class=\"data row10 col2\" >0.826074</td>\n",
       "      <td id=\"T_c7b78_row10_col3\" class=\"data row10 col3\" >0.815549</td>\n",
       "      <td id=\"T_c7b78_row10_col4\" class=\"data row10 col4\" >0.820575</td>\n",
       "      <td id=\"T_c7b78_row10_col5\" class=\"data row10 col5\" >0.629923</td>\n",
       "      <td id=\"T_c7b78_row10_col6\" class=\"data row10 col6\" >0.630322</td>\n",
       "    </tr>\n",
       "    <tr>\n",
       "      <th id=\"T_c7b78_level0_row11\" class=\"row_heading level0 row11\" >Std</th>\n",
       "      <td id=\"T_c7b78_row11_col0\" class=\"data row11 col0\" >0.016912</td>\n",
       "      <td id=\"T_c7b78_row11_col1\" class=\"data row11 col1\" >0.011658</td>\n",
       "      <td id=\"T_c7b78_row11_col2\" class=\"data row11 col2\" >0.024819</td>\n",
       "      <td id=\"T_c7b78_row11_col3\" class=\"data row11 col3\" >0.017641</td>\n",
       "      <td id=\"T_c7b78_row11_col4\" class=\"data row11 col4\" >0.017153</td>\n",
       "      <td id=\"T_c7b78_row11_col5\" class=\"data row11 col5\" >0.033800</td>\n",
       "      <td id=\"T_c7b78_row11_col6\" class=\"data row11 col6\" >0.033841</td>\n",
       "    </tr>\n",
       "  </tbody>\n",
       "</table>\n"
      ],
      "text/plain": [
       "<pandas.io.formats.style.Styler at 0x7fbb8389f820>"
      ]
     },
     "metadata": {},
     "output_type": "display_data"
    }
   ],
   "source": [
    "catboost_model = pycaret.classification.create_model('catboost', fold=10, round=6)"
   ]
  },
  {
   "cell_type": "code",
   "execution_count": 51,
   "id": "1dad5b5a",
   "metadata": {
    "ExecuteTime": {
     "end_time": "2022-07-05T05:32:26.709447Z",
     "start_time": "2022-07-05T05:29:59.259132Z"
    }
   },
   "outputs": [
    {
     "data": {
      "text/html": [
       "<style type=\"text/css\">\n",
       "#T_589d5_row10_col0, #T_589d5_row10_col1, #T_589d5_row10_col2, #T_589d5_row10_col3, #T_589d5_row10_col4, #T_589d5_row10_col5, #T_589d5_row10_col6 {\n",
       "  background: yellow;\n",
       "}\n",
       "</style>\n",
       "<table id=\"T_589d5\">\n",
       "  <thead>\n",
       "    <tr>\n",
       "      <th class=\"blank level0\" >&nbsp;</th>\n",
       "      <th id=\"T_589d5_level0_col0\" class=\"col_heading level0 col0\" >Accuracy</th>\n",
       "      <th id=\"T_589d5_level0_col1\" class=\"col_heading level0 col1\" >AUC</th>\n",
       "      <th id=\"T_589d5_level0_col2\" class=\"col_heading level0 col2\" >Recall</th>\n",
       "      <th id=\"T_589d5_level0_col3\" class=\"col_heading level0 col3\" >Prec.</th>\n",
       "      <th id=\"T_589d5_level0_col4\" class=\"col_heading level0 col4\" >F1</th>\n",
       "      <th id=\"T_589d5_level0_col5\" class=\"col_heading level0 col5\" >Kappa</th>\n",
       "      <th id=\"T_589d5_level0_col6\" class=\"col_heading level0 col6\" >MCC</th>\n",
       "    </tr>\n",
       "    <tr>\n",
       "      <th class=\"index_name level0\" >Fold</th>\n",
       "      <th class=\"blank col0\" >&nbsp;</th>\n",
       "      <th class=\"blank col1\" >&nbsp;</th>\n",
       "      <th class=\"blank col2\" >&nbsp;</th>\n",
       "      <th class=\"blank col3\" >&nbsp;</th>\n",
       "      <th class=\"blank col4\" >&nbsp;</th>\n",
       "      <th class=\"blank col5\" >&nbsp;</th>\n",
       "      <th class=\"blank col6\" >&nbsp;</th>\n",
       "    </tr>\n",
       "  </thead>\n",
       "  <tbody>\n",
       "    <tr>\n",
       "      <th id=\"T_589d5_level0_row0\" class=\"row_heading level0 row0\" >0</th>\n",
       "      <td id=\"T_589d5_row0_col0\" class=\"data row0 col0\" >0.7997</td>\n",
       "      <td id=\"T_589d5_row0_col1\" class=\"data row0 col1\" >0.8934</td>\n",
       "      <td id=\"T_589d5_row0_col2\" class=\"data row0 col2\" >0.7885</td>\n",
       "      <td id=\"T_589d5_row0_col3\" class=\"data row0 col3\" >0.8146</td>\n",
       "      <td id=\"T_589d5_row0_col4\" class=\"data row0 col4\" >0.8013</td>\n",
       "      <td id=\"T_589d5_row0_col5\" class=\"data row0 col5\" >0.5994</td>\n",
       "      <td id=\"T_589d5_row0_col6\" class=\"data row0 col6\" >0.5997</td>\n",
       "    </tr>\n",
       "    <tr>\n",
       "      <th id=\"T_589d5_level0_row1\" class=\"row_heading level0 row1\" >1</th>\n",
       "      <td id=\"T_589d5_row1_col0\" class=\"data row1 col0\" >0.7816</td>\n",
       "      <td id=\"T_589d5_row1_col1\" class=\"data row1 col1\" >0.8883</td>\n",
       "      <td id=\"T_589d5_row1_col2\" class=\"data row1 col2\" >0.7885</td>\n",
       "      <td id=\"T_589d5_row1_col3\" class=\"data row1 col3\" >0.7859</td>\n",
       "      <td id=\"T_589d5_row1_col4\" class=\"data row1 col4\" >0.7872</td>\n",
       "      <td id=\"T_589d5_row1_col5\" class=\"data row1 col5\" >0.5629</td>\n",
       "      <td id=\"T_589d5_row1_col6\" class=\"data row1 col6\" >0.5629</td>\n",
       "    </tr>\n",
       "    <tr>\n",
       "      <th id=\"T_589d5_level0_row2\" class=\"row_heading level0 row2\" >2</th>\n",
       "      <td id=\"T_589d5_row2_col0\" class=\"data row2 col0\" >0.8227</td>\n",
       "      <td id=\"T_589d5_row2_col1\" class=\"data row2 col1\" >0.9132</td>\n",
       "      <td id=\"T_589d5_row2_col2\" class=\"data row2 col2\" >0.8365</td>\n",
       "      <td id=\"T_589d5_row2_col3\" class=\"data row2 col3\" >0.8208</td>\n",
       "      <td id=\"T_589d5_row2_col4\" class=\"data row2 col4\" >0.8286</td>\n",
       "      <td id=\"T_589d5_row2_col5\" class=\"data row2 col5\" >0.6449</td>\n",
       "      <td id=\"T_589d5_row2_col6\" class=\"data row2 col6\" >0.6451</td>\n",
       "    </tr>\n",
       "    <tr>\n",
       "      <th id=\"T_589d5_level0_row3\" class=\"row_heading level0 row3\" >3</th>\n",
       "      <td id=\"T_589d5_row3_col0\" class=\"data row3 col0\" >0.8062</td>\n",
       "      <td id=\"T_589d5_row3_col1\" class=\"data row3 col1\" >0.8997</td>\n",
       "      <td id=\"T_589d5_row3_col2\" class=\"data row3 col2\" >0.7949</td>\n",
       "      <td id=\"T_589d5_row3_col3\" class=\"data row3 col3\" >0.8212</td>\n",
       "      <td id=\"T_589d5_row3_col4\" class=\"data row3 col4\" >0.8078</td>\n",
       "      <td id=\"T_589d5_row3_col5\" class=\"data row3 col5\" >0.6126</td>\n",
       "      <td id=\"T_589d5_row3_col6\" class=\"data row3 col6\" >0.6129</td>\n",
       "    </tr>\n",
       "    <tr>\n",
       "      <th id=\"T_589d5_level0_row4\" class=\"row_heading level0 row4\" >4</th>\n",
       "      <td id=\"T_589d5_row4_col0\" class=\"data row4 col0\" >0.8342</td>\n",
       "      <td id=\"T_589d5_row4_col1\" class=\"data row4 col1\" >0.9113</td>\n",
       "      <td id=\"T_589d5_row4_col2\" class=\"data row4 col2\" >0.8462</td>\n",
       "      <td id=\"T_589d5_row4_col3\" class=\"data row4 col3\" >0.8328</td>\n",
       "      <td id=\"T_589d5_row4_col4\" class=\"data row4 col4\" >0.8394</td>\n",
       "      <td id=\"T_589d5_row4_col5\" class=\"data row4 col5\" >0.6680</td>\n",
       "      <td id=\"T_589d5_row4_col6\" class=\"data row4 col6\" >0.6681</td>\n",
       "    </tr>\n",
       "    <tr>\n",
       "      <th id=\"T_589d5_level0_row5\" class=\"row_heading level0 row5\" >5</th>\n",
       "      <td id=\"T_589d5_row5_col0\" class=\"data row5 col0\" >0.8438</td>\n",
       "      <td id=\"T_589d5_row5_col1\" class=\"data row5 col1\" >0.9275</td>\n",
       "      <td id=\"T_589d5_row5_col2\" class=\"data row5 col2\" >0.8590</td>\n",
       "      <td id=\"T_589d5_row5_col3\" class=\"data row5 col3\" >0.8401</td>\n",
       "      <td id=\"T_589d5_row5_col4\" class=\"data row5 col4\" >0.8494</td>\n",
       "      <td id=\"T_589d5_row5_col5\" class=\"data row5 col5\" >0.6871</td>\n",
       "      <td id=\"T_589d5_row5_col6\" class=\"data row5 col6\" >0.6873</td>\n",
       "    </tr>\n",
       "    <tr>\n",
       "      <th id=\"T_589d5_level0_row6\" class=\"row_heading level0 row6\" >6</th>\n",
       "      <td id=\"T_589d5_row6_col0\" class=\"data row6 col0\" >0.8289</td>\n",
       "      <td id=\"T_589d5_row6_col1\" class=\"data row6 col1\" >0.9173</td>\n",
       "      <td id=\"T_589d5_row6_col2\" class=\"data row6 col2\" >0.8810</td>\n",
       "      <td id=\"T_589d5_row6_col3\" class=\"data row6 col3\" >0.8035</td>\n",
       "      <td id=\"T_589d5_row6_col4\" class=\"data row6 col4\" >0.8405</td>\n",
       "      <td id=\"T_589d5_row6_col5\" class=\"data row6 col5\" >0.6569</td>\n",
       "      <td id=\"T_589d5_row6_col6\" class=\"data row6 col6\" >0.6602</td>\n",
       "    </tr>\n",
       "    <tr>\n",
       "      <th id=\"T_589d5_level0_row7\" class=\"row_heading level0 row7\" >7</th>\n",
       "      <td id=\"T_589d5_row7_col0\" class=\"data row7 col0\" >0.8273</td>\n",
       "      <td id=\"T_589d5_row7_col1\" class=\"data row7 col1\" >0.9011</td>\n",
       "      <td id=\"T_589d5_row7_col2\" class=\"data row7 col2\" >0.8296</td>\n",
       "      <td id=\"T_589d5_row7_col3\" class=\"data row7 col3\" >0.8323</td>\n",
       "      <td id=\"T_589d5_row7_col4\" class=\"data row7 col4\" >0.8309</td>\n",
       "      <td id=\"T_589d5_row7_col5\" class=\"data row7 col5\" >0.6544</td>\n",
       "      <td id=\"T_589d5_row7_col6\" class=\"data row7 col6\" >0.6545</td>\n",
       "    </tr>\n",
       "    <tr>\n",
       "      <th id=\"T_589d5_level0_row8\" class=\"row_heading level0 row8\" >8</th>\n",
       "      <td id=\"T_589d5_row8_col0\" class=\"data row8 col0\" >0.8141</td>\n",
       "      <td id=\"T_589d5_row8_col1\" class=\"data row8 col1\" >0.8939</td>\n",
       "      <td id=\"T_589d5_row8_col2\" class=\"data row8 col2\" >0.8457</td>\n",
       "      <td id=\"T_589d5_row8_col3\" class=\"data row8 col3\" >0.8018</td>\n",
       "      <td id=\"T_589d5_row8_col4\" class=\"data row8 col4\" >0.8232</td>\n",
       "      <td id=\"T_589d5_row8_col5\" class=\"data row8 col5\" >0.6276</td>\n",
       "      <td id=\"T_589d5_row8_col6\" class=\"data row8 col6\" >0.6286</td>\n",
       "    </tr>\n",
       "    <tr>\n",
       "      <th id=\"T_589d5_level0_row9\" class=\"row_heading level0 row9\" >9</th>\n",
       "      <td id=\"T_589d5_row9_col0\" class=\"data row9 col0\" >0.8092</td>\n",
       "      <td id=\"T_589d5_row9_col1\" class=\"data row9 col1\" >0.8989</td>\n",
       "      <td id=\"T_589d5_row9_col2\" class=\"data row9 col2\" >0.8264</td>\n",
       "      <td id=\"T_589d5_row9_col3\" class=\"data row9 col3\" >0.8056</td>\n",
       "      <td id=\"T_589d5_row9_col4\" class=\"data row9 col4\" >0.8159</td>\n",
       "      <td id=\"T_589d5_row9_col5\" class=\"data row9 col5\" >0.6180</td>\n",
       "      <td id=\"T_589d5_row9_col6\" class=\"data row9 col6\" >0.6182</td>\n",
       "    </tr>\n",
       "    <tr>\n",
       "      <th id=\"T_589d5_level0_row10\" class=\"row_heading level0 row10\" >Mean</th>\n",
       "      <td id=\"T_589d5_row10_col0\" class=\"data row10 col0\" >0.8168</td>\n",
       "      <td id=\"T_589d5_row10_col1\" class=\"data row10 col1\" >0.9045</td>\n",
       "      <td id=\"T_589d5_row10_col2\" class=\"data row10 col2\" >0.8296</td>\n",
       "      <td id=\"T_589d5_row10_col3\" class=\"data row10 col3\" >0.8159</td>\n",
       "      <td id=\"T_589d5_row10_col4\" class=\"data row10 col4\" >0.8224</td>\n",
       "      <td id=\"T_589d5_row10_col5\" class=\"data row10 col5\" >0.6332</td>\n",
       "      <td id=\"T_589d5_row10_col6\" class=\"data row10 col6\" >0.6337</td>\n",
       "    </tr>\n",
       "    <tr>\n",
       "      <th id=\"T_589d5_level0_row11\" class=\"row_heading level0 row11\" >Std</th>\n",
       "      <td id=\"T_589d5_row11_col0\" class=\"data row11 col0\" >0.0174</td>\n",
       "      <td id=\"T_589d5_row11_col1\" class=\"data row11 col1\" >0.0117</td>\n",
       "      <td id=\"T_589d5_row11_col2\" class=\"data row11 col2\" >0.0295</td>\n",
       "      <td id=\"T_589d5_row11_col3\" class=\"data row11 col3\" >0.0160</td>\n",
       "      <td id=\"T_589d5_row11_col4\" class=\"data row11 col4\" >0.0184</td>\n",
       "      <td id=\"T_589d5_row11_col5\" class=\"data row11 col5\" >0.0347</td>\n",
       "      <td id=\"T_589d5_row11_col6\" class=\"data row11 col6\" >0.0349</td>\n",
       "    </tr>\n",
       "  </tbody>\n",
       "</table>\n"
      ],
      "text/plain": [
       "<pandas.io.formats.style.Styler at 0x7fbb8462ba30>"
      ]
     },
     "metadata": {},
     "output_type": "display_data"
    }
   ],
   "source": [
    "cat_tune = pycaret.classification.tune_model(catboost_model, n_iter=20)"
   ]
  },
  {
   "cell_type": "code",
   "execution_count": null,
   "id": "f7566b31",
   "metadata": {},
   "outputs": [],
   "source": [
    "tmp_pred = pycaret.classification.predict_model(cat_tune, data=test_df)"
   ]
  },
  {
   "cell_type": "code",
   "execution_count": 78,
   "id": "f20c91df",
   "metadata": {
    "ExecuteTime": {
     "end_time": "2022-07-05T05:41:29.109322Z",
     "start_time": "2022-07-05T05:41:29.102093Z"
    }
   },
   "outputs": [],
   "source": [
    "submission = pd.DataFrame({\n",
    "    'PassengerId': sub_id,\n",
    "    'Transported': tmp_pred['Label']\n",
    "})"
   ]
  },
  {
   "cell_type": "code",
   "execution_count": 80,
   "id": "a2be694e",
   "metadata": {
    "ExecuteTime": {
     "end_time": "2022-07-05T05:42:10.963076Z",
     "start_time": "2022-07-05T05:42:10.932499Z"
    }
   },
   "outputs": [],
   "source": [
    "submission.to_csv('output/submission_pycate.csv', index=False)   # 0.80406"
   ]
  },
  {
   "cell_type": "code",
   "execution_count": 81,
   "id": "b8819fcf",
   "metadata": {
    "ExecuteTime": {
     "end_time": "2022-07-05T05:48:25.476338Z",
     "start_time": "2022-07-05T05:46:53.221974Z"
    }
   },
   "outputs": [
    {
     "data": {
      "text/html": [
       "<style type=\"text/css\">\n",
       "#T_6d849 th {\n",
       "  text-align: left;\n",
       "}\n",
       "#T_6d849_row0_col0, #T_6d849_row0_col3, #T_6d849_row0_col4, #T_6d849_row1_col0, #T_6d849_row1_col1, #T_6d849_row1_col2, #T_6d849_row1_col3, #T_6d849_row1_col4, #T_6d849_row1_col5, #T_6d849_row1_col6, #T_6d849_row1_col7, #T_6d849_row2_col0, #T_6d849_row2_col1, #T_6d849_row2_col2, #T_6d849_row2_col3, #T_6d849_row2_col4, #T_6d849_row2_col5, #T_6d849_row2_col6, #T_6d849_row2_col7, #T_6d849_row3_col0, #T_6d849_row3_col1, #T_6d849_row3_col2, #T_6d849_row3_col3, #T_6d849_row3_col5, #T_6d849_row3_col6, #T_6d849_row3_col7, #T_6d849_row4_col0, #T_6d849_row4_col1, #T_6d849_row4_col2, #T_6d849_row4_col3, #T_6d849_row4_col4, #T_6d849_row4_col5, #T_6d849_row4_col6, #T_6d849_row4_col7, #T_6d849_row5_col0, #T_6d849_row5_col1, #T_6d849_row5_col2, #T_6d849_row5_col3, #T_6d849_row5_col4, #T_6d849_row5_col5, #T_6d849_row5_col6, #T_6d849_row5_col7, #T_6d849_row6_col0, #T_6d849_row6_col1, #T_6d849_row6_col2, #T_6d849_row6_col3, #T_6d849_row6_col4, #T_6d849_row6_col5, #T_6d849_row6_col6, #T_6d849_row6_col7, #T_6d849_row7_col0, #T_6d849_row7_col1, #T_6d849_row7_col2, #T_6d849_row7_col3, #T_6d849_row7_col4, #T_6d849_row7_col5, #T_6d849_row7_col6, #T_6d849_row7_col7, #T_6d849_row8_col0, #T_6d849_row8_col1, #T_6d849_row8_col2, #T_6d849_row8_col3, #T_6d849_row8_col4, #T_6d849_row8_col5, #T_6d849_row8_col6, #T_6d849_row8_col7, #T_6d849_row9_col0, #T_6d849_row9_col1, #T_6d849_row9_col2, #T_6d849_row9_col3, #T_6d849_row9_col4, #T_6d849_row9_col5, #T_6d849_row9_col6, #T_6d849_row9_col7, #T_6d849_row10_col0, #T_6d849_row10_col1, #T_6d849_row10_col2, #T_6d849_row10_col3, #T_6d849_row10_col4, #T_6d849_row10_col5, #T_6d849_row10_col6, #T_6d849_row10_col7, #T_6d849_row11_col0, #T_6d849_row11_col1, #T_6d849_row11_col2, #T_6d849_row11_col3, #T_6d849_row11_col4, #T_6d849_row11_col5, #T_6d849_row11_col6, #T_6d849_row11_col7, #T_6d849_row12_col0, #T_6d849_row12_col1, #T_6d849_row12_col2, #T_6d849_row12_col3, #T_6d849_row12_col4, #T_6d849_row12_col5, #T_6d849_row12_col6, #T_6d849_row12_col7, #T_6d849_row13_col0, #T_6d849_row13_col1, #T_6d849_row13_col2, #T_6d849_row13_col3, #T_6d849_row13_col4, #T_6d849_row13_col5, #T_6d849_row13_col6, #T_6d849_row13_col7, #T_6d849_row14_col0, #T_6d849_row14_col1, #T_6d849_row14_col2, #T_6d849_row14_col3, #T_6d849_row14_col4, #T_6d849_row14_col5, #T_6d849_row14_col6, #T_6d849_row14_col7, #T_6d849_row15_col0, #T_6d849_row15_col1, #T_6d849_row15_col2, #T_6d849_row15_col4, #T_6d849_row15_col5, #T_6d849_row15_col6, #T_6d849_row15_col7 {\n",
       "  text-align: left;\n",
       "}\n",
       "#T_6d849_row0_col1, #T_6d849_row0_col2, #T_6d849_row0_col5, #T_6d849_row0_col6, #T_6d849_row0_col7, #T_6d849_row3_col4, #T_6d849_row15_col3 {\n",
       "  text-align: left;\n",
       "  background-color: yellow;\n",
       "}\n",
       "#T_6d849_row0_col8, #T_6d849_row1_col8, #T_6d849_row2_col8, #T_6d849_row3_col8, #T_6d849_row4_col8, #T_6d849_row5_col8, #T_6d849_row6_col8, #T_6d849_row7_col8, #T_6d849_row9_col8, #T_6d849_row10_col8, #T_6d849_row11_col8, #T_6d849_row12_col8, #T_6d849_row13_col8, #T_6d849_row14_col8, #T_6d849_row15_col8 {\n",
       "  text-align: left;\n",
       "  background-color: lightgrey;\n",
       "}\n",
       "#T_6d849_row8_col8 {\n",
       "  text-align: left;\n",
       "  background-color: yellow;\n",
       "  background-color: lightgrey;\n",
       "}\n",
       "</style>\n",
       "<table id=\"T_6d849\">\n",
       "  <thead>\n",
       "    <tr>\n",
       "      <th class=\"blank level0\" >&nbsp;</th>\n",
       "      <th id=\"T_6d849_level0_col0\" class=\"col_heading level0 col0\" >Model</th>\n",
       "      <th id=\"T_6d849_level0_col1\" class=\"col_heading level0 col1\" >Accuracy</th>\n",
       "      <th id=\"T_6d849_level0_col2\" class=\"col_heading level0 col2\" >AUC</th>\n",
       "      <th id=\"T_6d849_level0_col3\" class=\"col_heading level0 col3\" >Recall</th>\n",
       "      <th id=\"T_6d849_level0_col4\" class=\"col_heading level0 col4\" >Prec.</th>\n",
       "      <th id=\"T_6d849_level0_col5\" class=\"col_heading level0 col5\" >F1</th>\n",
       "      <th id=\"T_6d849_level0_col6\" class=\"col_heading level0 col6\" >Kappa</th>\n",
       "      <th id=\"T_6d849_level0_col7\" class=\"col_heading level0 col7\" >MCC</th>\n",
       "      <th id=\"T_6d849_level0_col8\" class=\"col_heading level0 col8\" >TT (Sec)</th>\n",
       "    </tr>\n",
       "  </thead>\n",
       "  <tbody>\n",
       "    <tr>\n",
       "      <th id=\"T_6d849_level0_row0\" class=\"row_heading level0 row0\" >catboost</th>\n",
       "      <td id=\"T_6d849_row0_col0\" class=\"data row0 col0\" >CatBoost Classifier</td>\n",
       "      <td id=\"T_6d849_row0_col1\" class=\"data row0 col1\" >0.8151</td>\n",
       "      <td id=\"T_6d849_row0_col2\" class=\"data row0 col2\" >0.9051</td>\n",
       "      <td id=\"T_6d849_row0_col3\" class=\"data row0 col3\" >0.8261</td>\n",
       "      <td id=\"T_6d849_row0_col4\" class=\"data row0 col4\" >0.8155</td>\n",
       "      <td id=\"T_6d849_row0_col5\" class=\"data row0 col5\" >0.8206</td>\n",
       "      <td id=\"T_6d849_row0_col6\" class=\"data row0 col6\" >0.6299</td>\n",
       "      <td id=\"T_6d849_row0_col7\" class=\"data row0 col7\" >0.6303</td>\n",
       "      <td id=\"T_6d849_row0_col8\" class=\"data row0 col8\" >2.5860</td>\n",
       "    </tr>\n",
       "    <tr>\n",
       "      <th id=\"T_6d849_level0_row1\" class=\"row_heading level0 row1\" >lightgbm</th>\n",
       "      <td id=\"T_6d849_row1_col0\" class=\"data row1 col0\" >Light Gradient Boosting Machine</td>\n",
       "      <td id=\"T_6d849_row1_col1\" class=\"data row1 col1\" >0.8049</td>\n",
       "      <td id=\"T_6d849_row1_col2\" class=\"data row1 col2\" >0.9017</td>\n",
       "      <td id=\"T_6d849_row1_col3\" class=\"data row1 col3\" >0.8033</td>\n",
       "      <td id=\"T_6d849_row1_col4\" class=\"data row1 col4\" >0.8138</td>\n",
       "      <td id=\"T_6d849_row1_col5\" class=\"data row1 col5\" >0.8083</td>\n",
       "      <td id=\"T_6d849_row1_col6\" class=\"data row1 col6\" >0.6098</td>\n",
       "      <td id=\"T_6d849_row1_col7\" class=\"data row1 col7\" >0.6101</td>\n",
       "      <td id=\"T_6d849_row1_col8\" class=\"data row1 col8\" >0.1300</td>\n",
       "    </tr>\n",
       "    <tr>\n",
       "      <th id=\"T_6d849_level0_row2\" class=\"row_heading level0 row2\" >gbc</th>\n",
       "      <td id=\"T_6d849_row2_col0\" class=\"data row2 col0\" >Gradient Boosting Classifier</td>\n",
       "      <td id=\"T_6d849_row2_col1\" class=\"data row2 col1\" >0.8044</td>\n",
       "      <td id=\"T_6d849_row2_col2\" class=\"data row2 col2\" >0.8951</td>\n",
       "      <td id=\"T_6d849_row2_col3\" class=\"data row2 col3\" >0.8286</td>\n",
       "      <td id=\"T_6d849_row2_col4\" class=\"data row2 col4\" >0.7977</td>\n",
       "      <td id=\"T_6d849_row2_col5\" class=\"data row2 col5\" >0.8127</td>\n",
       "      <td id=\"T_6d849_row2_col6\" class=\"data row2 col6\" >0.6083</td>\n",
       "      <td id=\"T_6d849_row2_col7\" class=\"data row2 col7\" >0.6092</td>\n",
       "      <td id=\"T_6d849_row2_col8\" class=\"data row2 col8\" >0.5380</td>\n",
       "    </tr>\n",
       "    <tr>\n",
       "      <th id=\"T_6d849_level0_row3\" class=\"row_heading level0 row3\" >rf</th>\n",
       "      <td id=\"T_6d849_row3_col0\" class=\"data row3 col0\" >Random Forest Classifier</td>\n",
       "      <td id=\"T_6d849_row3_col1\" class=\"data row3 col1\" >0.8038</td>\n",
       "      <td id=\"T_6d849_row3_col2\" class=\"data row3 col2\" >0.8893</td>\n",
       "      <td id=\"T_6d849_row3_col3\" class=\"data row3 col3\" >0.7805</td>\n",
       "      <td id=\"T_6d849_row3_col4\" class=\"data row3 col4\" >0.8268</td>\n",
       "      <td id=\"T_6d849_row3_col5\" class=\"data row3 col5\" >0.8028</td>\n",
       "      <td id=\"T_6d849_row3_col6\" class=\"data row3 col6\" >0.6079</td>\n",
       "      <td id=\"T_6d849_row3_col7\" class=\"data row3 col7\" >0.6092</td>\n",
       "      <td id=\"T_6d849_row3_col8\" class=\"data row3 col8\" >0.4700</td>\n",
       "    </tr>\n",
       "    <tr>\n",
       "      <th id=\"T_6d849_level0_row4\" class=\"row_heading level0 row4\" >xgboost</th>\n",
       "      <td id=\"T_6d849_row4_col0\" class=\"data row4 col0\" >Extreme Gradient Boosting</td>\n",
       "      <td id=\"T_6d849_row4_col1\" class=\"data row4 col1\" >0.8030</td>\n",
       "      <td id=\"T_6d849_row4_col2\" class=\"data row4 col2\" >0.8945</td>\n",
       "      <td id=\"T_6d849_row4_col3\" class=\"data row4 col3\" >0.7949</td>\n",
       "      <td id=\"T_6d849_row4_col4\" class=\"data row4 col4\" >0.8158</td>\n",
       "      <td id=\"T_6d849_row4_col5\" class=\"data row4 col5\" >0.8051</td>\n",
       "      <td id=\"T_6d849_row4_col6\" class=\"data row4 col6\" >0.6059</td>\n",
       "      <td id=\"T_6d849_row4_col7\" class=\"data row4 col7\" >0.6064</td>\n",
       "      <td id=\"T_6d849_row4_col8\" class=\"data row4 col8\" >0.9130</td>\n",
       "    </tr>\n",
       "    <tr>\n",
       "      <th id=\"T_6d849_level0_row5\" class=\"row_heading level0 row5\" >et</th>\n",
       "      <td id=\"T_6d849_row5_col0\" class=\"data row5 col0\" >Extra Trees Classifier</td>\n",
       "      <td id=\"T_6d849_row5_col1\" class=\"data row5 col1\" >0.8007</td>\n",
       "      <td id=\"T_6d849_row5_col2\" class=\"data row5 col2\" >0.8806</td>\n",
       "      <td id=\"T_6d849_row5_col3\" class=\"data row5 col3\" >0.7731</td>\n",
       "      <td id=\"T_6d849_row5_col4\" class=\"data row5 col4\" >0.8265</td>\n",
       "      <td id=\"T_6d849_row5_col5\" class=\"data row5 col5\" >0.7988</td>\n",
       "      <td id=\"T_6d849_row5_col6\" class=\"data row5 col6\" >0.6017</td>\n",
       "      <td id=\"T_6d849_row5_col7\" class=\"data row5 col7\" >0.6032</td>\n",
       "      <td id=\"T_6d849_row5_col8\" class=\"data row5 col8\" >0.4420</td>\n",
       "    </tr>\n",
       "    <tr>\n",
       "      <th id=\"T_6d849_level0_row6\" class=\"row_heading level0 row6\" >ada</th>\n",
       "      <td id=\"T_6d849_row6_col0\" class=\"data row6 col0\" >Ada Boost Classifier</td>\n",
       "      <td id=\"T_6d849_row6_col1\" class=\"data row6 col1\" >0.7961</td>\n",
       "      <td id=\"T_6d849_row6_col2\" class=\"data row6 col2\" >0.8806</td>\n",
       "      <td id=\"T_6d849_row6_col3\" class=\"data row6 col3\" >0.8447</td>\n",
       "      <td id=\"T_6d849_row6_col4\" class=\"data row6 col4\" >0.7767</td>\n",
       "      <td id=\"T_6d849_row6_col5\" class=\"data row6 col5\" >0.8091</td>\n",
       "      <td id=\"T_6d849_row6_col6\" class=\"data row6 col6\" >0.5910</td>\n",
       "      <td id=\"T_6d849_row6_col7\" class=\"data row6 col7\" >0.5937</td>\n",
       "      <td id=\"T_6d849_row6_col8\" class=\"data row6 col8\" >0.2670</td>\n",
       "    </tr>\n",
       "    <tr>\n",
       "      <th id=\"T_6d849_level0_row7\" class=\"row_heading level0 row7\" >lr</th>\n",
       "      <td id=\"T_6d849_row7_col0\" class=\"data row7 col0\" >Logistic Regression</td>\n",
       "      <td id=\"T_6d849_row7_col1\" class=\"data row7 col1\" >0.7870</td>\n",
       "      <td id=\"T_6d849_row7_col2\" class=\"data row7 col2\" >0.8788</td>\n",
       "      <td id=\"T_6d849_row7_col3\" class=\"data row7 col3\" >0.8193</td>\n",
       "      <td id=\"T_6d849_row7_col4\" class=\"data row7 col4\" >0.7769</td>\n",
       "      <td id=\"T_6d849_row7_col5\" class=\"data row7 col5\" >0.7975</td>\n",
       "      <td id=\"T_6d849_row7_col6\" class=\"data row7 col6\" >0.5732</td>\n",
       "      <td id=\"T_6d849_row7_col7\" class=\"data row7 col7\" >0.5743</td>\n",
       "      <td id=\"T_6d849_row7_col8\" class=\"data row7 col8\" >1.4040</td>\n",
       "    </tr>\n",
       "    <tr>\n",
       "      <th id=\"T_6d849_level0_row8\" class=\"row_heading level0 row8\" >ridge</th>\n",
       "      <td id=\"T_6d849_row8_col0\" class=\"data row8 col0\" >Ridge Classifier</td>\n",
       "      <td id=\"T_6d849_row8_col1\" class=\"data row8 col1\" >0.7747</td>\n",
       "      <td id=\"T_6d849_row8_col2\" class=\"data row8 col2\" >0.0000</td>\n",
       "      <td id=\"T_6d849_row8_col3\" class=\"data row8 col3\" >0.7510</td>\n",
       "      <td id=\"T_6d849_row8_col4\" class=\"data row8 col4\" >0.7973</td>\n",
       "      <td id=\"T_6d849_row8_col5\" class=\"data row8 col5\" >0.7732</td>\n",
       "      <td id=\"T_6d849_row8_col6\" class=\"data row8 col6\" >0.5498</td>\n",
       "      <td id=\"T_6d849_row8_col7\" class=\"data row8 col7\" >0.5510</td>\n",
       "      <td id=\"T_6d849_row8_col8\" class=\"data row8 col8\" >0.0130</td>\n",
       "    </tr>\n",
       "    <tr>\n",
       "      <th id=\"T_6d849_level0_row9\" class=\"row_heading level0 row9\" >lda</th>\n",
       "      <td id=\"T_6d849_row9_col0\" class=\"data row9 col0\" >Linear Discriminant Analysis</td>\n",
       "      <td id=\"T_6d849_row9_col1\" class=\"data row9 col1\" >0.7745</td>\n",
       "      <td id=\"T_6d849_row9_col2\" class=\"data row9 col2\" >0.8597</td>\n",
       "      <td id=\"T_6d849_row9_col3\" class=\"data row9 col3\" >0.7506</td>\n",
       "      <td id=\"T_6d849_row9_col4\" class=\"data row9 col4\" >0.7972</td>\n",
       "      <td id=\"T_6d849_row9_col5\" class=\"data row9 col5\" >0.7730</td>\n",
       "      <td id=\"T_6d849_row9_col6\" class=\"data row9 col6\" >0.5495</td>\n",
       "      <td id=\"T_6d849_row9_col7\" class=\"data row9 col7\" >0.5507</td>\n",
       "      <td id=\"T_6d849_row9_col8\" class=\"data row9 col8\" >0.0380</td>\n",
       "    </tr>\n",
       "    <tr>\n",
       "      <th id=\"T_6d849_level0_row10\" class=\"row_heading level0 row10\" >nb</th>\n",
       "      <td id=\"T_6d849_row10_col0\" class=\"data row10 col0\" >Naive Bayes</td>\n",
       "      <td id=\"T_6d849_row10_col1\" class=\"data row10 col1\" >0.7629</td>\n",
       "      <td id=\"T_6d849_row10_col2\" class=\"data row10 col2\" >0.8545</td>\n",
       "      <td id=\"T_6d849_row10_col3\" class=\"data row10 col3\" >0.8787</td>\n",
       "      <td id=\"T_6d849_row10_col4\" class=\"data row10 col4\" >0.7202</td>\n",
       "      <td id=\"T_6d849_row10_col5\" class=\"data row10 col5\" >0.7915</td>\n",
       "      <td id=\"T_6d849_row10_col6\" class=\"data row10 col6\" >0.5228</td>\n",
       "      <td id=\"T_6d849_row10_col7\" class=\"data row10 col7\" >0.5372</td>\n",
       "      <td id=\"T_6d849_row10_col8\" class=\"data row10 col8\" >0.0240</td>\n",
       "    </tr>\n",
       "    <tr>\n",
       "      <th id=\"T_6d849_level0_row11\" class=\"row_heading level0 row11\" >knn</th>\n",
       "      <td id=\"T_6d849_row11_col0\" class=\"data row11 col0\" >K Neighbors Classifier</td>\n",
       "      <td id=\"T_6d849_row11_col1\" class=\"data row11 col1\" >0.7607</td>\n",
       "      <td id=\"T_6d849_row11_col2\" class=\"data row11 col2\" >0.8192</td>\n",
       "      <td id=\"T_6d849_row11_col3\" class=\"data row11 col3\" >0.7975</td>\n",
       "      <td id=\"T_6d849_row11_col4\" class=\"data row11 col4\" >0.7510</td>\n",
       "      <td id=\"T_6d849_row11_col5\" class=\"data row11 col5\" >0.7734</td>\n",
       "      <td id=\"T_6d849_row11_col6\" class=\"data row11 col6\" >0.5204</td>\n",
       "      <td id=\"T_6d849_row11_col7\" class=\"data row11 col7\" >0.5217</td>\n",
       "      <td id=\"T_6d849_row11_col8\" class=\"data row11 col8\" >0.1410</td>\n",
       "    </tr>\n",
       "    <tr>\n",
       "      <th id=\"T_6d849_level0_row12\" class=\"row_heading level0 row12\" >dt</th>\n",
       "      <td id=\"T_6d849_row12_col0\" class=\"data row12 col0\" >Decision Tree Classifier</td>\n",
       "      <td id=\"T_6d849_row12_col1\" class=\"data row12 col1\" >0.7492</td>\n",
       "      <td id=\"T_6d849_row12_col2\" class=\"data row12 col2\" >0.7491</td>\n",
       "      <td id=\"T_6d849_row12_col3\" class=\"data row12 col3\" >0.7539</td>\n",
       "      <td id=\"T_6d849_row12_col4\" class=\"data row12 col4\" >0.7561</td>\n",
       "      <td id=\"T_6d849_row12_col5\" class=\"data row12 col5\" >0.7548</td>\n",
       "      <td id=\"T_6d849_row12_col6\" class=\"data row12 col6\" >0.4982</td>\n",
       "      <td id=\"T_6d849_row12_col7\" class=\"data row12 col7\" >0.4985</td>\n",
       "      <td id=\"T_6d849_row12_col8\" class=\"data row12 col8\" >0.0310</td>\n",
       "    </tr>\n",
       "    <tr>\n",
       "      <th id=\"T_6d849_level0_row13\" class=\"row_heading level0 row13\" >svm</th>\n",
       "      <td id=\"T_6d849_row13_col0\" class=\"data row13 col0\" >SVM - Linear Kernel</td>\n",
       "      <td id=\"T_6d849_row13_col1\" class=\"data row13 col1\" >0.6960</td>\n",
       "      <td id=\"T_6d849_row13_col2\" class=\"data row13 col2\" >0.0000</td>\n",
       "      <td id=\"T_6d849_row13_col3\" class=\"data row13 col3\" >0.7731</td>\n",
       "      <td id=\"T_6d849_row13_col4\" class=\"data row13 col4\" >0.6891</td>\n",
       "      <td id=\"T_6d849_row13_col5\" class=\"data row13 col5\" >0.6885</td>\n",
       "      <td id=\"T_6d849_row13_col6\" class=\"data row13 col6\" >0.3907</td>\n",
       "      <td id=\"T_6d849_row13_col7\" class=\"data row13 col7\" >0.4289</td>\n",
       "      <td id=\"T_6d849_row13_col8\" class=\"data row13 col8\" >0.0510</td>\n",
       "    </tr>\n",
       "    <tr>\n",
       "      <th id=\"T_6d849_level0_row14\" class=\"row_heading level0 row14\" >qda</th>\n",
       "      <td id=\"T_6d849_row14_col0\" class=\"data row14 col0\" >Quadratic Discriminant Analysis</td>\n",
       "      <td id=\"T_6d849_row14_col1\" class=\"data row14 col1\" >0.5163</td>\n",
       "      <td id=\"T_6d849_row14_col2\" class=\"data row14 col2\" >0.5145</td>\n",
       "      <td id=\"T_6d849_row14_col3\" class=\"data row14 col3\" >0.5948</td>\n",
       "      <td id=\"T_6d849_row14_col4\" class=\"data row14 col4\" >0.5299</td>\n",
       "      <td id=\"T_6d849_row14_col5\" class=\"data row14 col5\" >0.5387</td>\n",
       "      <td id=\"T_6d849_row14_col6\" class=\"data row14 col6\" >0.0288</td>\n",
       "      <td id=\"T_6d849_row14_col7\" class=\"data row14 col7\" >0.0286</td>\n",
       "      <td id=\"T_6d849_row14_col8\" class=\"data row14 col8\" >0.0210</td>\n",
       "    </tr>\n",
       "    <tr>\n",
       "      <th id=\"T_6d849_level0_row15\" class=\"row_heading level0 row15\" >dummy</th>\n",
       "      <td id=\"T_6d849_row15_col0\" class=\"data row15 col0\" >Dummy Classifier</td>\n",
       "      <td id=\"T_6d849_row15_col1\" class=\"data row15 col1\" >0.5121</td>\n",
       "      <td id=\"T_6d849_row15_col2\" class=\"data row15 col2\" >0.5000</td>\n",
       "      <td id=\"T_6d849_row15_col3\" class=\"data row15 col3\" >1.0000</td>\n",
       "      <td id=\"T_6d849_row15_col4\" class=\"data row15 col4\" >0.5121</td>\n",
       "      <td id=\"T_6d849_row15_col5\" class=\"data row15 col5\" >0.6773</td>\n",
       "      <td id=\"T_6d849_row15_col6\" class=\"data row15 col6\" >0.0000</td>\n",
       "      <td id=\"T_6d849_row15_col7\" class=\"data row15 col7\" >0.0000</td>\n",
       "      <td id=\"T_6d849_row15_col8\" class=\"data row15 col8\" >0.0150</td>\n",
       "    </tr>\n",
       "  </tbody>\n",
       "</table>\n"
      ],
      "text/plain": [
       "<pandas.io.formats.style.Styler at 0x7fbb88cb2250>"
      ]
     },
     "metadata": {},
     "output_type": "display_data"
    }
   ],
   "source": [
    "top4_model = compare_models(fold=10, n_select=4)"
   ]
  },
  {
   "cell_type": "code",
   "execution_count": null,
   "id": "30e9b2ea",
   "metadata": {},
   "outputs": [],
   "source": [
    "blender = blend_models(top4_model)\n",
    "tmp_pred = pycaret.classification.predict_model(blender, data=test_df)\n",
    "submission = pd.DataFrame({\n",
    "    'PassengerId': sub_id,\n",
    "    'Transported': tmp_pred['Label']\n",
    "})"
   ]
  },
  {
   "cell_type": "code",
   "execution_count": 84,
   "id": "19ffefb8",
   "metadata": {
    "ExecuteTime": {
     "end_time": "2022-07-05T05:59:09.003186Z",
     "start_time": "2022-07-05T05:59:08.980191Z"
    }
   },
   "outputs": [],
   "source": [
    "submission.to_csv('output/submission_pycaret_blender.csv', index=False) # 0.79752"
   ]
  },
  {
   "cell_type": "code",
   "execution_count": 85,
   "id": "fced603c",
   "metadata": {
    "ExecuteTime": {
     "end_time": "2022-07-05T06:03:51.027974Z",
     "start_time": "2022-07-05T06:03:51.019721Z"
    }
   },
   "outputs": [],
   "source": [
    "# choose the best 5 model, use GridSearchCV to tune parameters，then stack 5 model"
   ]
  },
  {
   "cell_type": "code",
   "execution_count": 3,
   "id": "3d11783a",
   "metadata": {
    "ExecuteTime": {
     "end_time": "2022-07-27T05:23:42.578505Z",
     "start_time": "2022-07-27T05:23:42.564881Z"
    }
   },
   "outputs": [],
   "source": [
    "Final_RF_model = RandomForestClassifier(max_depth = 10,\n",
    "                                        min_samples_leaf = 19,\n",
    "                                        min_samples_split = 7,\n",
    "                                        n_estimators = 300)\n",
    "\n",
    "Final_LGB_model = LGBMClassifier(learning_rate = 0.15, \n",
    "                                 n_estimators =400, \n",
    "                                 num_leaves = 17)\n",
    "\n",
    "Final_CAT_model = CatBoostClassifier(depth=7, \n",
    "                                     n_estimators=300, \n",
    "                                     l2_leaf_reg=7, \n",
    "                                     learning_rate = 0.15)\n",
    "\n",
    "Fianl_GB_model = GradientBoostingClassifier(learning_rate=0.15,\n",
    "                                            max_depth=3,\n",
    "                                           n_estimators=400)"
   ]
  },
  {
   "cell_type": "code",
   "execution_count": null,
   "id": "854c126d",
   "metadata": {},
   "outputs": [],
   "source": [
    "stacking_model = StackingClassifier(estimators=\n",
    "            [('RF', Final_RF_model), ('LGBM', Final_LGB_model), \n",
    "             ('CAT', Final_CAT_model), ('GB', Fianl_GB_model)])\n",
    "stacking_model.fit(tr, tg)"
   ]
  },
  {
   "cell_type": "code",
   "execution_count": null,
   "id": "21b49a80",
   "metadata": {},
   "outputs": [],
   "source": [
    "stack_pred = stacking_model.predict(test_df)\n",
    "stack_pred = stack_pred.astype('bool')"
   ]
  },
  {
   "cell_type": "code",
   "execution_count": 102,
   "id": "f309986d",
   "metadata": {
    "ExecuteTime": {
     "end_time": "2022-07-05T06:47:54.108135Z",
     "start_time": "2022-07-05T06:47:54.093786Z"
    }
   },
   "outputs": [],
   "source": [
    "submission = pd.DataFrame({\n",
    "    'PassengerId': sub_id,\n",
    "    'Transported': stack_pred\n",
    "})"
   ]
  },
  {
   "cell_type": "code",
   "execution_count": 105,
   "id": "3cc91641",
   "metadata": {
    "ExecuteTime": {
     "end_time": "2022-07-05T06:48:59.784208Z",
     "start_time": "2022-07-05T06:48:59.762134Z"
    }
   },
   "outputs": [],
   "source": [
    "submission.to_csv('output/submission_stack.csv', index=False) # 0.80009"
   ]
  }
 ],
 "metadata": {
  "kernelspec": {
   "display_name": "pycaret_kernel",
   "language": "python",
   "name": "pycaret_env"
  },
  "language_info": {
   "codemirror_mode": {
    "name": "ipython",
    "version": 3
   },
   "file_extension": ".py",
   "mimetype": "text/x-python",
   "name": "python",
   "nbconvert_exporter": "python",
   "pygments_lexer": "ipython3",
   "version": "3.8.13"
  },
  "toc": {
   "base_numbering": 1,
   "nav_menu": {},
   "number_sections": true,
   "sideBar": true,
   "skip_h1_title": false,
   "title_cell": "Table of Contents",
   "title_sidebar": "Contents",
   "toc_cell": false,
   "toc_position": {},
   "toc_section_display": true,
   "toc_window_display": false
  }
 },
 "nbformat": 4,
 "nbformat_minor": 5
}
