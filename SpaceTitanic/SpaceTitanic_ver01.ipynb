{
 "cells": [
  {
   "cell_type": "code",
   "execution_count": 33,
   "id": "aacb3072",
   "metadata": {},
   "outputs": [],
   "source": [
    "import numpy as np\n",
    "import pandas as pd\n",
    "import warnings\n",
    "warnings.filterwarnings('ignore')\n",
    "\n",
    "train_df = pd.read_csv('input/train.csv')\n",
    "test_df = pd.read_csv('input/test.csv')"
   ]
  },
  {
   "cell_type": "code",
   "execution_count": 6,
   "id": "baff8667",
   "metadata": {},
   "outputs": [],
   "source": [
    "full_df = train_df.append(test_df, ignore_index=True) "
   ]
  },
  {
   "cell_type": "code",
   "execution_count": 7,
   "id": "9da5a9d5",
   "metadata": {},
   "outputs": [
    {
     "data": {
      "text/plain": [
       "((8693, 14), (4277, 13))"
      ]
     },
     "execution_count": 7,
     "metadata": {},
     "output_type": "execute_result"
    }
   ],
   "source": [
    "train_df.shape, test_df.shape"
   ]
  },
  {
   "cell_type": "code",
   "execution_count": 8,
   "id": "34155f01",
   "metadata": {},
   "outputs": [
    {
     "data": {
      "text/plain": [
       "(12970, 14)"
      ]
     },
     "execution_count": 8,
     "metadata": {},
     "output_type": "execute_result"
    }
   ],
   "source": [
    "full_df.shape"
   ]
  },
  {
   "cell_type": "code",
   "execution_count": 9,
   "id": "1379a159",
   "metadata": {},
   "outputs": [],
   "source": [
    "full_df['HomePlanet'] = full_df['HomePlanet'].fillna('Earth') \n",
    "full_df['CryoSleep'] = full_df['CryoSleep'].fillna(True) "
   ]
  },
  {
   "cell_type": "code",
   "execution_count": 10,
   "id": "38bf9a28",
   "metadata": {},
   "outputs": [],
   "source": [
    "full_df.loc[full_df.Cabin.notna(), 'Cabin_beck'] = \\\n",
    "            full_df.loc[full_df.Cabin.notna(), 'Cabin'].astype(str).map(lambda x: x.split('/')[0])\n",
    "full_df.loc[full_df.Cabin.notna(), 'Cabin_side'] = \\\n",
    "            full_df.loc[full_df.Cabin.notna(), 'Cabin'].astype(str).map(lambda x: x.split('/')[2])"
   ]
  },
  {
   "cell_type": "code",
   "execution_count": 11,
   "id": "cb5a0a3d",
   "metadata": {},
   "outputs": [],
   "source": [
    "full_df['Cabin_beck'] = full_df['Cabin_beck'].fillna('F')\n",
    "full_df['Cabin_side'] = full_df['Cabin_side'].fillna('P')"
   ]
  },
  {
   "cell_type": "code",
   "execution_count": 12,
   "id": "7be77c5b",
   "metadata": {},
   "outputs": [],
   "source": [
    "full_df['Destination'] = full_df['Destination'].fillna('TRAPPIST-1e')"
   ]
  },
  {
   "cell_type": "code",
   "execution_count": 14,
   "id": "44c7fe65",
   "metadata": {},
   "outputs": [],
   "source": [
    "full_df['Age'].fillna(full_df['Age'].mean(), inplace=True)"
   ]
  },
  {
   "cell_type": "code",
   "execution_count": 15,
   "id": "c021045a",
   "metadata": {},
   "outputs": [],
   "source": [
    "full_df['VIP'] = full_df['VIP'].fillna(False)"
   ]
  },
  {
   "cell_type": "code",
   "execution_count": 16,
   "id": "b3ea644a",
   "metadata": {},
   "outputs": [],
   "source": [
    "full_df['RoomService'].fillna(full_df.RoomService.mode()[0], inplace=True)\n",
    "full_df['FoodCourt'].fillna(full_df.FoodCourt.mode()[0], inplace=True)\n",
    "full_df['ShoppingMall'].fillna(full_df.ShoppingMall.mode()[0], inplace=True)\n",
    "full_df['Spa'].fillna(full_df.Spa.mode()[0], inplace=True)\n",
    "full_df['VRDeck'].fillna(full_df.VRDeck.mode()[0], inplace=True)"
   ]
  },
  {
   "cell_type": "code",
   "execution_count": 17,
   "id": "b14f7684",
   "metadata": {},
   "outputs": [],
   "source": [
    "from sklearn.preprocessing import LabelEncoder"
   ]
  },
  {
   "cell_type": "code",
   "execution_count": 18,
   "id": "487a55f3",
   "metadata": {},
   "outputs": [],
   "source": [
    "le1 = LabelEncoder()\n",
    "le1.fit(full_df['HomePlanet'])\n",
    "full_df['HomePlanet'] = le1.transform(full_df['HomePlanet'])"
   ]
  },
  {
   "cell_type": "code",
   "execution_count": 19,
   "id": "7fc62dfa",
   "metadata": {},
   "outputs": [],
   "source": [
    "le2 = LabelEncoder()\n",
    "le2.fit(full_df['CryoSleep'])\n",
    "full_df['CryoSleep'] = le2.transform(full_df['CryoSleep'])"
   ]
  },
  {
   "cell_type": "code",
   "execution_count": 20,
   "id": "4826050e",
   "metadata": {},
   "outputs": [],
   "source": [
    "le3 = LabelEncoder()\n",
    "le3.fit(full_df['Destination'])\n",
    "full_df['Destination'] = le3.transform(full_df['Destination'])"
   ]
  },
  {
   "cell_type": "code",
   "execution_count": 21,
   "id": "2fb0eba7",
   "metadata": {},
   "outputs": [],
   "source": [
    "le4 = LabelEncoder()\n",
    "le4.fit(full_df['VIP'])\n",
    "full_df['VIP'] = le4.transform(full_df['VIP'])"
   ]
  },
  {
   "cell_type": "code",
   "execution_count": 22,
   "id": "8a9b9a32",
   "metadata": {},
   "outputs": [],
   "source": [
    "le5 = LabelEncoder()\n",
    "le5.fit(full_df['Cabin_beck'])\n",
    "full_df['Cabin_beck'] = le5.transform(full_df['Cabin_beck'])"
   ]
  },
  {
   "cell_type": "code",
   "execution_count": 23,
   "id": "fcc5240a",
   "metadata": {},
   "outputs": [],
   "source": [
    "le6 = LabelEncoder()\n",
    "le6.fit(full_df['Cabin_side'])\n",
    "full_df['Cabin_side'] = le6.transform(full_df['Cabin_side'])"
   ]
  },
  {
   "cell_type": "code",
   "execution_count": 24,
   "id": "31b2d86b",
   "metadata": {},
   "outputs": [],
   "source": [
    "FEATURES = [\"HomePlanet\", \"CryoSleep\", \"Destination\", \"Age\", \"VIP\", \"RoomService\", \\\n",
    "            \"FoodCourt\", \"ShoppingMall\", \"Spa\", \"VRDeck\", \"Cabin_beck\", \"Cabin_side\"]\n",
    "TARGET = [\"Transported\"]"
   ]
  },
  {
   "cell_type": "code",
   "execution_count": 25,
   "id": "0bed6f56",
   "metadata": {},
   "outputs": [],
   "source": [
    "train_X = full_df[full_df.Transported.notnull()][FEATURES]\n",
    "train_y = full_df[full_df.Transported.notnull()][TARGET]\n",
    "train_y = train_y.astype(int).values.ravel()\n",
    "\n",
    "test_X = full_df[full_df.Transported.isnull()][FEATURES]"
   ]
  },
  {
   "cell_type": "markdown",
   "id": "7f2a63f3",
   "metadata": {},
   "source": [
    "<font color=black size=5 face=雅黑>**Modeling**</font>"
   ]
  },
  {
   "cell_type": "code",
   "execution_count": 26,
   "id": "da6e1063",
   "metadata": {},
   "outputs": [],
   "source": [
    "from sklearn.ensemble import RandomForestClassifier, GradientBoostingClassifier\n",
    "from sklearn.svm import SVC\n",
    "from sklearn.tree import DecisionTreeClassifier\n",
    "from sklearn.model_selection import GridSearchCV, cross_val_score, StratifiedKFold"
   ]
  },
  {
   "cell_type": "code",
   "execution_count": 29,
   "id": "abd97bdf",
   "metadata": {},
   "outputs": [],
   "source": [
    "sfolder = StratifiedKFold(n_splits=5)\n",
    "classifiers = []\n",
    "classifiers.append(SVC())\n",
    "classifiers.append(RandomForestClassifier())\n",
    "classifiers.append(GradientBoostingClassifier())\n",
    "classifiers.append(DecisionTreeClassifier())\n",
    "\n",
    "\n",
    "cv_results =[]\n",
    "for classifier in classifiers:\n",
    "    cv_results.append(cross_val_score(classifier, train_X, train_y,\n",
    "                                     scoring='accuracy', cv=sfolder, n_jobs=-1))"
   ]
  },
  {
   "cell_type": "code",
   "execution_count": 40,
   "id": "51b65d10",
   "metadata": {},
   "outputs": [
    {
     "data": {
      "text/html": [
       "<div>\n",
       "<style scoped>\n",
       "    .dataframe tbody tr th:only-of-type {\n",
       "        vertical-align: middle;\n",
       "    }\n",
       "\n",
       "    .dataframe tbody tr th {\n",
       "        vertical-align: top;\n",
       "    }\n",
       "\n",
       "    .dataframe thead th {\n",
       "        text-align: right;\n",
       "    }\n",
       "</style>\n",
       "<table border=\"1\" class=\"dataframe\">\n",
       "  <thead>\n",
       "    <tr style=\"text-align: right;\">\n",
       "      <th></th>\n",
       "      <th>cv_algorithm</th>\n",
       "      <th>cv_mean</th>\n",
       "      <th>cv_std</th>\n",
       "    </tr>\n",
       "  </thead>\n",
       "  <tbody>\n",
       "    <tr>\n",
       "      <th>0</th>\n",
       "      <td>SVC</td>\n",
       "      <td>0.786268</td>\n",
       "      <td>0.012855</td>\n",
       "    </tr>\n",
       "    <tr>\n",
       "      <th>1</th>\n",
       "      <td>RandomForestClassifier</td>\n",
       "      <td>0.786610</td>\n",
       "      <td>0.008227</td>\n",
       "    </tr>\n",
       "    <tr>\n",
       "      <th>2</th>\n",
       "      <td>GradientBoostingClassifier</td>\n",
       "      <td>0.795355</td>\n",
       "      <td>0.009276</td>\n",
       "    </tr>\n",
       "    <tr>\n",
       "      <th>3</th>\n",
       "      <td>DecisionTreeClassifier</td>\n",
       "      <td>0.740713</td>\n",
       "      <td>0.012499</td>\n",
       "    </tr>\n",
       "  </tbody>\n",
       "</table>\n",
       "</div>"
      ],
      "text/plain": [
       "                 cv_algorithm   cv_mean    cv_std\n",
       "0                         SVC  0.786268  0.012855\n",
       "1      RandomForestClassifier  0.786610  0.008227\n",
       "2  GradientBoostingClassifier  0.795355  0.009276\n",
       "3      DecisionTreeClassifier  0.740713  0.012499"
      ]
     },
     "execution_count": 40,
     "metadata": {},
     "output_type": "execute_result"
    }
   ],
   "source": [
    "cv_means = []\n",
    "cv_stds = []\n",
    "for cv_result in cv_results:\n",
    "    cv_means.append(cv_result.mean())\n",
    "    cv_stds.append(cv_result.std())\n",
    "\n",
    "cvResDf = pd.DataFrame({ 'cv_algorithm': ['SVC','RandomForestClassifier',\n",
    "                                  'GradientBoostingClassifier','DecisionTreeClassifier'],\n",
    "                       'cv_mean': cv_means,\n",
    "                        'cv_std': cv_stds,})\n",
    "cvResDf"
   ]
  },
  {
   "cell_type": "code",
   "execution_count": 41,
   "id": "d1a174c3",
   "metadata": {},
   "outputs": [
    {
     "data": {
      "text/plain": [
       "GridSearchCV(cv=5,\n",
       "             estimator=GradientBoostingClassifier(max_depth=8,\n",
       "                                                  min_samples_leaf=20,\n",
       "                                                  min_samples_split=300,\n",
       "                                                  random_state=10,\n",
       "                                                  subsample=0.8),\n",
       "             param_grid={'n_estimators': [20, 40, 60, 80, 100, 120, 140, 160,\n",
       "                                          200]},\n",
       "             scoring='roc_auc')"
      ]
     },
     "execution_count": 41,
     "metadata": {},
     "output_type": "execute_result"
    }
   ],
   "source": [
    "import warnings\n",
    "warnings.filterwarnings('ignore')\n",
    "\n",
    "\n",
    "# choose best estimators ---> GradientBoostingClassifier\n",
    "# first tune the number of estimator, because sometimes the best paramter of learning_rate, max_depth, etc would \n",
    "# depend on the number of estimator\n",
    "params_test1 = {'n_estimators':[20, 40, 60, 80, 100, 120, 140, 160, 200]}\n",
    "gsearch1 = GridSearchCV(estimator=GradientBoostingClassifier(learning_rate=0.1, min_samples_split=300,\n",
    "                                  min_samples_leaf=20,max_depth=8, subsample=0.8,random_state=10), \n",
    "                        param_grid=params_test1, scoring='roc_auc', cv=5)\n",
    "gsearch1.fit(train_X, train_y)"
   ]
  },
  {
   "cell_type": "code",
   "execution_count": 42,
   "id": "d4b152ce",
   "metadata": {},
   "outputs": [
    {
     "data": {
      "text/plain": [
       "({'n_estimators': 60}, 0.8865234515438265)"
      ]
     },
     "execution_count": 42,
     "metadata": {},
     "output_type": "execute_result"
    }
   ],
   "source": [
    "gsearch1.best_params_, gsearch1.best_score_"
   ]
  },
  {
   "cell_type": "code",
   "execution_count": 43,
   "id": "1686c689",
   "metadata": {},
   "outputs": [
    {
     "data": {
      "text/plain": [
       "GridSearchCV(cv=5,\n",
       "             estimator=GradientBoostingClassifier(n_estimators=60,\n",
       "                                                  random_state=10,\n",
       "                                                  subsample=0.8),\n",
       "             param_grid={'learning_rate': [0.06, 0.08, 0.1, 0.12, 0.14, 0.16],\n",
       "                         'max_depth': range(3, 14, 2),\n",
       "                         'min_samples_split': range(100, 801, 200)},\n",
       "             scoring='roc_auc')"
      ]
     },
     "execution_count": 43,
     "metadata": {},
     "output_type": "execute_result"
    }
   ],
   "source": [
    "# After the best paramter of number of estimator is decided, tune learning_rate, max_depth and min_sample_split\n",
    "params_test2 = {'learning_rate': [0.06, 0.08, 0.1, 0.12, 0.14, 0.16],\n",
    "                'max_depth': range(3, 14, 2),\n",
    "                'min_samples_split': range(100, 801, 200)}\n",
    "gsearch2 = GridSearchCV(estimator=GradientBoostingClassifier(n_estimators=60, subsample=0.8,random_state=10), \n",
    "                        param_grid=params_test2, scoring='roc_auc', cv=5)\n",
    "gsearch2.fit(train_X, train_y)"
   ]
  },
  {
   "cell_type": "code",
   "execution_count": 44,
   "id": "7e6d8f9a",
   "metadata": {},
   "outputs": [
    {
     "data": {
      "text/plain": [
       "({'learning_rate': 0.12, 'max_depth': 7, 'min_samples_split': 300},\n",
       " 0.8869924854438354)"
      ]
     },
     "execution_count": 44,
     "metadata": {},
     "output_type": "execute_result"
    }
   ],
   "source": [
    "gsearch2.best_params_, gsearch2.best_score_"
   ]
  },
  {
   "cell_type": "code",
   "execution_count": 45,
   "id": "341b71a9",
   "metadata": {},
   "outputs": [],
   "source": [
    "gmb = GradientBoostingClassifier(n_estimators=60, learning_rate=0.12, max_depth=7, \n",
    "                                 min_samples_split=300, subsample=0.8,random_state=10)\n",
    "gmb.fit(train_X, train_y)\n",
    "gmb_pred = gmb.predict(test_X)"
   ]
  },
  {
   "cell_type": "code",
   "execution_count": 49,
   "id": "40a180e3",
   "metadata": {},
   "outputs": [],
   "source": [
    "gmb_output = pd.DataFrame({'PassengerId': test_df.PassengerId, 'Transported': gmb_pred})\n",
    "gmb_output['Transported'] = gmb_output['Transported'].astype(bool)\n",
    "gmb_output.to_csv('output/gmb_submission.csv', index=False)"
   ]
  },
  {
   "cell_type": "markdown",
   "id": "18e89c3d",
   "metadata": {},
   "source": [
    "<font color=black size=5 face=雅黑>**LightGBM**</font>"
   ]
  },
  {
   "cell_type": "code",
   "execution_count": 53,
   "id": "4318ca90",
   "metadata": {},
   "outputs": [],
   "source": [
    "import lightgbm as lgb\n",
    "from lightgbm import LGBMClassifier"
   ]
  },
  {
   "cell_type": "code",
   "execution_count": 54,
   "id": "0a1962d0",
   "metadata": {},
   "outputs": [],
   "source": [
    "from sklearn.model_selection import train_test_split\n",
    "\n",
    "lgb_train_X, lgb_valid_X, lgb_train_y, lgb_valid_y = \\\n",
    "          train_test_split(train_X, train_y, test_size=0.2, stratify=train_y)"
   ]
  },
  {
   "cell_type": "code",
   "execution_count": 55,
   "id": "37722031",
   "metadata": {},
   "outputs": [],
   "source": [
    "lgb_train = lgb.Dataset(lgb_train_X, lgb_train_y)\n",
    "lgb_val = lgb.Dataset(lgb_valid_X, lgb_valid_y)\n"
   ]
  },
  {
   "cell_type": "code",
   "execution_count": 62,
   "id": "7e4feaf9",
   "metadata": {},
   "outputs": [],
   "source": [
    "lgb_params = {\n",
    "    'objective': 'binary',\n",
    "    'seed': 42,\n",
    "    'metric': 'auc',\n",
    "    'learning_rate': 0.1,\n",
    "    'num_leaves': 40,\n",
    "    'verbose':-1,\n",
    "    'deterministic': True\n",
    "    \n",
    "}"
   ]
  },
  {
   "cell_type": "code",
   "execution_count": 63,
   "id": "d37a8289",
   "metadata": {},
   "outputs": [
    {
     "name": "stdout",
     "output_type": "stream",
     "text": [
      "Training until validation scores don't improve for 100 rounds\n",
      "[50]\tvalid_0's auc: 0.869956\n",
      "[100]\tvalid_0's auc: 0.867482\n",
      "Early stopping, best iteration is:\n",
      "[48]\tvalid_0's auc: 0.870153\n"
     ]
    }
   ],
   "source": [
    "lgbm = lgb.train(lgb_params, lgb_train, valid_sets=lgb_val, \n",
    "                 num_boost_round=1000, early_stopping_rounds=100, verbose_eval=50)"
   ]
  },
  {
   "cell_type": "code",
   "execution_count": 73,
   "id": "84713d89",
   "metadata": {},
   "outputs": [],
   "source": [
    "lgbm_pred = lgbm.predict(test_X)\n",
    "lgbm_pred2 = np.where(lgbm_pred>=0.5, 1, 0)"
   ]
  },
  {
   "cell_type": "code",
   "execution_count": 75,
   "id": "154b7d10",
   "metadata": {},
   "outputs": [],
   "source": [
    "lgbm_output = pd.DataFrame({'PassengerId': test_df.PassengerId, 'Transported': lgbm_pred2})\n",
    "lgbm_output['Transported'] = lgbm_output['Transported'].astype(bool)\n",
    "lgbm_output.to_csv('output/lgbm_submission.csv', index=False)"
   ]
  },
  {
   "cell_type": "code",
   "execution_count": 69,
   "id": "8c795fb1",
   "metadata": {},
   "outputs": [
    {
     "data": {
      "text/plain": [
       "GridSearchCV(estimator=LGBMClassifier(metric='auc', num_leaves=40,\n",
       "                                      objective='binary', seed=42),\n",
       "             param_grid={'learning_rate': [0.04, 0.06, 0.08, 1.0, 1.2, 1.4],\n",
       "                         'n_estimators': [20, 40, 60, 80]})"
      ]
     },
     "execution_count": 69,
     "metadata": {},
     "output_type": "execute_result"
    }
   ],
   "source": [
    "# first tune learning_rate and n_estimators together\n",
    "\n",
    "estimator = LGBMClassifier(objective='binary', seed=42, metric ='auc', num_leaves=40)\n",
    "param_gird1 = {\n",
    "    'learning_rate': [0.04, 0.06, 0.08, 1.0, 1.2, 1.4],\n",
    "    'n_estimators': [20, 40, 60, 80]\n",
    "}\n",
    "gsearch_lgbm1 = GridSearchCV(estimator=estimator, param_grid=param_gird1)\n",
    "gsearch_lgbm1.fit(train_X, train_y)"
   ]
  },
  {
   "cell_type": "code",
   "execution_count": 70,
   "id": "0195a5f8",
   "metadata": {},
   "outputs": [
    {
     "data": {
      "text/plain": [
       "({'learning_rate': 0.06, 'n_estimators': 60}, 0.8006464437652155)"
      ]
     },
     "execution_count": 70,
     "metadata": {},
     "output_type": "execute_result"
    }
   ],
   "source": [
    "gsearch_lgbm1.best_params_, gsearch_lgbm1.best_score_"
   ]
  },
  {
   "cell_type": "code",
   "execution_count": null,
   "id": "ed698777",
   "metadata": {},
   "outputs": [],
   "source": [
    "estimator = LGBMClassifier(objective='binary', seed=42, metric ='auc', learning_rate=0.06, n_estimators=60)\n",
    "param_gird2 = {\n",
    "    'num_leaves': range(30, 80, 10),\n",
    "    'feature_fraction': [0.7, 0.8, 0.9],\n",
    "    'bagging_fraction': [0.7, 0.8, 0.9],\n",
    "    'bagging_freq': [3, 4, 5, 6]\n",
    "}\n",
    "gsearch_lgbm2 = GridSearchCV(estimator=estimator, param_grid=param_gird2)\n",
    "gsearch_lgbm2.fit(train_X, train_y)"
   ]
  },
  {
   "cell_type": "code",
   "execution_count": 72,
   "id": "e345c9c6",
   "metadata": {},
   "outputs": [
    {
     "data": {
      "text/plain": [
       "({'bagging_fraction': 0.7,\n",
       "  'bagging_freq': 5,\n",
       "  'feature_fraction': 0.7,\n",
       "  'num_leaves': 30},\n",
       " 0.8038672146671069)"
      ]
     },
     "execution_count": 72,
     "metadata": {},
     "output_type": "execute_result"
    }
   ],
   "source": [
    "gsearch_lgbm2.best_params_, gsearch_lgbm2.best_score_"
   ]
  },
  {
   "cell_type": "code",
   "execution_count": 76,
   "id": "96344b88",
   "metadata": {},
   "outputs": [
    {
     "name": "stdout",
     "output_type": "stream",
     "text": [
      "[LightGBM] [Warning] bagging_fraction is set=0.7, subsample=1.0 will be ignored. Current value: bagging_fraction=0.7\n",
      "[LightGBM] [Warning] feature_fraction is set=0.7, colsample_bytree=1.0 will be ignored. Current value: feature_fraction=0.7\n",
      "[LightGBM] [Warning] bagging_freq is set=5, subsample_freq=0 will be ignored. Current value: bagging_freq=5\n"
     ]
    },
    {
     "data": {
      "text/plain": [
       "LGBMClassifier(bagging_fraction=0.7, bagging_freq=5, feature_fraction=0.7,\n",
       "               learning_rate=0.06, metric='auc', n_estimators=60, num_leaves=30,\n",
       "               objective='binary', seed=42)"
      ]
     },
     "execution_count": 76,
     "metadata": {},
     "output_type": "execute_result"
    }
   ],
   "source": [
    "lgbm2 = LGBMClassifier(objective='binary', seed=42, metric ='auc', learning_rate=0.06, \n",
    "                       n_estimators=60, num_leaves=30, bagging_fraction=0.7, bagging_freq=5,\n",
    "                       feature_fraction=0.7)\n",
    "lgbm2.fit(train_X, train_y)"
   ]
  },
  {
   "cell_type": "code",
   "execution_count": 77,
   "id": "19a88db5",
   "metadata": {},
   "outputs": [],
   "source": [
    "lgbm2_pred = lgbm2.predict(test_X)\n",
    "lgbm2_pred2 = np.where(lgbm2_pred>=0.5, 1, 0)"
   ]
  },
  {
   "cell_type": "code",
   "execution_count": 78,
   "id": "ad74ea2b",
   "metadata": {},
   "outputs": [],
   "source": [
    "lgbm2_output = pd.DataFrame({'PassengerId': test_df.PassengerId, 'Transported': lgbm2_pred2})\n",
    "lgbm2_output['Transported'] = lgbm2_output['Transported'].astype(bool)\n",
    "lgbm2_output.to_csv('output/lgbm2_submission.csv', index=False)"
   ]
  },
  {
   "cell_type": "code",
   "execution_count": null,
   "id": "7dea5c37",
   "metadata": {},
   "outputs": [],
   "source": []
  }
 ],
 "metadata": {
  "kernelspec": {
   "display_name": "Python 3 (ipykernel)",
   "language": "python",
   "name": "python3"
  },
  "language_info": {
   "codemirror_mode": {
    "name": "ipython",
    "version": 3
   },
   "file_extension": ".py",
   "mimetype": "text/x-python",
   "name": "python",
   "nbconvert_exporter": "python",
   "pygments_lexer": "ipython3",
   "version": "3.10.4"
  },
  "toc": {
   "base_numbering": 1,
   "nav_menu": {},
   "number_sections": true,
   "sideBar": true,
   "skip_h1_title": false,
   "title_cell": "Table of Contents",
   "title_sidebar": "Contents",
   "toc_cell": false,
   "toc_position": {},
   "toc_section_display": true,
   "toc_window_display": false
  }
 },
 "nbformat": 4,
 "nbformat_minor": 5
}
