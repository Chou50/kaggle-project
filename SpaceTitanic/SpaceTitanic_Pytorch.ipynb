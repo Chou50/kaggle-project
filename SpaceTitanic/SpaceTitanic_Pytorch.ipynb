{
 "cells": [
  {
   "cell_type": "code",
   "execution_count": 76,
   "id": "5dfb5ba0",
   "metadata": {
    "ExecuteTime": {
     "end_time": "2022-07-03T05:09:46.660651Z",
     "start_time": "2022-07-03T05:09:46.613007Z"
    }
   },
   "outputs": [],
   "source": [
    "import os\n",
    "import numpy as np\n",
    "import pandas as pd\n",
    "import matplotlib.pyplot as plt\n",
    "import seaborn as sns\n",
    "import sklearn.metrics as metrics\n",
    "import gc\n",
    "\n",
    "import torch\n",
    "import torch.nn as nn\n",
    "import torch.optim as optim\n",
    "from torch.utils.data import Dataset, DataLoader\n",
    "from sklearn.metrics import confusion_matrix, classification_report\n",
    "from tqdm.notebook import tqdm\n",
    "\n",
    "from sklearn.preprocessing import OneHotEncoder, LabelEncoder, StandardScaler\n",
    "from sklearn.compose import ColumnTransformer\n",
    "from sklearn.model_selection import train_test_split\n",
    "from sklearn.model_selection import StratifiedKFold,cross_val_score\n",
    "from sklearn.metrics import accuracy_score, roc_curve,auc, \\\n",
    "          confusion_matrix,precision_recall_curve,precision_recall_curve,plot_precision_recall_curve\n",
    "\n",
    "import warnings\n",
    "warnings.simplefilter('ignore')"
   ]
  },
  {
   "cell_type": "code",
   "execution_count": 77,
   "id": "ef67af7e",
   "metadata": {
    "ExecuteTime": {
     "end_time": "2022-07-03T05:09:48.861591Z",
     "start_time": "2022-07-03T05:09:48.644022Z"
    }
   },
   "outputs": [],
   "source": [
    "train_data = pd.read_csv(\"../input/train.csv\")\n",
    "test_data = pd.read_csv(\"../input/test.csv\")"
   ]
  },
  {
   "cell_type": "code",
   "execution_count": 79,
   "id": "d45ac1a5",
   "metadata": {
    "ExecuteTime": {
     "end_time": "2022-07-03T05:09:52.846569Z",
     "start_time": "2022-07-03T05:09:52.809917Z"
    }
   },
   "outputs": [],
   "source": [
    "train_data['is_train'] = True\n",
    "test_data['is_train'] = False\n",
    "df = pd.concat([train_data, test_data])"
   ]
  },
  {
   "cell_type": "code",
   "execution_count": 80,
   "id": "a5d4e1e7",
   "metadata": {
    "ExecuteTime": {
     "end_time": "2022-07-03T05:09:54.761537Z",
     "start_time": "2022-07-03T05:09:54.734129Z"
    }
   },
   "outputs": [],
   "source": [
    "def fill_missing_vals(df, fill_missing):\n",
    "    for col in fill_missing:\n",
    "        df[col].fillna(df[col].median(skipna=True), inplace=True)\n",
    "    return df\n",
    "\n",
    "fill_missing = ['Age', 'RoomService', 'FoodCourt', 'ShoppingMall', 'Spa', 'VRDeck']\n",
    "fill_missing_vals(df, fill_missing)\n",
    "df['HomePlanet'].fillna('Z', inplace=True)"
   ]
  },
  {
   "cell_type": "code",
   "execution_count": 81,
   "id": "40e74c8b",
   "metadata": {
    "ExecuteTime": {
     "end_time": "2022-07-03T05:09:57.121645Z",
     "start_time": "2022-07-03T05:09:57.091523Z"
    }
   },
   "outputs": [],
   "source": [
    "label_encode = ['HomePlanet', 'CryoSleep', 'Destination', 'VIP']\n",
    "for col in label_encode:\n",
    "    le = LabelEncoder()\n",
    "    df[col] = le.fit_transform(df[col])"
   ]
  },
  {
   "cell_type": "code",
   "execution_count": 82,
   "id": "2b29c397",
   "metadata": {
    "ExecuteTime": {
     "end_time": "2022-07-03T05:09:58.749161Z",
     "start_time": "2022-07-03T05:09:58.723131Z"
    }
   },
   "outputs": [],
   "source": [
    "mask = df['is_train'] == True\n",
    "train_data = df[mask]\n",
    "test_data = df[~mask]\n",
    "\n",
    "train_data = train_data.drop(['is_train'], axis=1)\n",
    "test_data = test_data.drop(['is_train'], axis=1)"
   ]
  },
  {
   "cell_type": "code",
   "execution_count": 83,
   "id": "e67a4751",
   "metadata": {
    "ExecuteTime": {
     "end_time": "2022-07-03T05:10:02.059889Z",
     "start_time": "2022-07-03T05:10:02.029468Z"
    }
   },
   "outputs": [],
   "source": [
    "train_data = train_data.dropna()\n",
    "train_data.drop([\"PassengerId\", \"Cabin\", \"Name\"], axis=1, inplace=True)\n",
    "test_data.drop([\"PassengerId\", \"Cabin\", \"Name\"], axis=1, inplace=True)\n",
    "train_data['Transported'] = train_data['Transported'].map({True:1, False:0})"
   ]
  },
  {
   "cell_type": "code",
   "execution_count": 125,
   "id": "d00e5fbe",
   "metadata": {
    "ExecuteTime": {
     "end_time": "2022-07-03T05:40:45.022455Z",
     "start_time": "2022-07-03T05:40:45.000560Z"
    }
   },
   "outputs": [],
   "source": [
    "class Config:\n",
    "    lr = 1e-3\n",
    "    nb_epochs = 20\n",
    "    k_folds = 5\n",
    "    device = 'cpu'\n",
    "    train_loss_fn = nn.BCEWithLogitsLoss()\n",
    "    valid_loss_fn = nn.BCEWithLogitsLoss()\n",
    "    feature_names = ['HomePlanet', 'CryoSleep', 'Destination', 'Age', 'VIP', 'RoomService',\n",
    "       'FoodCourt', 'ShoppingMall', 'Spa', 'VRDeck']\n",
    "    target_name = 'Transported'"
   ]
  },
  {
   "cell_type": "code",
   "execution_count": 117,
   "id": "a351a940",
   "metadata": {
    "ExecuteTime": {
     "end_time": "2022-07-03T05:39:04.050513Z",
     "start_time": "2022-07-03T05:39:04.041258Z"
    }
   },
   "outputs": [],
   "source": [
    "class SpaceTitanicModel(nn.Module):\n",
    "    def __init__(self, input_shape=None, output_shape=None):\n",
    "        super().__init__()\n",
    "        self.input_shape = 10 if not input_shape else input_shape\n",
    "        self.output_shape = 1 if not output_shape else output_shape\n",
    "        \n",
    "        self.l1 = nn.Linear(self.input_shape, 32)\n",
    "        self.r1 = nn.ReLU()\n",
    "        self.l2 = nn.Linear(32, self.output_shape)\n",
    "#         self.r2 = nn.ReLU()\n",
    "#         self.l3 = nn.Linear(128, 64)\n",
    "#         self.r3 = nn.ReLU()\n",
    "#         self.l4 = nn.Linear(64, self.output_shape)\n",
    "        self.sig = nn.Sigmoid()\n",
    "#         self.layers = [self.l1, self.r1, self.l2, self.r2, self.l3, self.r3, self.l4, self.sig]\n",
    "        self.layers = [self.l1, self.r1, self.l2, self.sig]\n",
    "    \n",
    "    def forward(self, x):\n",
    "        for layer in self.layers:\n",
    "            x = layer(x)\n",
    "        return x        \n",
    "        "
   ]
  },
  {
   "cell_type": "code",
   "execution_count": 118,
   "id": "a7624b40",
   "metadata": {
    "ExecuteTime": {
     "end_time": "2022-07-03T05:39:04.961860Z",
     "start_time": "2022-07-03T05:39:04.955106Z"
    }
   },
   "outputs": [],
   "source": [
    "def binary_acc(y_pred, y_test):\n",
    "    y_pred = torch.round(y_pred)\n",
    "    correct_results_sum = (y_pred == y_test).sum().float()\n",
    "    acc = correct_results_sum / y_test.shape[0]\n",
    "    acc = torch.round(acc * 100)\n",
    "    return acc"
   ]
  },
  {
   "cell_type": "code",
   "execution_count": 119,
   "id": "f22a6cc0",
   "metadata": {
    "ExecuteTime": {
     "end_time": "2022-07-03T05:39:06.301715Z",
     "start_time": "2022-07-03T05:39:06.289657Z"
    }
   },
   "outputs": [],
   "source": [
    "class SpaceTitanicData(Dataset):\n",
    "    def __init__(self, features, target, is_test=False):\n",
    "        self.features = features\n",
    "        self.target = target\n",
    "        self.is_test = is_test\n",
    "    \n",
    "    def __getitem__(self, idx):\n",
    "        data = self.features.values[idx]\n",
    "        if self.is_test:\n",
    "            return torch.tensor(data, dtype=torch.float32)\n",
    "        else:\n",
    "            target = self.target.values[idx]\n",
    "            return torch.tensor(data, dtype=torch.float32), torch.tensor(target, dtype=torch.float32)\n",
    "    \n",
    "    def __len__(self):\n",
    "        return len(self.features)"
   ]
  },
  {
   "cell_type": "code",
   "execution_count": 126,
   "id": "8dd31b88",
   "metadata": {
    "ExecuteTime": {
     "end_time": "2022-07-03T05:41:05.711465Z",
     "start_time": "2022-07-03T05:41:05.700596Z"
    }
   },
   "outputs": [],
   "source": [
    "def train_fn(model, train_loader, optimizer, loss_fn, device):\n",
    "    print(\"Trainning\")\n",
    "    model.train()\n",
    "    running_loss = 0\n",
    "#     all_targets = []\n",
    "#     all_preds = []\n",
    "    \n",
    "    prog_bar = tqdm(train_loader, total=len(train_loader))\n",
    "    for X, y in prog_bar:\n",
    "        X = X.to(device, torch.float32)\n",
    "        y = y.to(device, torch.float32)\n",
    "        \n",
    "        z = model(X)\n",
    "        train_loss = loss_fn(z, y)\n",
    "        acc = binary_acc(z, y)\n",
    "        train_loss.backward()\n",
    "        \n",
    "        optimizer.step()\n",
    "        optimizer.zero_grad()\n",
    "        \n",
    "        running_loss += train_loss\n",
    "        prog_bar.set_description(f\"train loss: %.2f\" % train_loss.item())\n",
    "        \n",
    "#         all_targets.append(y.detach().cpu().numpy())\n",
    "#         all_preds.append(z.detach().cpu().numpy())\n",
    "    \n",
    "    return running_loss.item() / len(train_dataset)"
   ]
  },
  {
   "cell_type": "code",
   "execution_count": 121,
   "id": "e228dfa4",
   "metadata": {
    "ExecuteTime": {
     "end_time": "2022-07-03T05:39:08.744036Z",
     "start_time": "2022-07-03T05:39:08.734821Z"
    }
   },
   "outputs": [],
   "source": [
    "def valid_fn(model, valid_loader, loss_fn, device):\n",
    "    print(\"Validating\")\n",
    "    model.eval()\n",
    "    running_loss = 0\n",
    "#     all_targets = []\n",
    "#     all_preds = []\n",
    "    \n",
    "    prog_bar = tqdm(valid_loader, total=len(valid_loader))\n",
    "    for X, y in prog_bar:\n",
    "        X = X.to(device, torch.float32)\n",
    "        y = y.to(device, torch.float32)\n",
    "        \n",
    "        z = model(X)\n",
    "        valid_loss = loss_fn(z, y)\n",
    "        acc = binary_acc(z, y)\n",
    "    \n",
    "        running_loss += valid_loss\n",
    "        prog_bar.set_description(\"valid loss: %.2f\" % valid_loss.item())\n",
    "        \n",
    "#         all_targets.append(y.detach().cpu().numpy())\n",
    "#         all_preds.append(z.detach().cpu().numpy())\n",
    "    \n",
    "    print(\"Total Validation Loss: %.2f\" % (running_loss.item() / len(valid_dataset)))\n",
    "    print(\"Acc: %.2f\" % acc)\n",
    "    return running_loss.item() / len(valid_dataset), acc"
   ]
  },
  {
   "cell_type": "code",
   "execution_count": null,
   "id": "405b500c",
   "metadata": {},
   "outputs": [],
   "source": [
    "# 将train data打乱\n",
    "data = train_data.sample(frac=1).reset_index(drop=True)\n",
    "\n",
    "kfold = StratifiedKFold(n_splits=Config.k_folds, shuffle=True)\n",
    "for fold, (train_ids, valid_ids) in \\\n",
    "            enumerate(kfold.split(data.drop(['Transported'], axis=1), data[['Transported']])):\n",
    "    print(f\"fold {fold}\")\n",
    "    print('-'*20)\n",
    "    \n",
    "    # 先只测试fold=0的收敛性\n",
    "    if fold == 0:\n",
    "        total_train_loss = []\n",
    "        total_val_loss = []\n",
    "        total_val_acc = []\n",
    "        train_ = data.loc[train_ids] \n",
    "        valid_ = data.loc[valid_ids]\n",
    "\n",
    "        train_dataset = SpaceTitanicData(train_.drop(['Transported'], axis=1), train_[['Transported']])\n",
    "        valid_dataset = SpaceTitanicData(valid_.drop(['Transported'], axis=1), valid_[['Transported']])\n",
    "\n",
    "        train_dataloader = DataLoader(train_dataset, batch_size=64, shuffle=True)\n",
    "        valid_dataloader = DataLoader(valid_dataset, batch_size=64, shuffle=True)\n",
    "\n",
    "        model = SpaceTitanicModel()\n",
    "        model.to(Config.device)\n",
    "\n",
    "        optimizer = torch.optim.SGD(model.parameters(), lr=Config.lr)\n",
    "\n",
    "        print(\"[INFO]: Starting training!\\n\")\n",
    "        for epoch in range(1, Config.nb_epochs+2):\n",
    "            print(f\"{'='*20} Epoch {epoch} / {Config.nb_epochs+1} {'='*20}\")\n",
    "            train_loss = train_fn(model, train_dataloader, optimizer, Config.train_loss_fn, Config.device)\n",
    "            val_loss, val_acc = valid_fn(model, valid_dataloader, Config.valid_loss_fn, Config.device)\n",
    "            total_train_loss.append(train_loss)\n",
    "            total_val_loss.append(val_loss)\n",
    "            total_val_acc.append(val_acc)\n",
    "    else:\n",
    "        break\n",
    "    \n",
    "#     torch.save(model.state_dict(), f\"fold_{fold}_model.pth\")"
   ]
  },
  {
   "cell_type": "code",
   "execution_count": 128,
   "id": "19f93dd6",
   "metadata": {
    "ExecuteTime": {
     "end_time": "2022-07-03T05:42:32.553095Z",
     "start_time": "2022-07-03T05:42:32.343322Z"
    }
   },
   "outputs": [
    {
     "data": {
      "image/png": "[encoded data removed]",
      "text/plain": [
       "<Figure size 432x288 with 1 Axes>"
      ]
     },
     "metadata": {
      "needs_background": "light"
     },
     "output_type": "display_data"
    }
   ],
   "source": [
    "import matplotlib.pyplot as plt\n",
    "\n",
    "plt.plot(range(Config.nb_epochs+1), total_train_loss, 'ro--', label='train loss')\n",
    "plt.plot(range(Config.nb_epochs+1), total_val_loss, 'bo--', label='val loss')\n",
    "plt.xlabel(\"Epochs\")\n",
    "plt.ylabel(\"Loss\")\n",
    "plt.show()\n"
   ]
  },
  {
   "cell_type": "code",
   "execution_count": 129,
   "id": "027c0df0",
   "metadata": {
    "ExecuteTime": {
     "end_time": "2022-07-03T05:42:36.654107Z",
     "start_time": "2022-07-03T05:42:36.456403Z"
    }
   },
   "outputs": [
    {
     "data": {
      "image/png": "[encoded data removed]",
      "text/plain": [
       "<Figure size 432x288 with 1 Axes>"
      ]
     },
     "metadata": {
      "needs_background": "light"
     },
     "output_type": "display_data"
    }
   ],
   "source": [
    "plt.plot(range(Config.nb_epochs+1), total_val_acc, 'b-', label='val acc')\n",
    "plt.xlabel(\"Epochs\")\n",
    "plt.ylabel(\"Val Accuracy\")\n",
    "plt.show()"
   ]
  },
  {
   "cell_type": "code",
   "execution_count": 59,
   "id": "af6bd17d",
   "metadata": {
    "ExecuteTime": {
     "end_time": "2022-07-01T05:24:59.402236Z",
     "start_time": "2022-07-01T05:24:59.393227Z"
    }
   },
   "outputs": [],
   "source": [
    "@torch.no_grad()\n",
    "def inference(model, state_lists, test_dataloader, device):\n",
    "    model.eval()\n",
    "    all_preds = []\n",
    "    for state in state_lists:\n",
    "        print(f\"State: {state}\")\n",
    "        state_dict = torch.load(state)\n",
    "        model.load_state_dict(state_dict)\n",
    "        model = model.to(device)\n",
    "        \n",
    "        del state_dict\n",
    "        gc.collect()\n",
    "        \n",
    "        preds = []\n",
    "        prog = tqdm(test_dataloader, total=len(test_dataloader))\n",
    "        for X in prog:\n",
    "            X = X.to(device)\n",
    "            outputs = model(X)\n",
    "            # squeeze(-1)应该是压缩维度\n",
    "            preds.append(outputs.squeeze(-1).cpu().detach().numpy())\n",
    "        \n",
    "        all_preds.append(np.concatenate(preds))\n",
    "        \n",
    "        gc.collect()\n",
    "        torch.cuda.empty_cache()\n",
    "        \n",
    "    return all_preds"
   ]
  },
  {
   "cell_type": "code",
   "execution_count": 60,
   "id": "227180c8",
   "metadata": {
    "ExecuteTime": {
     "end_time": "2022-07-01T05:25:10.868213Z",
     "start_time": "2022-07-01T05:25:00.608884Z"
    }
   },
   "outputs": [
    {
     "name": "stdout",
     "output_type": "stream",
     "text": [
      "Prediction for all folds\n",
      "State: ./models/fold_0_model.pth\n"
     ]
    },
    {
     "data": {
      "application/vnd.jupyter.widget-view+json": {
       "model_id": "4cb46b5941394116b659f24c497d8db9",
       "version_major": 2,
       "version_minor": 0
      },
      "text/plain": [
       "  0%|          | 0/134 [00:00<?, ?it/s]"
      ]
     },
     "metadata": {},
     "output_type": "display_data"
    },
    {
     "name": "stdout",
     "output_type": "stream",
     "text": [
      "State: ./models/fold_1_model.pth\n"
     ]
    },
    {
     "data": {
      "application/vnd.jupyter.widget-view+json": {
       "model_id": "50120270c9224cceac65af0075321642",
       "version_major": 2,
       "version_minor": 0
      },
      "text/plain": [
       "  0%|          | 0/134 [00:00<?, ?it/s]"
      ]
     },
     "metadata": {},
     "output_type": "display_data"
    },
    {
     "name": "stdout",
     "output_type": "stream",
     "text": [
      "State: ./models/fold_2_model.pth\n"
     ]
    },
    {
     "data": {
      "application/vnd.jupyter.widget-view+json": {
       "model_id": "ca72fb18436c4fc186e3739889aa129e",
       "version_major": 2,
       "version_minor": 0
      },
      "text/plain": [
       "  0%|          | 0/134 [00:00<?, ?it/s]"
      ]
     },
     "metadata": {},
     "output_type": "display_data"
    },
    {
     "name": "stdout",
     "output_type": "stream",
     "text": [
      "State: ./models/fold_4_model.pth\n"
     ]
    },
    {
     "data": {
      "application/vnd.jupyter.widget-view+json": {
       "model_id": "7fc3bf7f360540fca03d6b3f56cb4a70",
       "version_major": 2,
       "version_minor": 0
      },
      "text/plain": [
       "  0%|          | 0/134 [00:00<?, ?it/s]"
      ]
     },
     "metadata": {},
     "output_type": "display_data"
    },
    {
     "name": "stdout",
     "output_type": "stream",
     "text": [
      "State: ./models/fold_3_model.pth\n"
     ]
    },
    {
     "data": {
      "application/vnd.jupyter.widget-view+json": {
       "model_id": "ea2a6f856fc845169a4e66bbc8c73a15",
       "version_major": 2,
       "version_minor": 0
      },
      "text/plain": [
       "  0%|          | 0/134 [00:00<?, ?it/s]"
      ]
     },
     "metadata": {},
     "output_type": "display_data"
    }
   ],
   "source": [
    "state_lists = [os.path.join(\"./models\", x) for x in os.listdir(\"./models\") if x.endswith(\".pth\")]\n",
    "\n",
    "test_dataset = SpaceTitanicData(features=test_data.drop(['Transported'], axis=1), target=None, is_test=True)\n",
    "test_dataloader = DataLoader(test_dataset, batch_size=32, shuffle=False)\n",
    "\n",
    "print(\"Prediction for all folds\")\n",
    "predictions = inference(model, state_lists, test_dataloader, Config.device)"
   ]
  },
  {
   "cell_type": "code",
   "execution_count": 65,
   "id": "4ea4a8d6",
   "metadata": {
    "ExecuteTime": {
     "end_time": "2022-07-01T05:30:50.325902Z",
     "start_time": "2022-07-01T05:30:50.158678Z"
    }
   },
   "outputs": [
    {
     "data": {
      "text/plain": [
       "array([ True, False,  True, ...,  True, False,  True])"
      ]
     },
     "execution_count": 65,
     "metadata": {},
     "output_type": "execute_result"
    }
   ],
   "source": [
    "preds = pd.DataFrame(predictions).T.mean(axis=1).tolist()\n",
    "preds = torch.round(torch.FloatTensor(preds)).numpy() > 0\n",
    "preds"
   ]
  },
  {
   "cell_type": "code",
   "execution_count": 72,
   "id": "4297fa87",
   "metadata": {
    "ExecuteTime": {
     "end_time": "2022-07-01T05:33:52.190187Z",
     "start_time": "2022-07-01T05:33:52.177012Z"
    }
   },
   "outputs": [],
   "source": [
    "passenger_IDs = pd.read_csv(\"../input/sample_submission.csv\")[\"PassengerId\"].values"
   ]
  },
  {
   "cell_type": "code",
   "execution_count": 74,
   "id": "69ab02c4",
   "metadata": {
    "ExecuteTime": {
     "end_time": "2022-07-01T05:35:25.046755Z",
     "start_time": "2022-07-01T05:35:25.031663Z"
    }
   },
   "outputs": [
    {
     "data": {
      "text/html": [
       "<div>\n",
       "<style scoped>\n",
       "    .dataframe tbody tr th:only-of-type {\n",
       "        vertical-align: middle;\n",
       "    }\n",
       "\n",
       "    .dataframe tbody tr th {\n",
       "        vertical-align: top;\n",
       "    }\n",
       "\n",
       "    .dataframe thead th {\n",
       "        text-align: right;\n",
       "    }\n",
       "</style>\n",
       "<table border=\"1\" class=\"dataframe\">\n",
       "  <thead>\n",
       "    <tr style=\"text-align: right;\">\n",
       "      <th></th>\n",
       "      <th>Transported</th>\n",
       "    </tr>\n",
       "    <tr>\n",
       "      <th>PassengerId</th>\n",
       "      <th></th>\n",
       "    </tr>\n",
       "  </thead>\n",
       "  <tbody>\n",
       "    <tr>\n",
       "      <th>0013_01</th>\n",
       "      <td>True</td>\n",
       "    </tr>\n",
       "    <tr>\n",
       "      <th>0018_01</th>\n",
       "      <td>False</td>\n",
       "    </tr>\n",
       "    <tr>\n",
       "      <th>0019_01</th>\n",
       "      <td>True</td>\n",
       "    </tr>\n",
       "    <tr>\n",
       "      <th>0021_01</th>\n",
       "      <td>False</td>\n",
       "    </tr>\n",
       "    <tr>\n",
       "      <th>0023_01</th>\n",
       "      <td>False</td>\n",
       "    </tr>\n",
       "  </tbody>\n",
       "</table>\n",
       "</div>"
      ],
      "text/plain": [
       "             Transported\n",
       "PassengerId             \n",
       "0013_01             True\n",
       "0018_01            False\n",
       "0019_01             True\n",
       "0021_01            False\n",
       "0023_01            False"
      ]
     },
     "execution_count": 74,
     "metadata": {},
     "output_type": "execute_result"
    }
   ],
   "source": [
    "df = {'PassengerId': passenger_IDs, 'Transported': preds}\n",
    "df_preds = pd.DataFrame(df).set_index(['PassengerId'])\n",
    "df_preds.head()"
   ]
  },
  {
   "cell_type": "code",
   "execution_count": 75,
   "id": "ef7301bb",
   "metadata": {
    "ExecuteTime": {
     "end_time": "2022-07-01T05:36:35.348018Z",
     "start_time": "2022-07-01T05:36:35.328718Z"
    }
   },
   "outputs": [],
   "source": [
    "df_preds.to_csv('../output/pytorch_predction.csv')"
   ]
  }
 ],
 "metadata": {
  "kernelspec": {
   "display_name": "Python 3 (ipykernel)",
   "language": "python",
   "name": "python3"
  },
  "language_info": {
   "codemirror_mode": {
    "name": "ipython",
    "version": 3
   },
   "file_extension": ".py",
   "mimetype": "text/x-python",
   "name": "python",
   "nbconvert_exporter": "python",
   "pygments_lexer": "ipython3",
   "version": "3.10.4"
  },
  "toc": {
   "base_numbering": 1,
   "nav_menu": {},
   "number_sections": true,
   "sideBar": true,
   "skip_h1_title": false,
   "title_cell": "Table of Contents",
   "title_sidebar": "Contents",
   "toc_cell": false,
   "toc_position": {},
   "toc_section_display": true,
   "toc_window_display": false
  }
 },
 "nbformat": 4,
 "nbformat_minor": 5
}
