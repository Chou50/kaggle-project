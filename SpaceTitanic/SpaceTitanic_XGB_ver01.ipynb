{
 "cells": [
  {
   "cell_type": "code",
   "execution_count": 1,
   "id": "a227299d",
   "metadata": {
    "ExecuteTime": {
     "end_time": "2022-05-22T22:59:58.259067Z",
     "start_time": "2022-05-22T22:59:56.962556Z"
    }
   },
   "outputs": [],
   "source": [
    "import numpy as np\n",
    "import pandas as pd\n",
    "import warnings\n",
    "warnings.filterwarnings('ignore')\n",
    "\n",
    "train_df = pd.read_csv('input/train.csv')\n",
    "test_df = pd.read_csv('input/test.csv')"
   ]
  },
  {
   "cell_type": "code",
   "execution_count": 5,
   "id": "225a0ab4",
   "metadata": {
    "ExecuteTime": {
     "end_time": "2022-05-22T23:00:05.022156Z",
     "start_time": "2022-05-22T23:00:05.009614Z"
    }
   },
   "outputs": [
    {
     "data": {
      "text/plain": [
       "0.5036236051995858"
      ]
     },
     "execution_count": 5,
     "metadata": {},
     "output_type": "execute_result"
    }
   ],
   "source": [
    "train_df.loc[train_df.Transported==True].shape[0]/train_df.shape[0] #没有样本不均衡的问题"
   ]
  },
  {
   "cell_type": "code",
   "execution_count": 6,
   "id": "1eb95428",
   "metadata": {
    "ExecuteTime": {
     "end_time": "2022-05-22T23:00:06.134041Z",
     "start_time": "2022-05-22T23:00:05.892414Z"
    }
   },
   "outputs": [],
   "source": [
    "full_df = train_df.append(test_df, ignore_index=True)"
   ]
  },
  {
   "cell_type": "code",
   "execution_count": 7,
   "id": "fd8ef06f",
   "metadata": {
    "ExecuteTime": {
     "end_time": "2022-05-22T23:00:06.645813Z",
     "start_time": "2022-05-22T23:00:06.633456Z"
    }
   },
   "outputs": [],
   "source": [
    "full_df['HomePlanet'] = full_df['HomePlanet'].fillna('Earth')\n",
    "full_df['CryoSleep'] = full_df['CryoSleep'].fillna(True)"
   ]
  },
  {
   "cell_type": "code",
   "execution_count": 8,
   "id": "13995a99",
   "metadata": {
    "ExecuteTime": {
     "end_time": "2022-05-22T23:00:07.289408Z",
     "start_time": "2022-05-22T23:00:07.249469Z"
    }
   },
   "outputs": [],
   "source": [
    "full_df.loc[full_df.Cabin.notna(), 'Cabin_beck'] = \\\n",
    "         full_df.loc[full_df.Cabin.notna(), 'Cabin'].astype(str).map(lambda x: x.split('/')[0])\n",
    "full_df.loc[full_df.Cabin.notna(), 'Cabin_side'] = \\\n",
    "         full_df.loc[full_df.Cabin.notna(), 'Cabin'].astype(str).map(lambda x: x.split('/')[2])                                                                                                                                                   "
   ]
  },
  {
   "cell_type": "code",
   "execution_count": 9,
   "id": "89e3d430",
   "metadata": {
    "ExecuteTime": {
     "end_time": "2022-05-22T23:00:07.948989Z",
     "start_time": "2022-05-22T23:00:07.937881Z"
    }
   },
   "outputs": [],
   "source": [
    "full_df['Cabin_beck'] = full_df['Cabin_beck'].fillna('F')\n",
    "full_df['Cabin_side'] = full_df['Cabin_side'].fillna('P')"
   ]
  },
  {
   "cell_type": "code",
   "execution_count": 10,
   "id": "611e9905",
   "metadata": {
    "ExecuteTime": {
     "end_time": "2022-05-22T23:00:08.627654Z",
     "start_time": "2022-05-22T23:00:08.603390Z"
    }
   },
   "outputs": [],
   "source": [
    "full_df['Destination'] = full_df['Destination'].fillna('TRAPPIST-1e')"
   ]
  },
  {
   "cell_type": "code",
   "execution_count": 11,
   "id": "24a1c337",
   "metadata": {
    "ExecuteTime": {
     "end_time": "2022-05-22T23:00:09.241801Z",
     "start_time": "2022-05-22T23:00:09.237283Z"
    }
   },
   "outputs": [],
   "source": [
    "full_df['Age'].fillna(full_df.Age.mean(), inplace=True)"
   ]
  },
  {
   "cell_type": "code",
   "execution_count": 12,
   "id": "65d67795",
   "metadata": {
    "ExecuteTime": {
     "end_time": "2022-05-22T23:00:09.942266Z",
     "start_time": "2022-05-22T23:00:09.935564Z"
    }
   },
   "outputs": [],
   "source": [
    "full_df['VIP'].fillna(False, inplace=True)"
   ]
  },
  {
   "cell_type": "code",
   "execution_count": 13,
   "id": "bae99837",
   "metadata": {
    "ExecuteTime": {
     "end_time": "2022-05-22T23:00:10.546135Z",
     "start_time": "2022-05-22T23:00:10.525229Z"
    }
   },
   "outputs": [],
   "source": [
    "full_df['RoomService'].fillna(full_df.RoomService.mode()[0], inplace=True)\n",
    "full_df['FoodCourt'].fillna(full_df.FoodCourt.mode()[0], inplace=True)\n",
    "full_df['ShoppingMall'].fillna(full_df.ShoppingMall.mode()[0], inplace=True)\n",
    "full_df['Spa'].fillna(full_df.Spa.mode()[0], inplace=True)\n",
    "full_df['VRDeck'].fillna(full_df.VRDeck.mode()[0], inplace=True)"
   ]
  },
  {
   "cell_type": "code",
   "execution_count": 16,
   "id": "db32a020",
   "metadata": {
    "ExecuteTime": {
     "end_time": "2022-05-22T23:00:14.135330Z",
     "start_time": "2022-05-22T23:00:12.889034Z"
    }
   },
   "outputs": [],
   "source": [
    "from sklearn.preprocessing import LabelEncoder"
   ]
  },
  {
   "cell_type": "code",
   "execution_count": 17,
   "id": "f12e7812",
   "metadata": {
    "ExecuteTime": {
     "end_time": "2022-05-22T23:00:14.156647Z",
     "start_time": "2022-05-22T23:00:14.139691Z"
    }
   },
   "outputs": [],
   "source": [
    "full_data = full_df.copy()"
   ]
  },
  {
   "cell_type": "code",
   "execution_count": 18,
   "id": "35e56819",
   "metadata": {
    "ExecuteTime": {
     "end_time": "2022-05-22T23:00:14.753370Z",
     "start_time": "2022-05-22T23:00:14.722835Z"
    }
   },
   "outputs": [],
   "source": [
    "columns = [\"HomePlanet\", \"CryoSleep\", \"Destination\", \"VIP\", \"Cabin_beck\", \"Cabin_side\"]\n",
    "for column in columns:\n",
    "    labelencoder = LabelEncoder()\n",
    "    full_data[column] = labelencoder.fit_transform(full_data[column])"
   ]
  },
  {
   "cell_type": "code",
   "execution_count": 20,
   "id": "dbd70a80",
   "metadata": {
    "ExecuteTime": {
     "end_time": "2022-05-22T23:00:17.206440Z",
     "start_time": "2022-05-22T23:00:17.170114Z"
    }
   },
   "outputs": [],
   "source": [
    "FEATURES = [\"HomePlanet\", \"CryoSleep\", \"Destination\", \"Age\", \"VIP\", \"RoomService\", \\\n",
    "            \"FoodCourt\", \"ShoppingMall\", \"Spa\", \"VRDeck\", \"Cabin_beck\", \"Cabin_side\"]\n",
    "TARGET = [\"Transported\"]\n",
    "\n",
    "X_train = full_data[full_data.Transported.notna()][FEATURES]\n",
    "y_train = full_data[full_data.Transported.notna()][TARGET].astype(int)\n",
    "\n",
    "X_test = full_data[full_data.Transported.isna()][FEATURES]"
   ]
  },
  {
   "cell_type": "code",
   "execution_count": 22,
   "id": "3e5793de",
   "metadata": {
    "ExecuteTime": {
     "end_time": "2022-05-22T23:00:21.323730Z",
     "start_time": "2022-05-22T23:00:21.318959Z"
    }
   },
   "outputs": [],
   "source": [
    "y_train = y_train.values.ravel()"
   ]
  },
  {
   "cell_type": "code",
   "execution_count": 23,
   "id": "06a8c15c",
   "metadata": {
    "ExecuteTime": {
     "end_time": "2022-05-22T23:00:22.134162Z",
     "start_time": "2022-05-22T23:00:21.928221Z"
    }
   },
   "outputs": [],
   "source": [
    "import xgboost as xgb"
   ]
  },
  {
   "cell_type": "code",
   "execution_count": 42,
   "id": "ae8ddb1d",
   "metadata": {
    "ExecuteTime": {
     "end_time": "2022-05-22T23:29:42.378317Z",
     "start_time": "2022-05-22T23:29:35.069721Z"
    }
   },
   "outputs": [
    {
     "data": {
      "text/html": [
       "<div>\n",
       "<style scoped>\n",
       "    .dataframe tbody tr th:only-of-type {\n",
       "        vertical-align: middle;\n",
       "    }\n",
       "\n",
       "    .dataframe tbody tr th {\n",
       "        vertical-align: top;\n",
       "    }\n",
       "\n",
       "    .dataframe thead th {\n",
       "        text-align: right;\n",
       "    }\n",
       "</style>\n",
       "<table border=\"1\" class=\"dataframe\">\n",
       "  <thead>\n",
       "    <tr style=\"text-align: right;\">\n",
       "      <th></th>\n",
       "      <th>train-logloss-mean</th>\n",
       "      <th>train-logloss-std</th>\n",
       "      <th>test-logloss-mean</th>\n",
       "      <th>test-logloss-std</th>\n",
       "    </tr>\n",
       "  </thead>\n",
       "  <tbody>\n",
       "    <tr>\n",
       "      <th>0</th>\n",
       "      <td>0.652322</td>\n",
       "      <td>0.000599</td>\n",
       "      <td>0.654287</td>\n",
       "      <td>0.000724</td>\n",
       "    </tr>\n",
       "    <tr>\n",
       "      <th>1</th>\n",
       "      <td>0.618563</td>\n",
       "      <td>0.001129</td>\n",
       "      <td>0.622539</td>\n",
       "      <td>0.001497</td>\n",
       "    </tr>\n",
       "    <tr>\n",
       "      <th>2</th>\n",
       "      <td>0.590076</td>\n",
       "      <td>0.001192</td>\n",
       "      <td>0.595657</td>\n",
       "      <td>0.002435</td>\n",
       "    </tr>\n",
       "    <tr>\n",
       "      <th>3</th>\n",
       "      <td>0.565828</td>\n",
       "      <td>0.001297</td>\n",
       "      <td>0.573090</td>\n",
       "      <td>0.003238</td>\n",
       "    </tr>\n",
       "    <tr>\n",
       "      <th>4</th>\n",
       "      <td>0.544685</td>\n",
       "      <td>0.001783</td>\n",
       "      <td>0.553732</td>\n",
       "      <td>0.003643</td>\n",
       "    </tr>\n",
       "    <tr>\n",
       "      <th>...</th>\n",
       "      <td>...</td>\n",
       "      <td>...</td>\n",
       "      <td>...</td>\n",
       "      <td>...</td>\n",
       "    </tr>\n",
       "    <tr>\n",
       "      <th>195</th>\n",
       "      <td>0.287980</td>\n",
       "      <td>0.004244</td>\n",
       "      <td>0.417215</td>\n",
       "      <td>0.008492</td>\n",
       "    </tr>\n",
       "    <tr>\n",
       "      <th>196</th>\n",
       "      <td>0.287521</td>\n",
       "      <td>0.004223</td>\n",
       "      <td>0.417286</td>\n",
       "      <td>0.008541</td>\n",
       "    </tr>\n",
       "    <tr>\n",
       "      <th>197</th>\n",
       "      <td>0.287179</td>\n",
       "      <td>0.004013</td>\n",
       "      <td>0.417469</td>\n",
       "      <td>0.008499</td>\n",
       "    </tr>\n",
       "    <tr>\n",
       "      <th>198</th>\n",
       "      <td>0.286732</td>\n",
       "      <td>0.003788</td>\n",
       "      <td>0.417609</td>\n",
       "      <td>0.008550</td>\n",
       "    </tr>\n",
       "    <tr>\n",
       "      <th>199</th>\n",
       "      <td>0.286394</td>\n",
       "      <td>0.003771</td>\n",
       "      <td>0.417589</td>\n",
       "      <td>0.008584</td>\n",
       "    </tr>\n",
       "  </tbody>\n",
       "</table>\n",
       "<p>200 rows × 4 columns</p>\n",
       "</div>"
      ],
      "text/plain": [
       "     train-logloss-mean  train-logloss-std  test-logloss-mean  \\\n",
       "0              0.652322           0.000599           0.654287   \n",
       "1              0.618563           0.001129           0.622539   \n",
       "2              0.590076           0.001192           0.595657   \n",
       "3              0.565828           0.001297           0.573090   \n",
       "4              0.544685           0.001783           0.553732   \n",
       "..                  ...                ...                ...   \n",
       "195            0.287980           0.004244           0.417215   \n",
       "196            0.287521           0.004223           0.417286   \n",
       "197            0.287179           0.004013           0.417469   \n",
       "198            0.286732           0.003788           0.417609   \n",
       "199            0.286394           0.003771           0.417589   \n",
       "\n",
       "     test-logloss-std  \n",
       "0            0.000724  \n",
       "1            0.001497  \n",
       "2            0.002435  \n",
       "3            0.003238  \n",
       "4            0.003643  \n",
       "..                ...  \n",
       "195          0.008492  \n",
       "196          0.008541  \n",
       "197          0.008499  \n",
       "198          0.008550  \n",
       "199          0.008584  \n",
       "\n",
       "[200 rows x 4 columns]"
      ]
     },
     "execution_count": 42,
     "metadata": {},
     "output_type": "execute_result"
    }
   ],
   "source": [
    "d_train = xgb.DMatrix(X_train, y_train)\n",
    "params = {'objective': 'binary:logistic',\n",
    "          'eta': 0.1}\n",
    "ntree = 200\n",
    "n_fold = 5\n",
    "xgb_cv = xgb.cv(params, d_train, ntree, n_fold)\n",
    "xgb_cv"
   ]
  },
  {
   "cell_type": "code",
   "execution_count": 43,
   "id": "c0ae6834",
   "metadata": {
    "ExecuteTime": {
     "end_time": "2022-05-22T23:29:42.822021Z",
     "start_time": "2022-05-22T23:29:42.381974Z"
    }
   },
   "outputs": [
    {
     "data": {
      "image/png": "[encoded data removed]",
      "text/plain": [
       "<Figure size 432x288 with 1 Axes>"
      ]
     },
     "metadata": {
      "needs_background": "light"
     },
     "output_type": "display_data"
    }
   ],
   "source": [
    "import matplotlib.pyplot as plt\n",
    "\n",
    "plt.grid()\n",
    "plt.plot(range(1, 201), xgb_cv[\"train-logloss-mean\"], label=\"train, logloss\")\n",
    "plt.plot(range(1, 201), xgb_cv[\"test-logloss-mean\"], label=\"test, logloss\")\n",
    "plt.legend(loc='best')\n",
    "plt.show()"
   ]
  },
  {
   "cell_type": "code",
   "execution_count": 38,
   "id": "aec29be6",
   "metadata": {
    "ExecuteTime": {
     "end_time": "2022-05-22T23:27:49.477392Z",
     "start_time": "2022-05-22T23:27:44.275833Z"
    }
   },
   "outputs": [
    {
     "data": {
      "text/html": [
       "<div>\n",
       "<style scoped>\n",
       "    .dataframe tbody tr th:only-of-type {\n",
       "        vertical-align: middle;\n",
       "    }\n",
       "\n",
       "    .dataframe tbody tr th {\n",
       "        vertical-align: top;\n",
       "    }\n",
       "\n",
       "    .dataframe thead th {\n",
       "        text-align: right;\n",
       "    }\n",
       "</style>\n",
       "<table border=\"1\" class=\"dataframe\">\n",
       "  <thead>\n",
       "    <tr style=\"text-align: right;\">\n",
       "      <th></th>\n",
       "      <th>train-error-mean</th>\n",
       "      <th>train-error-std</th>\n",
       "      <th>test-error-mean</th>\n",
       "      <th>test-error-std</th>\n",
       "    </tr>\n",
       "  </thead>\n",
       "  <tbody>\n",
       "    <tr>\n",
       "      <th>0</th>\n",
       "      <td>0.208328</td>\n",
       "      <td>0.005641</td>\n",
       "      <td>0.224547</td>\n",
       "      <td>0.009692</td>\n",
       "    </tr>\n",
       "    <tr>\n",
       "      <th>1</th>\n",
       "      <td>0.203842</td>\n",
       "      <td>0.008403</td>\n",
       "      <td>0.219946</td>\n",
       "      <td>0.009260</td>\n",
       "    </tr>\n",
       "    <tr>\n",
       "      <th>2</th>\n",
       "      <td>0.199528</td>\n",
       "      <td>0.005537</td>\n",
       "      <td>0.217185</td>\n",
       "      <td>0.013275</td>\n",
       "    </tr>\n",
       "    <tr>\n",
       "      <th>3</th>\n",
       "      <td>0.195473</td>\n",
       "      <td>0.002843</td>\n",
       "      <td>0.213618</td>\n",
       "      <td>0.013022</td>\n",
       "    </tr>\n",
       "    <tr>\n",
       "      <th>4</th>\n",
       "      <td>0.193431</td>\n",
       "      <td>0.002257</td>\n",
       "      <td>0.212239</td>\n",
       "      <td>0.011568</td>\n",
       "    </tr>\n",
       "    <tr>\n",
       "      <th>...</th>\n",
       "      <td>...</td>\n",
       "      <td>...</td>\n",
       "      <td>...</td>\n",
       "      <td>...</td>\n",
       "    </tr>\n",
       "    <tr>\n",
       "      <th>195</th>\n",
       "      <td>0.126567</td>\n",
       "      <td>0.003831</td>\n",
       "      <td>0.199010</td>\n",
       "      <td>0.004453</td>\n",
       "    </tr>\n",
       "    <tr>\n",
       "      <th>196</th>\n",
       "      <td>0.126280</td>\n",
       "      <td>0.003810</td>\n",
       "      <td>0.199010</td>\n",
       "      <td>0.004682</td>\n",
       "    </tr>\n",
       "    <tr>\n",
       "      <th>197</th>\n",
       "      <td>0.125992</td>\n",
       "      <td>0.003677</td>\n",
       "      <td>0.198895</td>\n",
       "      <td>0.004618</td>\n",
       "    </tr>\n",
       "    <tr>\n",
       "      <th>198</th>\n",
       "      <td>0.125676</td>\n",
       "      <td>0.003406</td>\n",
       "      <td>0.199010</td>\n",
       "      <td>0.004625</td>\n",
       "    </tr>\n",
       "    <tr>\n",
       "      <th>199</th>\n",
       "      <td>0.125417</td>\n",
       "      <td>0.003389</td>\n",
       "      <td>0.198895</td>\n",
       "      <td>0.004603</td>\n",
       "    </tr>\n",
       "  </tbody>\n",
       "</table>\n",
       "<p>200 rows × 4 columns</p>\n",
       "</div>"
      ],
      "text/plain": [
       "     train-error-mean  train-error-std  test-error-mean  test-error-std\n",
       "0            0.208328         0.005641         0.224547        0.009692\n",
       "1            0.203842         0.008403         0.219946        0.009260\n",
       "2            0.199528         0.005537         0.217185        0.013275\n",
       "3            0.195473         0.002843         0.213618        0.013022\n",
       "4            0.193431         0.002257         0.212239        0.011568\n",
       "..                ...              ...              ...             ...\n",
       "195          0.126567         0.003831         0.199010        0.004453\n",
       "196          0.126280         0.003810         0.199010        0.004682\n",
       "197          0.125992         0.003677         0.198895        0.004618\n",
       "198          0.125676         0.003406         0.199010        0.004625\n",
       "199          0.125417         0.003389         0.198895        0.004603\n",
       "\n",
       "[200 rows x 4 columns]"
      ]
     },
     "execution_count": 38,
     "metadata": {},
     "output_type": "execute_result"
    }
   ],
   "source": [
    "params = {'objective': 'binary:logistic',\n",
    "          'eta': 0.1,\n",
    "          'eval_metric': \"error\"}\n",
    "ntree = 200\n",
    "n_fold = 5\n",
    "xgb_cv = xgb.cv(params, d_train, ntree, n_fold)\n",
    "xgb_cv"
   ]
  },
  {
   "cell_type": "code",
   "execution_count": 41,
   "id": "6b4d44ab",
   "metadata": {
    "ExecuteTime": {
     "end_time": "2022-05-22T23:29:23.055573Z",
     "start_time": "2022-05-22T23:29:22.851308Z"
    }
   },
   "outputs": [
    {
     "data": {
      "image/png": "[encoded data removed]",
      "text/plain": [
       "<Figure size 432x288 with 1 Axes>"
      ]
     },
     "metadata": {
      "needs_background": "light"
     },
     "output_type": "display_data"
    }
   ],
   "source": [
    "plt.grid()\n",
    "plt.plot(range(1, 201), xgb_cv[\"train-error-mean\"], label=\"train, error\")\n",
    "plt.plot(range(1, 201), xgb_cv[\"test-error-mean\"], label=\"test, error\")\n",
    "plt.legend(loc='best')\n",
    "plt.show()"
   ]
  },
  {
   "cell_type": "code",
   "execution_count": 44,
   "id": "362ae4d6",
   "metadata": {
    "ExecuteTime": {
     "end_time": "2022-05-22T23:30:08.741389Z",
     "start_time": "2022-05-22T23:30:01.046865Z"
    }
   },
   "outputs": [
    {
     "data": {
      "text/html": [
       "<div>\n",
       "<style scoped>\n",
       "    .dataframe tbody tr th:only-of-type {\n",
       "        vertical-align: middle;\n",
       "    }\n",
       "\n",
       "    .dataframe tbody tr th {\n",
       "        vertical-align: top;\n",
       "    }\n",
       "\n",
       "    .dataframe thead th {\n",
       "        text-align: right;\n",
       "    }\n",
       "</style>\n",
       "<table border=\"1\" class=\"dataframe\">\n",
       "  <thead>\n",
       "    <tr style=\"text-align: right;\">\n",
       "      <th></th>\n",
       "      <th>train-auc-mean</th>\n",
       "      <th>train-auc-std</th>\n",
       "      <th>test-auc-mean</th>\n",
       "      <th>test-auc-std</th>\n",
       "    </tr>\n",
       "  </thead>\n",
       "  <tbody>\n",
       "    <tr>\n",
       "      <th>0</th>\n",
       "      <td>0.871893</td>\n",
       "      <td>0.001751</td>\n",
       "      <td>0.853328</td>\n",
       "      <td>0.010097</td>\n",
       "    </tr>\n",
       "    <tr>\n",
       "      <th>1</th>\n",
       "      <td>0.878794</td>\n",
       "      <td>0.004645</td>\n",
       "      <td>0.859349</td>\n",
       "      <td>0.010660</td>\n",
       "    </tr>\n",
       "    <tr>\n",
       "      <th>2</th>\n",
       "      <td>0.883795</td>\n",
       "      <td>0.004027</td>\n",
       "      <td>0.864147</td>\n",
       "      <td>0.012201</td>\n",
       "    </tr>\n",
       "    <tr>\n",
       "      <th>3</th>\n",
       "      <td>0.888485</td>\n",
       "      <td>0.001680</td>\n",
       "      <td>0.868765</td>\n",
       "      <td>0.011335</td>\n",
       "    </tr>\n",
       "    <tr>\n",
       "      <th>4</th>\n",
       "      <td>0.891199</td>\n",
       "      <td>0.000987</td>\n",
       "      <td>0.869801</td>\n",
       "      <td>0.009794</td>\n",
       "    </tr>\n",
       "    <tr>\n",
       "      <th>...</th>\n",
       "      <td>...</td>\n",
       "      <td>...</td>\n",
       "      <td>...</td>\n",
       "      <td>...</td>\n",
       "    </tr>\n",
       "    <tr>\n",
       "      <th>195</th>\n",
       "      <td>0.954505</td>\n",
       "      <td>0.001758</td>\n",
       "      <td>0.887105</td>\n",
       "      <td>0.004610</td>\n",
       "    </tr>\n",
       "    <tr>\n",
       "      <th>196</th>\n",
       "      <td>0.954697</td>\n",
       "      <td>0.001751</td>\n",
       "      <td>0.887089</td>\n",
       "      <td>0.004584</td>\n",
       "    </tr>\n",
       "    <tr>\n",
       "      <th>197</th>\n",
       "      <td>0.954833</td>\n",
       "      <td>0.001671</td>\n",
       "      <td>0.887011</td>\n",
       "      <td>0.004594</td>\n",
       "    </tr>\n",
       "    <tr>\n",
       "      <th>198</th>\n",
       "      <td>0.955004</td>\n",
       "      <td>0.001592</td>\n",
       "      <td>0.886960</td>\n",
       "      <td>0.004590</td>\n",
       "    </tr>\n",
       "    <tr>\n",
       "      <th>199</th>\n",
       "      <td>0.955146</td>\n",
       "      <td>0.001583</td>\n",
       "      <td>0.886976</td>\n",
       "      <td>0.004594</td>\n",
       "    </tr>\n",
       "  </tbody>\n",
       "</table>\n",
       "<p>200 rows × 4 columns</p>\n",
       "</div>"
      ],
      "text/plain": [
       "     train-auc-mean  train-auc-std  test-auc-mean  test-auc-std\n",
       "0          0.871893       0.001751       0.853328      0.010097\n",
       "1          0.878794       0.004645       0.859349      0.010660\n",
       "2          0.883795       0.004027       0.864147      0.012201\n",
       "3          0.888485       0.001680       0.868765      0.011335\n",
       "4          0.891199       0.000987       0.869801      0.009794\n",
       "..              ...            ...            ...           ...\n",
       "195        0.954505       0.001758       0.887105      0.004610\n",
       "196        0.954697       0.001751       0.887089      0.004584\n",
       "197        0.954833       0.001671       0.887011      0.004594\n",
       "198        0.955004       0.001592       0.886960      0.004590\n",
       "199        0.955146       0.001583       0.886976      0.004594\n",
       "\n",
       "[200 rows x 4 columns]"
      ]
     },
     "execution_count": 44,
     "metadata": {},
     "output_type": "execute_result"
    }
   ],
   "source": [
    "params = {'objective': 'binary:logistic',\n",
    "          'eta': 0.1,\n",
    "          'eval_metric': \"auc\"}\n",
    "ntree = 100\n",
    "n_fold = 5\n",
    "xgb_cv = xgb.cv(params, d_train, ntree, n_fold)\n",
    "xgb_cv"
   ]
  },
  {
   "cell_type": "code",
   "execution_count": 45,
   "id": "4f465eaf",
   "metadata": {
    "ExecuteTime": {
     "end_time": "2022-05-22T23:30:28.738148Z",
     "start_time": "2022-05-22T23:30:28.485798Z"
    }
   },
   "outputs": [
    {
     "data": {
      "image/png": "[encoded data removed]",
      "text/plain": [
       "<Figure size 432x288 with 1 Axes>"
      ]
     },
     "metadata": {
      "needs_background": "light"
     },
     "output_type": "display_data"
    }
   ],
   "source": [
    "plt.grid()\n",
    "plt.plot(range(1, 201), xgb_cv[\"train-auc-mean\"], label=\"train, auc\")\n",
    "plt.plot(range(1, 201), xgb_cv[\"test-auc-mean\"], label=\"test, auc\")\n",
    "plt.legend(loc='best')\n",
    "plt.show()"
   ]
  },
  {
   "cell_type": "code",
   "execution_count": 84,
   "id": "b2a39291",
   "metadata": {
    "ExecuteTime": {
     "end_time": "2022-05-23T00:03:46.379378Z",
     "start_time": "2022-05-23T00:03:44.145891Z"
    }
   },
   "outputs": [
    {
     "data": {
      "text/html": [
       "<div>\n",
       "<style scoped>\n",
       "    .dataframe tbody tr th:only-of-type {\n",
       "        vertical-align: middle;\n",
       "    }\n",
       "\n",
       "    .dataframe tbody tr th {\n",
       "        vertical-align: top;\n",
       "    }\n",
       "\n",
       "    .dataframe thead th {\n",
       "        text-align: right;\n",
       "    }\n",
       "</style>\n",
       "<table border=\"1\" class=\"dataframe\">\n",
       "  <thead>\n",
       "    <tr style=\"text-align: right;\">\n",
       "      <th></th>\n",
       "      <th>train-auc-mean</th>\n",
       "      <th>train-auc-std</th>\n",
       "      <th>test-auc-mean</th>\n",
       "      <th>test-auc-std</th>\n",
       "    </tr>\n",
       "  </thead>\n",
       "  <tbody>\n",
       "    <tr>\n",
       "      <th>0</th>\n",
       "      <td>0.803028</td>\n",
       "      <td>0.004847</td>\n",
       "      <td>0.795752</td>\n",
       "      <td>0.008557</td>\n",
       "    </tr>\n",
       "    <tr>\n",
       "      <th>1</th>\n",
       "      <td>0.832749</td>\n",
       "      <td>0.002732</td>\n",
       "      <td>0.825763</td>\n",
       "      <td>0.005568</td>\n",
       "    </tr>\n",
       "    <tr>\n",
       "      <th>2</th>\n",
       "      <td>0.843138</td>\n",
       "      <td>0.004734</td>\n",
       "      <td>0.834290</td>\n",
       "      <td>0.007124</td>\n",
       "    </tr>\n",
       "    <tr>\n",
       "      <th>3</th>\n",
       "      <td>0.849698</td>\n",
       "      <td>0.002388</td>\n",
       "      <td>0.840013</td>\n",
       "      <td>0.008135</td>\n",
       "    </tr>\n",
       "    <tr>\n",
       "      <th>4</th>\n",
       "      <td>0.853607</td>\n",
       "      <td>0.003270</td>\n",
       "      <td>0.845582</td>\n",
       "      <td>0.007392</td>\n",
       "    </tr>\n",
       "    <tr>\n",
       "      <th>...</th>\n",
       "      <td>...</td>\n",
       "      <td>...</td>\n",
       "      <td>...</td>\n",
       "      <td>...</td>\n",
       "    </tr>\n",
       "    <tr>\n",
       "      <th>95</th>\n",
       "      <td>0.904034</td>\n",
       "      <td>0.001930</td>\n",
       "      <td>0.885750</td>\n",
       "      <td>0.006842</td>\n",
       "    </tr>\n",
       "    <tr>\n",
       "      <th>96</th>\n",
       "      <td>0.904034</td>\n",
       "      <td>0.001930</td>\n",
       "      <td>0.885750</td>\n",
       "      <td>0.006842</td>\n",
       "    </tr>\n",
       "    <tr>\n",
       "      <th>97</th>\n",
       "      <td>0.904034</td>\n",
       "      <td>0.001930</td>\n",
       "      <td>0.885750</td>\n",
       "      <td>0.006842</td>\n",
       "    </tr>\n",
       "    <tr>\n",
       "      <th>98</th>\n",
       "      <td>0.904034</td>\n",
       "      <td>0.001930</td>\n",
       "      <td>0.885750</td>\n",
       "      <td>0.006842</td>\n",
       "    </tr>\n",
       "    <tr>\n",
       "      <th>99</th>\n",
       "      <td>0.904034</td>\n",
       "      <td>0.001930</td>\n",
       "      <td>0.885750</td>\n",
       "      <td>0.006842</td>\n",
       "    </tr>\n",
       "  </tbody>\n",
       "</table>\n",
       "<p>100 rows × 4 columns</p>\n",
       "</div>"
      ],
      "text/plain": [
       "    train-auc-mean  train-auc-std  test-auc-mean  test-auc-std\n",
       "0         0.803028       0.004847       0.795752      0.008557\n",
       "1         0.832749       0.002732       0.825763      0.005568\n",
       "2         0.843138       0.004734       0.834290      0.007124\n",
       "3         0.849698       0.002388       0.840013      0.008135\n",
       "4         0.853607       0.003270       0.845582      0.007392\n",
       "..             ...            ...            ...           ...\n",
       "95        0.904034       0.001930       0.885750      0.006842\n",
       "96        0.904034       0.001930       0.885750      0.006842\n",
       "97        0.904034       0.001930       0.885750      0.006842\n",
       "98        0.904034       0.001930       0.885750      0.006842\n",
       "99        0.904034       0.001930       0.885750      0.006842\n",
       "\n",
       "[100 rows x 4 columns]"
      ]
     },
     "execution_count": 84,
     "metadata": {},
     "output_type": "execute_result"
    }
   ],
   "source": [
    "param1 = {'objective':'binary:logistic'\n",
    "          ,\"subsample\":1\n",
    "          ,\"max_depth\":3\n",
    "          ,\"eta\":0.2\n",
    "          ,\"gamma\":2\n",
    "          ,\"lambda\":1\n",
    "          ,\"alpha\":0\n",
    "          ,\"colsample_bytree\":1\n",
    "          ,\"colsample_bylevel\":1\n",
    "          ,\"colsample_bynode\":1\n",
    "          ,\"eval_metric\":'auc'\n",
    "          }\n",
    "ntree = 100\n",
    "n_fold=5\n",
    "xgb_cv_01 = xgb.cv(param1, d_train, ntree, n_fold)\n",
    "xgb_cv_01"
   ]
  },
  {
   "cell_type": "code",
   "execution_count": 81,
   "id": "e37c21cf",
   "metadata": {
    "ExecuteTime": {
     "end_time": "2022-05-23T00:02:55.988899Z",
     "start_time": "2022-05-23T00:02:55.745519Z"
    }
   },
   "outputs": [
    {
     "data": {
      "image/png": "[encoded data removed]",
      "text/plain": [
       "<Figure size 432x288 with 1 Axes>"
      ]
     },
     "metadata": {
      "needs_background": "light"
     },
     "output_type": "display_data"
    }
   ],
   "source": [
    "plt.grid()\n",
    "plt.plot(range(1, 101), xgb_cv[\"train-auc-mean\"], color=\"red\", label=\"train_original, auc\")\n",
    "plt.plot(range(1, 101), xgb_cv[\"test-auc-mean\"], color=\"blue\", label=\"test_original, auc\")\n",
    "plt.plot(range(1, 101), xgb_cv_01[\"train-auc-mean\"], color=\"yellow\", label=\"train_01, auc\")\n",
    "plt.plot(range(1, 101), xgb_cv_01[\"test-auc-mean\"], color=\"black\", label=\"test_01, auc\")\n",
    "plt.legend(loc='best')\n",
    "plt.show()"
   ]
  },
  {
   "cell_type": "code",
   "execution_count": 85,
   "id": "aaaa997a",
   "metadata": {
    "ExecuteTime": {
     "end_time": "2022-05-23T00:09:50.145733Z",
     "start_time": "2022-05-23T00:09:49.745870Z"
    }
   },
   "outputs": [],
   "source": [
    "d_test = xgb.DMatrix(X_test)\n",
    "xgb_model = xgb.train(param1, d_train, ntree)\n",
    "y_pred = xgb_model.predict(d_test)"
   ]
  },
  {
   "cell_type": "code",
   "execution_count": 90,
   "id": "6513ad01",
   "metadata": {
    "ExecuteTime": {
     "end_time": "2022-05-23T00:22:06.370341Z",
     "start_time": "2022-05-23T00:22:06.158152Z"
    }
   },
   "outputs": [
    {
     "data": {
      "image/png": "[encoded data removed]",
      "text/plain": [
       "<Figure size 432x288 with 1 Axes>"
      ]
     },
     "metadata": {
      "needs_background": "light"
     },
     "output_type": "display_data"
    }
   ],
   "source": [
    "xgb.plot_importance(xgb_model, importance_type=\"gain\")\n",
    "plt.show()"
   ]
  },
  {
   "cell_type": "code",
   "execution_count": null,
   "id": "6612cf40",
   "metadata": {},
   "outputs": [],
   "source": [
    "y_pred1 = np.where(y_pred >= 0.5, 1, 0)\n",
    "y_pred1 = y_pred1.astype(bool)"
   ]
  },
  {
   "cell_type": "code",
   "execution_count": 95,
   "id": "4e3fe5ed",
   "metadata": {
    "ExecuteTime": {
     "end_time": "2022-05-23T00:28:13.760245Z",
     "start_time": "2022-05-23T00:28:13.741035Z"
    }
   },
   "outputs": [],
   "source": [
    "output1 = pd.DataFrame({'PassengerId': test_df.PassengerId, 'Transported': y_pred1})\n",
    "output1.to_csv('output/xgb_submission_ver01_thre0.5.csv', index=False)"
   ]
  },
  {
   "cell_type": "code",
   "execution_count": 96,
   "id": "0835af94",
   "metadata": {
    "ExecuteTime": {
     "end_time": "2022-05-23T00:36:00.797008Z",
     "start_time": "2022-05-23T00:35:59.537965Z"
    }
   },
   "outputs": [],
   "source": [
    "d_test = xgb.DMatrix(X_test)\n",
    "xgb_model = xgb.train(param1, d_train, ntree)\n",
    "y_pred = xgb_model.predict(d_test)"
   ]
  },
  {
   "cell_type": "code",
   "execution_count": 97,
   "id": "33c0de15",
   "metadata": {
    "ExecuteTime": {
     "end_time": "2022-05-23T00:37:27.617643Z",
     "start_time": "2022-05-23T00:37:27.574740Z"
    }
   },
   "outputs": [],
   "source": [
    "y_pred1 = np.where(y_pred >= 0.5, 1, 0)\n",
    "y_pred1 = y_pred1.astype(bool)\n",
    "output1 = pd.DataFrame({'PassengerId': test_df.PassengerId, 'Transported': y_pred1})\n",
    "output1.to_csv('output/xgb_submission_ver01_noparams.csv', index=False)"
   ]
  }
 ],
 "metadata": {
  "kernelspec": {
   "display_name": "Python 3 (ipykernel)",
   "language": "python",
   "name": "python3"
  },
  "language_info": {
   "codemirror_mode": {
    "name": "ipython",
    "version": 3
   },
   "file_extension": ".py",
   "mimetype": "text/x-python",
   "name": "python",
   "nbconvert_exporter": "python",
   "pygments_lexer": "ipython3",
   "version": "3.10.4"
  },
  "toc": {
   "base_numbering": 1,
   "nav_menu": {},
   "number_sections": true,
   "sideBar": true,
   "skip_h1_title": false,
   "title_cell": "Table of Contents",
   "title_sidebar": "Contents",
   "toc_cell": false,
   "toc_position": {},
   "toc_section_display": true,
   "toc_window_display": false
  }
 },
 "nbformat": 4,
 "nbformat_minor": 5
}
