{
 "cells": [
  {
   "cell_type": "code",
   "execution_count": 1,
   "id": "b9b76930",
   "metadata": {
    "ExecuteTime": {
     "end_time": "2022-07-27T02:27:22.863908Z",
     "start_time": "2022-07-27T02:27:05.670453Z"
    }
   },
   "outputs": [],
   "source": [
    "import numpy as np\n",
    "import pandas as pd \n",
    "import matplotlib.pyplot as plt\n",
    "import tensorflow as tf\n",
    "import seaborn as sns\n",
    "from tensorflow.keras import layers, models\n",
    "from keras.callbacks import EarlyStopping\n",
    "from sklearn.model_selection import StratifiedKFold \n",
    "from sklearn.metrics import roc_auc_score\n",
    "from tensorflow.keras import optimizers\n",
    "import keras"
   ]
  },
  {
   "cell_type": "code",
   "execution_count": 2,
   "id": "462212e2",
   "metadata": {
    "ExecuteTime": {
     "end_time": "2022-07-27T02:30:48.643400Z",
     "start_time": "2022-07-27T02:30:48.572635Z"
    }
   },
   "outputs": [],
   "source": [
    "train_raw = pd.read_csv('./train.csv')\n",
    "test_raw = pd.read_csv('./test.csv')"
   ]
  },
  {
   "cell_type": "code",
   "execution_count": 3,
   "id": "c96ede7f",
   "metadata": {
    "ExecuteTime": {
     "end_time": "2022-07-27T02:30:49.470977Z",
     "start_time": "2022-07-27T02:30:49.421118Z"
    }
   },
   "outputs": [
    {
     "data": {
      "text/html": [
       "<div>\n",
       "<style scoped>\n",
       "    .dataframe tbody tr th:only-of-type {\n",
       "        vertical-align: middle;\n",
       "    }\n",
       "\n",
       "    .dataframe tbody tr th {\n",
       "        vertical-align: top;\n",
       "    }\n",
       "\n",
       "    .dataframe thead th {\n",
       "        text-align: right;\n",
       "    }\n",
       "</style>\n",
       "<table border=\"1\" class=\"dataframe\">\n",
       "  <thead>\n",
       "    <tr style=\"text-align: right;\">\n",
       "      <th></th>\n",
       "      <th>PassengerId</th>\n",
       "      <th>Survived</th>\n",
       "      <th>Pclass</th>\n",
       "      <th>Name</th>\n",
       "      <th>Sex</th>\n",
       "      <th>Age</th>\n",
       "      <th>SibSp</th>\n",
       "      <th>Parch</th>\n",
       "      <th>Ticket</th>\n",
       "      <th>Fare</th>\n",
       "      <th>Cabin</th>\n",
       "      <th>Embarked</th>\n",
       "    </tr>\n",
       "  </thead>\n",
       "  <tbody>\n",
       "    <tr>\n",
       "      <th>0</th>\n",
       "      <td>1</td>\n",
       "      <td>0</td>\n",
       "      <td>3</td>\n",
       "      <td>Braund, Mr. Owen Harris</td>\n",
       "      <td>male</td>\n",
       "      <td>22.0</td>\n",
       "      <td>1</td>\n",
       "      <td>0</td>\n",
       "      <td>A/5 21171</td>\n",
       "      <td>7.2500</td>\n",
       "      <td>NaN</td>\n",
       "      <td>S</td>\n",
       "    </tr>\n",
       "    <tr>\n",
       "      <th>1</th>\n",
       "      <td>2</td>\n",
       "      <td>1</td>\n",
       "      <td>1</td>\n",
       "      <td>Cumings, Mrs. John Bradley (Florence Briggs Th...</td>\n",
       "      <td>female</td>\n",
       "      <td>38.0</td>\n",
       "      <td>1</td>\n",
       "      <td>0</td>\n",
       "      <td>PC 17599</td>\n",
       "      <td>71.2833</td>\n",
       "      <td>C85</td>\n",
       "      <td>C</td>\n",
       "    </tr>\n",
       "    <tr>\n",
       "      <th>2</th>\n",
       "      <td>3</td>\n",
       "      <td>1</td>\n",
       "      <td>3</td>\n",
       "      <td>Heikkinen, Miss. Laina</td>\n",
       "      <td>female</td>\n",
       "      <td>26.0</td>\n",
       "      <td>0</td>\n",
       "      <td>0</td>\n",
       "      <td>STON/O2. 3101282</td>\n",
       "      <td>7.9250</td>\n",
       "      <td>NaN</td>\n",
       "      <td>S</td>\n",
       "    </tr>\n",
       "    <tr>\n",
       "      <th>3</th>\n",
       "      <td>4</td>\n",
       "      <td>1</td>\n",
       "      <td>1</td>\n",
       "      <td>Futrelle, Mrs. Jacques Heath (Lily May Peel)</td>\n",
       "      <td>female</td>\n",
       "      <td>35.0</td>\n",
       "      <td>1</td>\n",
       "      <td>0</td>\n",
       "      <td>113803</td>\n",
       "      <td>53.1000</td>\n",
       "      <td>C123</td>\n",
       "      <td>S</td>\n",
       "    </tr>\n",
       "    <tr>\n",
       "      <th>4</th>\n",
       "      <td>5</td>\n",
       "      <td>0</td>\n",
       "      <td>3</td>\n",
       "      <td>Allen, Mr. William Henry</td>\n",
       "      <td>male</td>\n",
       "      <td>35.0</td>\n",
       "      <td>0</td>\n",
       "      <td>0</td>\n",
       "      <td>373450</td>\n",
       "      <td>8.0500</td>\n",
       "      <td>NaN</td>\n",
       "      <td>S</td>\n",
       "    </tr>\n",
       "  </tbody>\n",
       "</table>\n",
       "</div>"
      ],
      "text/plain": [
       "   PassengerId  Survived  Pclass  \\\n",
       "0            1         0       3   \n",
       "1            2         1       1   \n",
       "2            3         1       3   \n",
       "3            4         1       1   \n",
       "4            5         0       3   \n",
       "\n",
       "                                                Name     Sex   Age  SibSp  \\\n",
       "0                            Braund, Mr. Owen Harris    male  22.0      1   \n",
       "1  Cumings, Mrs. John Bradley (Florence Briggs Th...  female  38.0      1   \n",
       "2                             Heikkinen, Miss. Laina  female  26.0      0   \n",
       "3       Futrelle, Mrs. Jacques Heath (Lily May Peel)  female  35.0      1   \n",
       "4                           Allen, Mr. William Henry    male  35.0      0   \n",
       "\n",
       "   Parch            Ticket     Fare Cabin Embarked  \n",
       "0      0         A/5 21171   7.2500   NaN        S  \n",
       "1      0          PC 17599  71.2833   C85        C  \n",
       "2      0  STON/O2. 3101282   7.9250   NaN        S  \n",
       "3      0            113803  53.1000  C123        S  \n",
       "4      0            373450   8.0500   NaN        S  "
      ]
     },
     "execution_count": 3,
     "metadata": {},
     "output_type": "execute_result"
    }
   ],
   "source": [
    "train_raw.head()"
   ]
  },
  {
   "cell_type": "code",
   "execution_count": 4,
   "id": "e7c1542d",
   "metadata": {
    "ExecuteTime": {
     "end_time": "2022-07-27T02:30:50.751511Z",
     "start_time": "2022-07-27T02:30:50.469131Z"
    }
   },
   "outputs": [
    {
     "data": {
      "image/png": "[encoded data removed]",
      "text/plain": [
       "<Figure size 432x288 with 1 Axes>"
      ]
     },
     "metadata": {
      "needs_background": "light"
     },
     "output_type": "display_data"
    }
   ],
   "source": [
    "#sns.countplot(train_raw['Survived'])\n",
    "ax = train_raw['Survived'].value_counts().plot(kind='bar',\n",
    "                                         rot=0)\n",
    "ax.set_xlabel('Survived', fontsize=15)\n",
    "ax.set_ylabel('Counts', fontsize=15)\n",
    "plt.show()"
   ]
  },
  {
   "cell_type": "code",
   "execution_count": 5,
   "id": "1e2b445c",
   "metadata": {
    "ExecuteTime": {
     "end_time": "2022-07-27T02:30:51.620405Z",
     "start_time": "2022-07-27T02:30:51.331901Z"
    }
   },
   "outputs": [
    {
     "data": {
      "image/png": "[encoded data removed]",
      "text/plain": [
       "<Figure size 432x288 with 1 Axes>"
      ]
     },
     "metadata": {
      "needs_background": "light"
     },
     "output_type": "display_data"
    }
   ],
   "source": [
    "ax = train_raw.loc[train_raw.Survived==0, 'Age'].plot(kind='density')\n",
    "ax = train_raw.loc[train_raw.Survived==1, 'Age'].plot(kind='density')\n",
    "ax.legend(['Survived=0', 'Survived=1'], fontsize=12)\n",
    "ax.set_xlabel('Age')\n",
    "ax.set_ylabel('Density')\n",
    "plt.show()"
   ]
  },
  {
   "cell_type": "code",
   "execution_count": 6,
   "id": "c44bbad2",
   "metadata": {
    "ExecuteTime": {
     "end_time": "2022-07-27T02:30:52.652199Z",
     "start_time": "2022-07-27T02:30:52.387595Z"
    }
   },
   "outputs": [],
   "source": [
    "def preprocessing(dfdata):\n",
    "\n",
    "    dfresult= pd.DataFrame()\n",
    "\n",
    "    #Pclass\n",
    "    dfPclass = pd.get_dummies(dfdata['Pclass'])\n",
    "    dfPclass.columns = ['Pclass_' +str(x) for x in dfPclass.columns ]\n",
    "    dfresult = pd.concat([dfresult,dfPclass],axis = 1)\n",
    "\n",
    "    #Sex\n",
    "    dfSex = pd.get_dummies(dfdata['Sex'])\n",
    "    dfresult = pd.concat([dfresult,dfSex],axis = 1)\n",
    "\n",
    "    #Age\n",
    "    dfresult['Age'] = dfdata['Age'].fillna(0)\n",
    "    dfresult['Age_null'] = pd.isna(dfdata['Age']).astype('int32')\n",
    "\n",
    "    #SibSp,Parch,Fare\n",
    "    dfresult['SibSp'] = dfdata['SibSp']\n",
    "    dfresult['Parch'] = dfdata['Parch']\n",
    "    dfresult['Fare'] = dfdata['Fare']\n",
    "\n",
    "    #Carbin\n",
    "    dfresult['Cabin_null'] =  pd.isna(dfdata['Cabin']).astype('int32')\n",
    "\n",
    "    #Embarked\n",
    "    dfEmbarked = pd.get_dummies(dfdata['Embarked'],dummy_na=True)\n",
    "    dfEmbarked.columns = ['Embarked_' + str(x) for x in dfEmbarked.columns]\n",
    "    dfresult = pd.concat([dfresult,dfEmbarked],axis = 1)\n",
    "\n",
    "    return(dfresult)\n",
    "\n",
    "X_train = preprocessing(train_raw)\n",
    "y_train = train_raw['Survived'].values\n",
    "X_test = preprocessing(test_raw)"
   ]
  },
  {
   "cell_type": "code",
   "execution_count": 7,
   "id": "4a7d2b90",
   "metadata": {
    "ExecuteTime": {
     "end_time": "2022-07-27T02:30:53.584772Z",
     "start_time": "2022-07-27T02:30:53.575776Z"
    }
   },
   "outputs": [
    {
     "data": {
      "text/plain": [
       "(418, 15)"
      ]
     },
     "execution_count": 7,
     "metadata": {},
     "output_type": "execute_result"
    }
   ],
   "source": [
    "X_test.shape"
   ]
  },
  {
   "cell_type": "code",
   "execution_count": 9,
   "id": "d106bf31",
   "metadata": {
    "ExecuteTime": {
     "end_time": "2022-07-27T02:30:59.989898Z",
     "start_time": "2022-07-27T02:30:59.864144Z"
    }
   },
   "outputs": [
    {
     "name": "stdout",
     "output_type": "stream",
     "text": [
      "Model: \"sequential\"\n",
      "_________________________________________________________________\n",
      " Layer (type)                Output Shape              Param #   \n",
      "=================================================================\n",
      " dense (Dense)               (None, 20)                320       \n",
      "                                                                 \n",
      " dense_1 (Dense)             (None, 10)                210       \n",
      "                                                                 \n",
      " dense_2 (Dense)             (None, 1)                 11        \n",
      "                                                                 \n",
      "=================================================================\n",
      "Total params: 541\n",
      "Trainable params: 541\n",
      "Non-trainable params: 0\n",
      "_________________________________________________________________\n"
     ]
    }
   ],
   "source": [
    "tf.keras.backend.clear_session()\n",
    "\n",
    "model = models.Sequential()\n",
    "model.add(layers.Dense(20, activation='relu',))\n",
    "model.add(layers.Dense(10, activation='relu'))\n",
    "model.add(layers.Dense(1, activation='sigmoid'))\n",
    "\n",
    "model.build(input_shape=(None,15))\n",
    "model.summary()"
   ]
  },
  {
   "cell_type": "code",
   "execution_count": 10,
   "id": "2f309a06",
   "metadata": {
    "ExecuteTime": {
     "end_time": "2022-07-27T02:31:06.345582Z",
     "start_time": "2022-07-27T02:31:06.301061Z"
    }
   },
   "outputs": [],
   "source": [
    "loss_fn = keras.losses.BinaryCrossentropy()\n",
    "model.compile(optimizer=optimizers.Adam(learning_rate=0.05), loss=loss_fn, metrics=['AUC'])"
   ]
  },
  {
   "cell_type": "code",
   "execution_count": 11,
   "id": "14a32473",
   "metadata": {
    "ExecuteTime": {
     "end_time": "2022-07-27T02:31:08.464159Z",
     "start_time": "2022-07-27T02:31:08.392068Z"
    }
   },
   "outputs": [
    {
     "data": {
      "text/plain": [
       "pandas.core.frame.DataFrame"
      ]
     },
     "execution_count": 11,
     "metadata": {},
     "output_type": "execute_result"
    }
   ],
   "source": [
    "type(X_train)"
   ]
  },
  {
   "cell_type": "code",
   "execution_count": 12,
   "id": "71a02a8f",
   "metadata": {
    "ExecuteTime": {
     "end_time": "2022-07-27T02:31:09.589650Z",
     "start_time": "2022-07-27T02:31:09.032340Z"
    }
   },
   "outputs": [
    {
     "data": {
      "text/plain": [
       "(418, 1)"
      ]
     },
     "execution_count": 12,
     "metadata": {},
     "output_type": "execute_result"
    }
   ],
   "source": [
    "model.predict(X_test).shape"
   ]
  },
  {
   "cell_type": "code",
   "execution_count": 13,
   "id": "4d42b424",
   "metadata": {
    "ExecuteTime": {
     "end_time": "2022-07-27T02:31:16.568683Z",
     "start_time": "2022-07-27T02:31:09.896083Z"
    }
   },
   "outputs": [
    {
     "name": "stdout",
     "output_type": "stream",
     "text": [
      "=============Fold 0==============\n",
      "Epoch 1/100\n",
      "6/6 [==============================] - 1s 63ms/step - loss: 2.3979 - auc: 0.5687 - val_loss: 0.6712 - val_auc: 0.6943\n",
      "Epoch 2/100\n",
      "6/6 [==============================] - 0s 8ms/step - loss: 0.7526 - auc: 0.6282 - val_loss: 0.5771 - val_auc: 0.7836\n",
      "Epoch 3/100\n",
      "6/6 [==============================] - 0s 10ms/step - loss: 0.6347 - auc: 0.7426 - val_loss: 0.5650 - val_auc: 0.7575\n",
      "Epoch 4/100\n",
      "6/6 [==============================] - 0s 9ms/step - loss: 0.6097 - auc: 0.7190 - val_loss: 0.4994 - val_auc: 0.7939\n",
      "Epoch 5/100\n",
      "6/6 [==============================] - 0s 10ms/step - loss: 0.6080 - auc: 0.8012 - val_loss: 0.5594 - val_auc: 0.8150\n",
      "Epoch 6/100\n",
      "6/6 [==============================] - 0s 9ms/step - loss: 0.5324 - auc: 0.8041 - val_loss: 0.4859 - val_auc: 0.8294\n",
      "Epoch 7/100\n",
      "6/6 [==============================] - 0s 9ms/step - loss: 0.4830 - auc: 0.8414 - val_loss: 0.4558 - val_auc: 0.8546\n",
      "Epoch 8/100\n",
      "6/6 [==============================] - 0s 9ms/step - loss: 0.4640 - auc: 0.8491 - val_loss: 0.4571 - val_auc: 0.8503\n",
      "Epoch 9/100\n",
      "6/6 [==============================] - 0s 11ms/step - loss: 0.4473 - auc: 0.8575 - val_loss: 0.5495 - val_auc: 0.7926\n",
      "Epoch 10/100\n",
      "6/6 [==============================] - 0s 12ms/step - loss: 0.4713 - auc: 0.8476 - val_loss: 0.4857 - val_auc: 0.8463\n",
      "Epoch 11/100\n",
      "6/6 [==============================] - 0s 13ms/step - loss: 0.4465 - auc: 0.8623 - val_loss: 0.4875 - val_auc: 0.8219\n",
      "Epoch 12/100\n",
      "6/6 [==============================] - 0s 11ms/step - loss: 0.4305 - auc: 0.8700 - val_loss: 0.4634 - val_auc: 0.8371\n",
      "Epoch 13/100\n",
      "6/6 [==============================] - 0s 17ms/step - loss: 0.4177 - auc: 0.8764 - val_loss: 0.4728 - val_auc: 0.8354\n",
      "Epoch 14/100\n",
      "6/6 [==============================] - 0s 18ms/step - loss: 0.4288 - auc: 0.8715 - val_loss: 0.4617 - val_auc: 0.8417\n",
      "Epoch 15/100\n",
      "6/6 [==============================] - 0s 17ms/step - loss: 0.4242 - auc: 0.8717 - val_loss: 0.4617 - val_auc: 0.8382\n",
      "Epoch 16/100\n",
      "6/6 [==============================] - 0s 10ms/step - loss: 0.4114 - auc: 0.8817 - val_loss: 0.5230 - val_auc: 0.8106\n",
      "Epoch 17/100\n",
      "6/6 [==============================] - 0s 11ms/step - loss: 0.4414 - auc: 0.8633 - val_loss: 0.4699 - val_auc: 0.8434\n",
      "\n",
      "Fold 0 prediction cv AUC: 0.84394\n",
      "\n",
      "=============Fold 1==============\n",
      "Epoch 1/100\n",
      "6/6 [==============================] - 0s 29ms/step - loss: 0.4645 - auc: 0.8406 - val_loss: 0.3762 - val_auc: 0.9236\n",
      "Epoch 2/100\n",
      "6/6 [==============================] - 0s 15ms/step - loss: 0.4711 - auc: 0.8415 - val_loss: 0.4122 - val_auc: 0.8973\n",
      "Epoch 3/100\n",
      "6/6 [==============================] - 0s 12ms/step - loss: 0.4453 - auc: 0.8525 - val_loss: 0.3724 - val_auc: 0.9197\n",
      "Epoch 4/100\n",
      "6/6 [==============================] - 0s 13ms/step - loss: 0.4400 - auc: 0.8558 - val_loss: 0.3510 - val_auc: 0.9263\n",
      "Epoch 5/100\n",
      "6/6 [==============================] - 0s 12ms/step - loss: 0.4310 - auc: 0.8617 - val_loss: 0.3508 - val_auc: 0.9220\n",
      "Epoch 6/100\n",
      "6/6 [==============================] - 0s 10ms/step - loss: 0.4414 - auc: 0.8510 - val_loss: 0.3679 - val_auc: 0.9198\n",
      "Epoch 7/100\n",
      "6/6 [==============================] - 0s 11ms/step - loss: 0.4335 - auc: 0.8586 - val_loss: 0.3671 - val_auc: 0.9139\n",
      "Epoch 8/100\n",
      "6/6 [==============================] - 0s 9ms/step - loss: 0.4279 - auc: 0.8605 - val_loss: 0.3641 - val_auc: 0.9168\n",
      "Epoch 9/100\n",
      "6/6 [==============================] - 0s 10ms/step - loss: 0.4256 - auc: 0.8593 - val_loss: 0.3536 - val_auc: 0.9216\n",
      "Epoch 10/100\n",
      "6/6 [==============================] - 0s 11ms/step - loss: 0.4212 - auc: 0.8638 - val_loss: 0.3618 - val_auc: 0.9234\n",
      "Epoch 11/100\n",
      "6/6 [==============================] - 0s 10ms/step - loss: 0.4251 - auc: 0.8653 - val_loss: 0.3645 - val_auc: 0.9182\n",
      "Epoch 12/100\n",
      "6/6 [==============================] - 0s 10ms/step - loss: 0.4320 - auc: 0.8577 - val_loss: 0.3678 - val_auc: 0.9214\n",
      "Epoch 13/100\n",
      "6/6 [==============================] - 0s 13ms/step - loss: 0.4348 - auc: 0.8516 - val_loss: 0.4043 - val_auc: 0.9067\n",
      "Epoch 14/100\n",
      "6/6 [==============================] - 0s 13ms/step - loss: 0.4312 - auc: 0.8636 - val_loss: 0.3687 - val_auc: 0.9208\n",
      "Epoch 15/100\n",
      "6/6 [==============================] - 0s 9ms/step - loss: 0.4358 - auc: 0.8660 - val_loss: 0.3805 - val_auc: 0.9199\n",
      "\n",
      "Fold 1 prediction cv AUC: 0.91965\n",
      "\n",
      "=============Fold 2==============\n",
      "Epoch 1/100\n",
      "6/6 [==============================] - 0s 20ms/step - loss: 0.4342 - auc: 0.8676 - val_loss: 0.4051 - val_auc: 0.9019\n",
      "Epoch 2/100\n",
      "6/6 [==============================] - 0s 9ms/step - loss: 0.4249 - auc: 0.8698 - val_loss: 0.4056 - val_auc: 0.8856\n",
      "Epoch 3/100\n",
      "6/6 [==============================] - 0s 8ms/step - loss: 0.4115 - auc: 0.8768 - val_loss: 0.3962 - val_auc: 0.9041\n",
      "Epoch 4/100\n",
      "6/6 [==============================] - 0s 7ms/step - loss: 0.4061 - auc: 0.8794 - val_loss: 0.3925 - val_auc: 0.9017\n",
      "Epoch 5/100\n",
      "6/6 [==============================] - 0s 7ms/step - loss: 0.4029 - auc: 0.8843 - val_loss: 0.4002 - val_auc: 0.8980\n",
      "Epoch 6/100\n",
      "6/6 [==============================] - 0s 8ms/step - loss: 0.3981 - auc: 0.8833 - val_loss: 0.3969 - val_auc: 0.9051\n",
      "Epoch 7/100\n",
      "6/6 [==============================] - 0s 7ms/step - loss: 0.4043 - auc: 0.8832 - val_loss: 0.4368 - val_auc: 0.8850\n",
      "Epoch 8/100\n",
      "6/6 [==============================] - 0s 7ms/step - loss: 0.4225 - auc: 0.8705 - val_loss: 0.3938 - val_auc: 0.8969\n",
      "Epoch 9/100\n",
      "6/6 [==============================] - 0s 7ms/step - loss: 0.4045 - auc: 0.8791 - val_loss: 0.3975 - val_auc: 0.9033\n",
      "Epoch 10/100\n",
      "6/6 [==============================] - 0s 8ms/step - loss: 0.3906 - auc: 0.8873 - val_loss: 0.4215 - val_auc: 0.8830\n",
      "Epoch 11/100\n",
      "6/6 [==============================] - 0s 7ms/step - loss: 0.3868 - auc: 0.8882 - val_loss: 0.4002 - val_auc: 0.8993\n",
      "Epoch 12/100\n",
      "6/6 [==============================] - 0s 7ms/step - loss: 0.3939 - auc: 0.8859 - val_loss: 0.4070 - val_auc: 0.8998\n",
      "Epoch 13/100\n",
      "6/6 [==============================] - 0s 7ms/step - loss: 0.3831 - auc: 0.8928 - val_loss: 0.4007 - val_auc: 0.8926\n",
      "Epoch 14/100\n",
      "6/6 [==============================] - 0s 7ms/step - loss: 0.3845 - auc: 0.8924 - val_loss: 0.4112 - val_auc: 0.8969\n",
      "\n",
      "Fold 2 prediction cv AUC: 0.89759\n",
      "\n",
      "=============Fold 3==============\n",
      "Epoch 1/100\n",
      "6/6 [==============================] - 0s 16ms/step - loss: 0.3814 - auc: 0.8956 - val_loss: 0.4178 - val_auc: 0.8652\n",
      "Epoch 2/100\n",
      "6/6 [==============================] - 0s 10ms/step - loss: 0.3875 - auc: 0.8972 - val_loss: 0.4284 - val_auc: 0.8570\n",
      "Epoch 3/100\n",
      "6/6 [==============================] - 0s 16ms/step - loss: 0.3986 - auc: 0.8902 - val_loss: 0.4329 - val_auc: 0.8568\n",
      "Epoch 4/100\n",
      "6/6 [==============================] - 0s 10ms/step - loss: 0.3865 - auc: 0.8918 - val_loss: 0.4290 - val_auc: 0.8630\n",
      "Epoch 5/100\n",
      "6/6 [==============================] - 0s 16ms/step - loss: 0.3840 - auc: 0.8932 - val_loss: 0.4380 - val_auc: 0.8515\n",
      "Epoch 6/100\n",
      "6/6 [==============================] - 0s 12ms/step - loss: 0.3742 - auc: 0.9015 - val_loss: 0.4346 - val_auc: 0.8591\n",
      "Epoch 7/100\n",
      "6/6 [==============================] - 0s 12ms/step - loss: 0.3737 - auc: 0.9012 - val_loss: 0.4251 - val_auc: 0.8626\n",
      "Epoch 8/100\n",
      "6/6 [==============================] - 0s 7ms/step - loss: 0.3709 - auc: 0.9045 - val_loss: 0.4406 - val_auc: 0.8598\n",
      "Epoch 9/100\n",
      "6/6 [==============================] - 0s 9ms/step - loss: 0.3698 - auc: 0.9033 - val_loss: 0.4219 - val_auc: 0.8628\n",
      "Epoch 10/100\n",
      "6/6 [==============================] - 0s 8ms/step - loss: 0.3627 - auc: 0.9074 - val_loss: 0.4347 - val_auc: 0.8597\n",
      "Epoch 11/100\n",
      "6/6 [==============================] - 0s 9ms/step - loss: 0.3622 - auc: 0.9077 - val_loss: 0.4331 - val_auc: 0.8593\n",
      "\n",
      "Fold 3 prediction cv AUC: 0.85909\n",
      "\n",
      "=============Fold 4==============\n",
      "Epoch 1/100\n",
      "6/6 [==============================] - 0s 17ms/step - loss: 0.3706 - auc: 0.9001 - val_loss: 0.4157 - val_auc: 0.8842\n",
      "Epoch 2/100\n",
      "6/6 [==============================] - 0s 11ms/step - loss: 0.3702 - auc: 0.8981 - val_loss: 0.4063 - val_auc: 0.8870\n",
      "Epoch 3/100\n",
      "6/6 [==============================] - 0s 7ms/step - loss: 0.3723 - auc: 0.8961 - val_loss: 0.4127 - val_auc: 0.8854\n",
      "Epoch 4/100\n"
     ]
    },
    {
     "name": "stdout",
     "output_type": "stream",
     "text": [
      "6/6 [==============================] - 0s 9ms/step - loss: 0.3676 - auc: 0.8975 - val_loss: 0.4201 - val_auc: 0.8834\n",
      "Epoch 5/100\n",
      "6/6 [==============================] - 0s 10ms/step - loss: 0.3660 - auc: 0.8992 - val_loss: 0.4129 - val_auc: 0.8901\n",
      "Epoch 6/100\n",
      "6/6 [==============================] - 0s 11ms/step - loss: 0.3669 - auc: 0.9014 - val_loss: 0.4207 - val_auc: 0.8906\n",
      "Epoch 7/100\n",
      "6/6 [==============================] - 0s 11ms/step - loss: 0.3708 - auc: 0.9013 - val_loss: 0.4115 - val_auc: 0.8933\n",
      "Epoch 8/100\n",
      "6/6 [==============================] - 0s 11ms/step - loss: 0.3635 - auc: 0.9025 - val_loss: 0.4169 - val_auc: 0.8932\n",
      "Epoch 9/100\n",
      "6/6 [==============================] - 0s 10ms/step - loss: 0.3664 - auc: 0.9041 - val_loss: 0.4497 - val_auc: 0.8641\n",
      "Epoch 10/100\n",
      "6/6 [==============================] - 0s 8ms/step - loss: 0.3674 - auc: 0.9001 - val_loss: 0.4321 - val_auc: 0.8821\n",
      "Epoch 11/100\n",
      "6/6 [==============================] - 0s 9ms/step - loss: 0.3585 - auc: 0.9062 - val_loss: 0.4478 - val_auc: 0.8651\n",
      "Epoch 12/100\n",
      "6/6 [==============================] - 0s 9ms/step - loss: 0.3731 - auc: 0.8973 - val_loss: 0.4159 - val_auc: 0.8850\n",
      "\n",
      "Fold 4 prediction cv AUC: 0.88539\n",
      "\n",
      "Mean out of fold AUC: 0.88113\n",
      "Full validation AUC: 0.87051\n"
     ]
    }
   ],
   "source": [
    "# 开始训练 5折交叉验证，把五次模型的预测结果进行平均加权\n",
    "k = 5\n",
    "n_epochs = 100\n",
    "patience = 10\n",
    "\n",
    "\n",
    "cv_aucs = []\n",
    "full_val_preds = np.zeros(X_train.shape[0])\n",
    "y_preds = np.zeros(X_test.shape[0])\n",
    "\n",
    "kfold = StratifiedKFold(n_splits=k, shuffle=True, random_state=3)\n",
    "\n",
    "for i, (train_index, val_index) in enumerate(kfold.split(X_train, y_train)):\n",
    "    print(f\"=============Fold {i}==============\")\n",
    "    X_train_f, X_val_f = X_train.loc[train_index].copy(), X_train.loc[val_index].copy()\n",
    "    y_train_f, y_val_f = y_train[train_index].copy(), y_train[val_index].copy()\n",
    "    \n",
    "    X_test_f = X_test.copy()\n",
    "    \n",
    "    # 待会儿试试不打乱idx的\n",
    "    idx = np.arange(len(X_train_f))\n",
    "    np.random.shuffle(idx)\n",
    "    X_train_f = X_train_f.iloc[idx]\n",
    "    y_train_f = y_train_f[idx]\n",
    "    val_preds = 0\n",
    "    \n",
    "    callbacks = [EarlyStopping(monitor='val_loss', patience=patience)]\n",
    "    model.fit(X_train_f, y_train_f, epochs=n_epochs, batch_size=128, verbose=1,\n",
    "              callbacks=callbacks, validation_data=(X_val_f, y_val_f))\n",
    "    # predict\n",
    "    val_preds = model.predict(X_val_f)[:,0]\n",
    "    y_preds += model.predict(X_test_f)[:,0]\n",
    "    \n",
    "    cv_auc = roc_auc_score(y_val_f, val_preds)\n",
    "    cv_aucs.append(cv_auc)\n",
    "    full_val_preds[val_index] = val_preds\n",
    "    \n",
    "    print('\\nFold %i prediction cv AUC: %.5f\\n' %(i, cv_auc))\n",
    "\n",
    "print('Mean out of fold AUC: %.5f' % np.mean(cv_aucs))\n",
    "print('Full validation AUC: %.5f' % roc_auc_score(y_train, full_val_preds))    \n",
    "    \n",
    "    \n",
    "    \n",
    "    \n",
    "    \n"
   ]
  },
  {
   "cell_type": "code",
   "execution_count": 20,
   "id": "d1da39d9",
   "metadata": {
    "ExecuteTime": {
     "end_time": "2022-07-27T02:36:07.758886Z",
     "start_time": "2022-07-27T02:36:07.731273Z"
    }
   },
   "outputs": [],
   "source": [
    "preds = y_preds / 5\n",
    "preds = np.round(preds).astype(bool)\n",
    "df = {'PassengerId': test_raw.PassengerId, 'Transported': preds}\n",
    "df_preds = pd.DataFrame(df).set_index(['PassengerId'])\n",
    "df_preds.to_csv('tensorflow_predction.csv')"
   ]
  }
 ],
 "metadata": {
  "kernelspec": {
   "display_name": "Python 3 (ipykernel)",
   "language": "python",
   "name": "python3"
  },
  "language_info": {
   "codemirror_mode": {
    "name": "ipython",
    "version": 3
   },
   "file_extension": ".py",
   "mimetype": "text/x-python",
   "name": "python",
   "nbconvert_exporter": "python",
   "pygments_lexer": "ipython3",
   "version": "3.9.7"
  },
  "toc": {
   "base_numbering": 1,
   "nav_menu": {},
   "number_sections": true,
   "sideBar": true,
   "skip_h1_title": false,
   "title_cell": "Table of Contents",
   "title_sidebar": "Contents",
   "toc_cell": false,
   "toc_position": {},
   "toc_section_display": true,
   "toc_window_display": false
  }
 },
 "nbformat": 4,
 "nbformat_minor": 5
}
