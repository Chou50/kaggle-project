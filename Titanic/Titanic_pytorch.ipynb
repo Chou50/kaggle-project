{
 "cells": [
  {
   "cell_type": "code",
   "execution_count": 54,
   "id": "b9b76930",
   "metadata": {
    "ExecuteTime": {
     "end_time": "2022-07-27T01:14:04.825568Z",
     "start_time": "2022-07-27T01:14:04.812692Z"
    }
   },
   "outputs": [],
   "source": [
    "import numpy as np\n",
    "import pandas as pd \n",
    "import matplotlib.pyplot as plt\n",
    "import seaborn as sns\n",
    "import torch\n",
    "from torch import optim\n",
    "from torch import nn\n",
    "from torch.utils.data import DataLoader, Dataset, TensorDataset\n",
    "from sklearn.preprocessing import StandardScaler\n",
    "from sklearn.model_selection import StratifiedKFold\n",
    "from sklearn.metrics import roc_auc_score\n",
    "import gc\n",
    "import os"
   ]
  },
  {
   "cell_type": "code",
   "execution_count": 16,
   "id": "462212e2",
   "metadata": {
    "ExecuteTime": {
     "end_time": "2022-07-27T00:33:38.804232Z",
     "start_time": "2022-07-27T00:33:38.784524Z"
    }
   },
   "outputs": [],
   "source": [
    "train_raw = pd.read_csv('./train.csv')\n",
    "test_raw = pd.read_csv('./test.csv')"
   ]
  },
  {
   "cell_type": "code",
   "execution_count": 17,
   "id": "c96ede7f",
   "metadata": {
    "ExecuteTime": {
     "end_time": "2022-07-27T00:33:39.564531Z",
     "start_time": "2022-07-27T00:33:39.537881Z"
    }
   },
   "outputs": [
    {
     "data": {
      "text/html": [
       "<div>\n",
       "<style scoped>\n",
       "    .dataframe tbody tr th:only-of-type {\n",
       "        vertical-align: middle;\n",
       "    }\n",
       "\n",
       "    .dataframe tbody tr th {\n",
       "        vertical-align: top;\n",
       "    }\n",
       "\n",
       "    .dataframe thead th {\n",
       "        text-align: right;\n",
       "    }\n",
       "</style>\n",
       "<table border=\"1\" class=\"dataframe\">\n",
       "  <thead>\n",
       "    <tr style=\"text-align: right;\">\n",
       "      <th></th>\n",
       "      <th>PassengerId</th>\n",
       "      <th>Survived</th>\n",
       "      <th>Pclass</th>\n",
       "      <th>Name</th>\n",
       "      <th>Sex</th>\n",
       "      <th>Age</th>\n",
       "      <th>SibSp</th>\n",
       "      <th>Parch</th>\n",
       "      <th>Ticket</th>\n",
       "      <th>Fare</th>\n",
       "      <th>Cabin</th>\n",
       "      <th>Embarked</th>\n",
       "    </tr>\n",
       "  </thead>\n",
       "  <tbody>\n",
       "    <tr>\n",
       "      <th>0</th>\n",
       "      <td>1</td>\n",
       "      <td>0</td>\n",
       "      <td>3</td>\n",
       "      <td>Braund, Mr. Owen Harris</td>\n",
       "      <td>male</td>\n",
       "      <td>22.0</td>\n",
       "      <td>1</td>\n",
       "      <td>0</td>\n",
       "      <td>A/5 21171</td>\n",
       "      <td>7.2500</td>\n",
       "      <td>NaN</td>\n",
       "      <td>S</td>\n",
       "    </tr>\n",
       "    <tr>\n",
       "      <th>1</th>\n",
       "      <td>2</td>\n",
       "      <td>1</td>\n",
       "      <td>1</td>\n",
       "      <td>Cumings, Mrs. John Bradley (Florence Briggs Th...</td>\n",
       "      <td>female</td>\n",
       "      <td>38.0</td>\n",
       "      <td>1</td>\n",
       "      <td>0</td>\n",
       "      <td>PC 17599</td>\n",
       "      <td>71.2833</td>\n",
       "      <td>C85</td>\n",
       "      <td>C</td>\n",
       "    </tr>\n",
       "    <tr>\n",
       "      <th>2</th>\n",
       "      <td>3</td>\n",
       "      <td>1</td>\n",
       "      <td>3</td>\n",
       "      <td>Heikkinen, Miss. Laina</td>\n",
       "      <td>female</td>\n",
       "      <td>26.0</td>\n",
       "      <td>0</td>\n",
       "      <td>0</td>\n",
       "      <td>STON/O2. 3101282</td>\n",
       "      <td>7.9250</td>\n",
       "      <td>NaN</td>\n",
       "      <td>S</td>\n",
       "    </tr>\n",
       "    <tr>\n",
       "      <th>3</th>\n",
       "      <td>4</td>\n",
       "      <td>1</td>\n",
       "      <td>1</td>\n",
       "      <td>Futrelle, Mrs. Jacques Heath (Lily May Peel)</td>\n",
       "      <td>female</td>\n",
       "      <td>35.0</td>\n",
       "      <td>1</td>\n",
       "      <td>0</td>\n",
       "      <td>113803</td>\n",
       "      <td>53.1000</td>\n",
       "      <td>C123</td>\n",
       "      <td>S</td>\n",
       "    </tr>\n",
       "    <tr>\n",
       "      <th>4</th>\n",
       "      <td>5</td>\n",
       "      <td>0</td>\n",
       "      <td>3</td>\n",
       "      <td>Allen, Mr. William Henry</td>\n",
       "      <td>male</td>\n",
       "      <td>35.0</td>\n",
       "      <td>0</td>\n",
       "      <td>0</td>\n",
       "      <td>373450</td>\n",
       "      <td>8.0500</td>\n",
       "      <td>NaN</td>\n",
       "      <td>S</td>\n",
       "    </tr>\n",
       "  </tbody>\n",
       "</table>\n",
       "</div>"
      ],
      "text/plain": [
       "   PassengerId  Survived  Pclass  \\\n",
       "0            1         0       3   \n",
       "1            2         1       1   \n",
       "2            3         1       3   \n",
       "3            4         1       1   \n",
       "4            5         0       3   \n",
       "\n",
       "                                                Name     Sex   Age  SibSp  \\\n",
       "0                            Braund, Mr. Owen Harris    male  22.0      1   \n",
       "1  Cumings, Mrs. John Bradley (Florence Briggs Th...  female  38.0      1   \n",
       "2                             Heikkinen, Miss. Laina  female  26.0      0   \n",
       "3       Futrelle, Mrs. Jacques Heath (Lily May Peel)  female  35.0      1   \n",
       "4                           Allen, Mr. William Henry    male  35.0      0   \n",
       "\n",
       "   Parch            Ticket     Fare Cabin Embarked  \n",
       "0      0         A/5 21171   7.2500   NaN        S  \n",
       "1      0          PC 17599  71.2833   C85        C  \n",
       "2      0  STON/O2. 3101282   7.9250   NaN        S  \n",
       "3      0            113803  53.1000  C123        S  \n",
       "4      0            373450   8.0500   NaN        S  "
      ]
     },
     "execution_count": 17,
     "metadata": {},
     "output_type": "execute_result"
    }
   ],
   "source": [
    "train_raw.head()"
   ]
  },
  {
   "cell_type": "code",
   "execution_count": 18,
   "id": "e7c1542d",
   "metadata": {
    "ExecuteTime": {
     "end_time": "2022-07-27T00:33:40.897048Z",
     "start_time": "2022-07-27T00:33:40.742136Z"
    }
   },
   "outputs": [
    {
     "data": {
      "image/png": "[encoded data removed]",
      "text/plain": [
       "<Figure size 432x288 with 1 Axes>"
      ]
     },
     "metadata": {
      "needs_background": "light"
     },
     "output_type": "display_data"
    }
   ],
   "source": [
    "#sns.countplot(train_raw['Survived'])\n",
    "ax = train_raw['Survived'].value_counts().plot(kind='bar',\n",
    "                                         rot=0)\n",
    "ax.set_xlabel('Survived', fontsize=15)\n",
    "ax.set_ylabel('Counts', fontsize=15)\n",
    "plt.show()"
   ]
  },
  {
   "cell_type": "code",
   "execution_count": 19,
   "id": "1e2b445c",
   "metadata": {
    "ExecuteTime": {
     "end_time": "2022-07-27T00:33:41.759185Z",
     "start_time": "2022-07-27T00:33:41.464109Z"
    }
   },
   "outputs": [
    {
     "data": {
      "image/png": "[encoded data removed]",
      "text/plain": [
       "<Figure size 432x288 with 1 Axes>"
      ]
     },
     "metadata": {
      "needs_background": "light"
     },
     "output_type": "display_data"
    }
   ],
   "source": [
    "ax = train_raw.loc[train_raw.Survived==0, 'Age'].plot(kind='density')\n",
    "ax = train_raw.loc[train_raw.Survived==1, 'Age'].plot(kind='density')\n",
    "ax.legend(['Survived=0', 'Survived=1'], fontsize=12)\n",
    "ax.set_xlabel('Age')\n",
    "ax.set_ylabel('Density')\n",
    "plt.show()"
   ]
  },
  {
   "cell_type": "code",
   "execution_count": 20,
   "id": "c44bbad2",
   "metadata": {
    "ExecuteTime": {
     "end_time": "2022-07-27T00:33:42.265257Z",
     "start_time": "2022-07-27T00:33:42.219968Z"
    }
   },
   "outputs": [],
   "source": [
    "def preprocessing(dfdata):\n",
    "\n",
    "    dfresult= pd.DataFrame()\n",
    "\n",
    "    #Pclass\n",
    "    dfPclass = pd.get_dummies(dfdata['Pclass'])\n",
    "    dfPclass.columns = ['Pclass_' +str(x) for x in dfPclass.columns ]\n",
    "    dfresult = pd.concat([dfresult,dfPclass],axis = 1)\n",
    "\n",
    "    #Sex\n",
    "    dfSex = pd.get_dummies(dfdata['Sex'])\n",
    "    dfresult = pd.concat([dfresult,dfSex],axis = 1)\n",
    "\n",
    "    #Age\n",
    "    dfresult['Age'] = dfdata['Age'].fillna(0)\n",
    "    dfresult['Age_null'] = pd.isna(dfdata['Age']).astype('int32')\n",
    "\n",
    "    #SibSp,Parch,Fare\n",
    "    dfresult['SibSp'] = dfdata['SibSp']\n",
    "    dfresult['Parch'] = dfdata['Parch']\n",
    "    dfresult['Fare'] = dfdata['Fare']\n",
    "\n",
    "    #Carbin\n",
    "    dfresult['Cabin_null'] =  pd.isna(dfdata['Cabin']).astype('int32')\n",
    "\n",
    "    #Embarked\n",
    "    dfEmbarked = pd.get_dummies(dfdata['Embarked'],dummy_na=True)\n",
    "    dfEmbarked.columns = ['Embarked_' + str(x) for x in dfEmbarked.columns]\n",
    "    dfresult = pd.concat([dfresult,dfEmbarked],axis = 1)\n",
    "\n",
    "    return(dfresult)\n",
    "\n",
    "X_train = preprocessing(train_raw)\n",
    "y_train = train_raw['Survived'].values\n",
    "X_test = preprocessing(test_raw)"
   ]
  },
  {
   "cell_type": "code",
   "execution_count": 21,
   "id": "151ee3a8",
   "metadata": {
    "ExecuteTime": {
     "end_time": "2022-07-27T00:33:42.949647Z",
     "start_time": "2022-07-27T00:33:42.939154Z"
    }
   },
   "outputs": [],
   "source": [
    "X_train = np.array(X_train)\n",
    "y_train = np.array(y_train)\n",
    "\n",
    "X_test = np.array(X_test)"
   ]
  },
  {
   "cell_type": "code",
   "execution_count": 22,
   "id": "eb2c0d1c",
   "metadata": {
    "ExecuteTime": {
     "end_time": "2022-07-27T00:33:43.609926Z",
     "start_time": "2022-07-27T00:33:43.600828Z"
    }
   },
   "outputs": [
    {
     "data": {
      "text/plain": [
       "(891, 15)"
      ]
     },
     "execution_count": 22,
     "metadata": {},
     "output_type": "execute_result"
    }
   ],
   "source": [
    "X_train.shape"
   ]
  },
  {
   "cell_type": "code",
   "execution_count": 23,
   "id": "3af0a54c",
   "metadata": {
    "ExecuteTime": {
     "end_time": "2022-07-27T00:33:44.370820Z",
     "start_time": "2022-07-27T00:33:44.347382Z"
    }
   },
   "outputs": [
    {
     "data": {
      "text/plain": [
       "StandardScaler()"
      ]
     },
     "execution_count": 23,
     "metadata": {},
     "output_type": "execute_result"
    }
   ],
   "source": [
    "Normarizascaler = StandardScaler()\n",
    "Normarizascaler.fit(X_train)"
   ]
  },
  {
   "cell_type": "code",
   "execution_count": 24,
   "id": "d8645395",
   "metadata": {
    "ExecuteTime": {
     "end_time": "2022-07-27T00:33:45.307461Z",
     "start_time": "2022-07-27T00:33:45.292279Z"
    }
   },
   "outputs": [],
   "source": [
    "X_train = Normarizascaler.transform(X_train)\n",
    "X_test = Normarizascaler.transform(X_test)"
   ]
  },
  {
   "cell_type": "code",
   "execution_count": 25,
   "id": "4cef9229",
   "metadata": {
    "ExecuteTime": {
     "end_time": "2022-07-27T00:33:49.554885Z",
     "start_time": "2022-07-27T00:33:49.544262Z"
    }
   },
   "outputs": [],
   "source": [
    "X_train = torch.from_numpy(X_train).float()\n",
    "y_train = torch.from_numpy(y_train).long()\n",
    "\n",
    "X_test = torch.from_numpy(X_test).float()"
   ]
  },
  {
   "cell_type": "code",
   "execution_count": 26,
   "id": "b80e073e",
   "metadata": {
    "ExecuteTime": {
     "end_time": "2022-07-27T00:33:52.057045Z",
     "start_time": "2022-07-27T00:33:52.041153Z"
    }
   },
   "outputs": [],
   "source": [
    "class Model(nn.Module):\n",
    "    def __init__(self, input_dim):\n",
    "        super().__init__()\n",
    "        self.l1 = nn.Linear(input_dim, 20)\n",
    "        self.a1 = nn.ReLU()\n",
    "        self.l2 = nn.Linear(20, 10)\n",
    "        self.a2 = nn.ReLU()\n",
    "        self.l3 = nn.Linear(10, 2)\n",
    "        \n",
    "        self.layers = [self.l1, self.a1, self.l2, self.a2, self.l3]\n",
    "        \n",
    "    def forward(self, x):\n",
    "        for layer in self.layers:\n",
    "            x = layer(x)\n",
    "        return x"
   ]
  },
  {
   "cell_type": "code",
   "execution_count": 33,
   "id": "db720a17",
   "metadata": {
    "ExecuteTime": {
     "end_time": "2022-07-27T00:38:06.854718Z",
     "start_time": "2022-07-27T00:38:06.844106Z"
    }
   },
   "outputs": [],
   "source": [
    "def train(train_dataloader, model, optimizer):\n",
    "    total_loss = 0\n",
    "    for data in train_dataloader:\n",
    "        features, targets = data                  \n",
    "        outputs = model(features)\n",
    "        loss = loss_fn(outputs, targets)\n",
    "        optimizer.zero_grad()\n",
    "        loss.backward()\n",
    "        optimizer.step()\n",
    "        total_loss += loss.item()\n",
    "    return model, total_loss"
   ]
  },
  {
   "cell_type": "code",
   "execution_count": 28,
   "id": "8ea0d799",
   "metadata": {
    "ExecuteTime": {
     "end_time": "2022-07-27T00:33:58.426371Z",
     "start_time": "2022-07-27T00:33:58.414972Z"
    }
   },
   "outputs": [],
   "source": [
    "def val(val_dataloader, model):\n",
    "    with torch.no_grad():\n",
    "        total_accuracy = 0\n",
    "        total_loss = 0\n",
    "        for data in val_dataloader:\n",
    "            features, targets = data\n",
    "            outputs = model(features)\n",
    "            loss = loss_fn(outputs, targets)\n",
    "            y_val_preds = outputs.argmax(1)\n",
    "            accuracy = (y_val_preds == targets).sum()\n",
    "            total_accuracy += accuracy.item()\n",
    "            total_loss += loss.item()\n",
    "        total_accuracy = total_accuracy / len(val_dataloader.dataset)\n",
    "        return total_accuracy, total_loss\n"
   ]
  },
  {
   "cell_type": "code",
   "execution_count": null,
   "id": "fd61257e",
   "metadata": {},
   "outputs": [],
   "source": [
    "# 开始训练 5折交叉验证，把五次模型的预测结果进行平均加权\n",
    "k = 5\n",
    "n_epochs = 100\n",
    "\n",
    "cv_aucs = []\n",
    "full_val_preds = np.zeros(X_train.shape[0])\n",
    "y_preds = np.zeros(X_test.shape[0])\n",
    "\n",
    "kfold = StratifiedKFold(n_splits=k, shuffle=True, random_state=3)\n",
    "\n",
    "for fold_num, (train_index, val_index) in enumerate(kfold.split(X_train, y_train)):\n",
    "    print(f\"=============Fold {fold_num}==============\")\n",
    "    # data  \n",
    "    X_train_f, X_val_f = X_train[train_index], X_train[val_index]\n",
    "    y_train_f, y_val_f = y_train[train_index], y_train[val_index]\n",
    "    \n",
    "    train_dataset = TensorDataset(X_train_f, y_train_f)\n",
    "    val_dataset = TensorDataset(X_val_f, y_val_f)\n",
    "    \n",
    "    train_dataloader = DataLoader(train_dataset, batch_size=64, shuffle=True)\n",
    "    val_dataloader = DataLoader(val_dataset, batch_size=64, shuffle=False)\n",
    "    \n",
    "    # 需要在每次fold时都重新定义一遍，要不然会在上一次model训练的结果上，继续训练\n",
    "    model = Model(X_train.shape[1])\n",
    "    loss_fn = nn.CrossEntropyLoss()\n",
    "    optimizer = optim.SGD(model.parameters(), lr=0.001)\n",
    "    \n",
    "#     result = []\n",
    "    bestscore = 0\n",
    "    for i in range(n_epochs):\n",
    "        model, train_loss = train(train_dataloader, model, optimizer)\n",
    "        val_accuracy, val_loss = val(val_dataloader, model)\n",
    "#         result.append([i, train_loss, val_loss, val_accuracy])\n",
    "#         if i % 10 == 0:\n",
    "        print(\"\\n epoch %d, train loss: %.2f, val loss: %.2f, val accuracy: %.2f\" \n",
    "              % (i, train_loss, val_loss, val_accuracy))\n",
    "        if bestscore < val_accuracy:\n",
    "            bestscore = val_accuracy\n",
    "            state = {\n",
    "                     'state_dict': model.state_dict(),\n",
    "                     'optimizer_dict': optimizer.state_dict(),\n",
    "                     'bestscore': bestscore\n",
    "            } \n",
    "    torch.save(state, f\"models/model{fold_num}.pth\")"
   ]
  },
  {
   "cell_type": "code",
   "execution_count": 43,
   "id": "2270f576",
   "metadata": {
    "ExecuteTime": {
     "end_time": "2022-07-27T00:54:09.618921Z",
     "start_time": "2022-07-27T00:54:09.610094Z"
    }
   },
   "outputs": [],
   "source": [
    "y_test = torch.zeros(X_test.shape[0])\n",
    "test_dataset = TensorDataset(X_test, y_test)\n",
    "test_dataloader = DataLoader(test_dataset, batch_size=64, shuffle=False)"
   ]
  },
  {
   "cell_type": "code",
   "execution_count": 50,
   "id": "c3e2e723",
   "metadata": {
    "ExecuteTime": {
     "end_time": "2022-07-27T01:09:54.114693Z",
     "start_time": "2022-07-27T01:09:54.101150Z"
    }
   },
   "outputs": [
    {
     "name": "stdout",
     "output_type": "stream",
     "text": [
      "torch.Size([64])\n"
     ]
    }
   ],
   "source": [
    "for a in test_dataloader:\n",
    "    print(a[1].shape)\n",
    "    break"
   ]
  },
  {
   "cell_type": "code",
   "execution_count": 88,
   "id": "80874cc1",
   "metadata": {
    "ExecuteTime": {
     "end_time": "2022-07-27T01:38:27.659358Z",
     "start_time": "2022-07-27T01:38:27.637843Z"
    }
   },
   "outputs": [],
   "source": [
    "def inference(model, state_lists, test_dataloader):\n",
    "    allpreds = 0\n",
    "    model.eval()\n",
    "    with torch.no_grad():\n",
    "        # load the trained model\n",
    "        for state in state_lists:\n",
    "            print(f\"State: {state}\")\n",
    "            state_dict = torch.load(state)\n",
    "            model.load_state_dict(state_dict[\"state_dict\"])\n",
    "            \n",
    "            # predict\n",
    "            preds = []\n",
    "            for a in test_dataloader:\n",
    "                # get X_test from test_dataloader\n",
    "                output = model(a[0])\n",
    "                preds.append(output.squeeze(-1).detach().cpu().numpy())\n",
    "            \n",
    "            allpreds += np.concatenate(preds)\n",
    "    \n",
    "        return allpreds / 5            "
   ]
  },
  {
   "cell_type": "code",
   "execution_count": 89,
   "id": "28a4b2a2",
   "metadata": {
    "ExecuteTime": {
     "end_time": "2022-07-27T01:38:28.205603Z",
     "start_time": "2022-07-27T01:38:28.161923Z"
    }
   },
   "outputs": [
    {
     "name": "stdout",
     "output_type": "stream",
     "text": [
      "State: models/model0.pth\n",
      "State: models/model1.pth\n",
      "State: models/model3.pth\n",
      "State: models/model2.pth\n",
      "State: models/model4.pth\n"
     ]
    }
   ],
   "source": [
    "state_lists = [os.path.join(\"models\", x) for x in os.listdir(\"models\") if x.endswith(\".pth\")]\n",
    "predict_results = inference(model, state_lists, test_dataloader)"
   ]
  },
  {
   "cell_type": "code",
   "execution_count": 99,
   "id": "cb2b31e4",
   "metadata": {
    "ExecuteTime": {
     "end_time": "2022-07-27T01:43:59.088657Z",
     "start_time": "2022-07-27T01:43:59.074625Z"
    }
   },
   "outputs": [],
   "source": [
    "pred = [s.argmax() for s in predict_results]\n",
    "df = {'PassengerId': test_raw.PassengerId, 'Transported': pred}\n",
    "df_preds = pd.DataFrame(df).set_index(['PassengerId'])\n",
    "df_preds.to_csv('pytorch_predction.csv')"
   ]
  }
 ],
 "metadata": {
  "kernelspec": {
   "display_name": "Python 3 (ipykernel)",
   "language": "python",
   "name": "python3"
  },
  "language_info": {
   "codemirror_mode": {
    "name": "ipython",
    "version": 3
   },
   "file_extension": ".py",
   "mimetype": "text/x-python",
   "name": "python",
   "nbconvert_exporter": "python",
   "pygments_lexer": "ipython3",
   "version": "3.10.4"
  },
  "toc": {
   "base_numbering": 1,
   "nav_menu": {},
   "number_sections": true,
   "sideBar": true,
   "skip_h1_title": false,
   "title_cell": "Table of Contents",
   "title_sidebar": "Contents",
   "toc_cell": false,
   "toc_position": {},
   "toc_section_display": true,
   "toc_window_display": false
  }
 },
 "nbformat": 4,
 "nbformat_minor": 5
}
